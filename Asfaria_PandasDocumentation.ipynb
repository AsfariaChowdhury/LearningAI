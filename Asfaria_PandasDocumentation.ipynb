{
 "cells": [
  {
   "cell_type": "markdown",
   "id": "0c8f81f1-a5f0-4fa8-ba78-51a858fca491",
   "metadata": {},
   "source": [
    "# 1. What kind of data does pandas handle?"
   ]
  },
  {
   "cell_type": "code",
   "execution_count": 1,
   "id": "8c40d16b-363e-43be-9cb9-383d880bf1ab",
   "metadata": {
    "tags": []
   },
   "outputs": [],
   "source": [
    "import pandas as pd"
   ]
  },
  {
   "cell_type": "markdown",
   "id": "bc5be0f0-f52e-482b-ab94-77bb7f9f5e40",
   "metadata": {},
   "source": [
    "*I want to store passenger data of the Titanic. For a number of passengers, I know the name (characters), age (integers) and sex (male/female) data.*"
   ]
  },
  {
   "cell_type": "code",
   "execution_count": 2,
   "id": "20fba7a9-2af9-4168-ac19-1e985c7c2bb6",
   "metadata": {
    "tags": []
   },
   "outputs": [
    {
     "data": {
      "text/html": [
       "<div>\n",
       "<style scoped>\n",
       "    .dataframe tbody tr th:only-of-type {\n",
       "        vertical-align: middle;\n",
       "    }\n",
       "\n",
       "    .dataframe tbody tr th {\n",
       "        vertical-align: top;\n",
       "    }\n",
       "\n",
       "    .dataframe thead th {\n",
       "        text-align: right;\n",
       "    }\n",
       "</style>\n",
       "<table border=\"1\" class=\"dataframe\">\n",
       "  <thead>\n",
       "    <tr style=\"text-align: right;\">\n",
       "      <th></th>\n",
       "      <th>Name</th>\n",
       "      <th>Age</th>\n",
       "      <th>Sex</th>\n",
       "    </tr>\n",
       "  </thead>\n",
       "  <tbody>\n",
       "    <tr>\n",
       "      <th>0</th>\n",
       "      <td>Braund, Mr. Owen Harris</td>\n",
       "      <td>22</td>\n",
       "      <td>male</td>\n",
       "    </tr>\n",
       "    <tr>\n",
       "      <th>1</th>\n",
       "      <td>Allen, Mr. William Henry</td>\n",
       "      <td>35</td>\n",
       "      <td>male</td>\n",
       "    </tr>\n",
       "    <tr>\n",
       "      <th>2</th>\n",
       "      <td>Bonnell, Miss. Elizabeth</td>\n",
       "      <td>58</td>\n",
       "      <td>female</td>\n",
       "    </tr>\n",
       "  </tbody>\n",
       "</table>\n",
       "</div>"
      ],
      "text/plain": [
       "                       Name  Age     Sex\n",
       "0   Braund, Mr. Owen Harris   22    male\n",
       "1  Allen, Mr. William Henry   35    male\n",
       "2  Bonnell, Miss. Elizabeth   58  female"
      ]
     },
     "execution_count": 2,
     "metadata": {},
     "output_type": "execute_result"
    }
   ],
   "source": [
    "df = pd.DataFrame(\n",
    "    {\n",
    "        \"Name\": [\n",
    "            \"Braund, Mr. Owen Harris\",\n",
    "            \"Allen, Mr. William Henry\",\n",
    "            \"Bonnell, Miss. Elizabeth\",\n",
    "        ],\n",
    "        \"Age\": [22,35,58],\n",
    "        \"Sex\": [\"male\",\"male\",\"female\"],\n",
    "    }\n",
    ")\n",
    "\n",
    "df"
   ]
  },
  {
   "cell_type": "markdown",
   "id": "402e3584-a510-45f9-95f3-03873545c5a6",
   "metadata": {},
   "source": [
    "To manually store data in a table, create a `DataFrame`. When using a Python dictionary of lists, the dictionary keys will be used as column headers and the values in each list as columns of the `DataFrame`."
   ]
  },
  {
   "cell_type": "markdown",
   "id": "9c629492-17eb-4a81-81be-b256b6c56fc5",
   "metadata": {},
   "source": [
    "A `DataFrame` is a 2-dimensional data structure that can store data of different types (including characters, integers, floating point values, categorical data and more) in columns."
   ]
  },
  {
   "cell_type": "markdown",
   "id": "0e9e31cb-ca51-4a55-82df-0487deb0f198",
   "metadata": {},
   "source": [
    "The table has 3 columns, each of them with a column label. The column labels are respectively `Name`, `Age` and `Sex`."
   ]
  },
  {
   "cell_type": "markdown",
   "id": "e3847ca6-630b-4e8d-a24a-7e996fe871e0",
   "metadata": {},
   "source": [
    "Each column in a `DataFrame` is a `Series`."
   ]
  },
  {
   "cell_type": "markdown",
   "id": "cc7f1b1a-0b1e-4921-80c0-4b027312a239",
   "metadata": {},
   "source": [
    "*I’m just interested in working with the data in the column `Age`.*"
   ]
  },
  {
   "cell_type": "code",
   "execution_count": 3,
   "id": "04712956-f803-4b17-a8bd-4ee6f93eee92",
   "metadata": {
    "tags": []
   },
   "outputs": [
    {
     "data": {
      "text/plain": [
       "0    22\n",
       "1    35\n",
       "2    58\n",
       "Name: Age, dtype: int64"
      ]
     },
     "execution_count": 3,
     "metadata": {},
     "output_type": "execute_result"
    }
   ],
   "source": [
    "df[\"Age\"]"
   ]
  },
  {
   "cell_type": "markdown",
   "id": "bf52d604-68a9-4322-a858-a867f94041e5",
   "metadata": {},
   "source": [
    "When selecting a single column of a pandas `DataFrame`, the result is a pandas `Series`. "
   ]
  },
  {
   "cell_type": "markdown",
   "id": "15af5cb5-56c9-4e03-aad5-56a500c37fec",
   "metadata": {},
   "source": [
    "You can create a `Series` from scratch as well:"
   ]
  },
  {
   "cell_type": "code",
   "execution_count": 4,
   "id": "f45e4a06-8e76-4a51-a292-fb7e85739a01",
   "metadata": {
    "tags": []
   },
   "outputs": [
    {
     "data": {
      "text/plain": [
       "0    22\n",
       "1    35\n",
       "2    58\n",
       "Name: Age, dtype: int64"
      ]
     },
     "execution_count": 4,
     "metadata": {},
     "output_type": "execute_result"
    }
   ],
   "source": [
    "ages = pd.Series([22,35,58], name=\"Age\")\n",
    "ages"
   ]
  },
  {
   "cell_type": "markdown",
   "id": "2a797a91-324a-4d76-8375-04ca468eb13a",
   "metadata": {},
   "source": [
    "A pandas `Series` has no column labels, as it is just a single column of a `DataFrame`. A Series does have row labels."
   ]
  },
  {
   "cell_type": "markdown",
   "id": "ff926172-c181-4042-af27-07799454833a",
   "metadata": {},
   "source": [
    "*I want to know the maximum Age of the passengers.*"
   ]
  },
  {
   "cell_type": "code",
   "execution_count": 5,
   "id": "7ecf238e-bc9c-44ba-b101-c5759984a8ce",
   "metadata": {
    "tags": []
   },
   "outputs": [
    {
     "data": {
      "text/plain": [
       "58"
      ]
     },
     "execution_count": 5,
     "metadata": {},
     "output_type": "execute_result"
    }
   ],
   "source": [
    "df[\"Age\"].max()"
   ]
  },
  {
   "cell_type": "code",
   "execution_count": 6,
   "id": "6db070a6-a1cd-4613-afef-7fa81391b571",
   "metadata": {
    "tags": []
   },
   "outputs": [
    {
     "data": {
      "text/plain": [
       "58"
      ]
     },
     "execution_count": 6,
     "metadata": {},
     "output_type": "execute_result"
    }
   ],
   "source": [
    "# Or, the series\n",
    "ages.max()"
   ]
  },
  {
   "cell_type": "markdown",
   "id": "9d8a2259-1534-4cc9-b1a2-f3c62dec3587",
   "metadata": {},
   "source": [
    "*I’m interested in some basic statistics of the numerical data of my data table.*"
   ]
  },
  {
   "cell_type": "code",
   "execution_count": 7,
   "id": "f90fa959-0c3b-4fd2-bf24-9948989661f7",
   "metadata": {
    "tags": []
   },
   "outputs": [
    {
     "data": {
      "text/html": [
       "<div>\n",
       "<style scoped>\n",
       "    .dataframe tbody tr th:only-of-type {\n",
       "        vertical-align: middle;\n",
       "    }\n",
       "\n",
       "    .dataframe tbody tr th {\n",
       "        vertical-align: top;\n",
       "    }\n",
       "\n",
       "    .dataframe thead th {\n",
       "        text-align: right;\n",
       "    }\n",
       "</style>\n",
       "<table border=\"1\" class=\"dataframe\">\n",
       "  <thead>\n",
       "    <tr style=\"text-align: right;\">\n",
       "      <th></th>\n",
       "      <th>Age</th>\n",
       "    </tr>\n",
       "  </thead>\n",
       "  <tbody>\n",
       "    <tr>\n",
       "      <th>count</th>\n",
       "      <td>3.000000</td>\n",
       "    </tr>\n",
       "    <tr>\n",
       "      <th>mean</th>\n",
       "      <td>38.333333</td>\n",
       "    </tr>\n",
       "    <tr>\n",
       "      <th>std</th>\n",
       "      <td>18.230012</td>\n",
       "    </tr>\n",
       "    <tr>\n",
       "      <th>min</th>\n",
       "      <td>22.000000</td>\n",
       "    </tr>\n",
       "    <tr>\n",
       "      <th>25%</th>\n",
       "      <td>28.500000</td>\n",
       "    </tr>\n",
       "    <tr>\n",
       "      <th>50%</th>\n",
       "      <td>35.000000</td>\n",
       "    </tr>\n",
       "    <tr>\n",
       "      <th>75%</th>\n",
       "      <td>46.500000</td>\n",
       "    </tr>\n",
       "    <tr>\n",
       "      <th>max</th>\n",
       "      <td>58.000000</td>\n",
       "    </tr>\n",
       "  </tbody>\n",
       "</table>\n",
       "</div>"
      ],
      "text/plain": [
       "             Age\n",
       "count   3.000000\n",
       "mean   38.333333\n",
       "std    18.230012\n",
       "min    22.000000\n",
       "25%    28.500000\n",
       "50%    35.000000\n",
       "75%    46.500000\n",
       "max    58.000000"
      ]
     },
     "execution_count": 7,
     "metadata": {},
     "output_type": "execute_result"
    }
   ],
   "source": [
    "df.describe()"
   ]
  },
  {
   "cell_type": "markdown",
   "id": "44ac6430-3ac3-4aa5-9f40-fd76f2366c9c",
   "metadata": {},
   "source": [
    "The `describe()` method provides a quick overview of the numerical data in a `DataFrame`. As the `Name` and `Sex` columns are textual data, these are by default not taken into account by the `describe()` method."
   ]
  },
  {
   "cell_type": "code",
   "execution_count": null,
   "id": "ebde2a0f-b43b-4f0d-8eca-d8720b9e2bc3",
   "metadata": {},
   "outputs": [],
   "source": []
  }
 ],
 "metadata": {
  "kernelspec": {
   "display_name": "itil",
   "language": "python",
   "name": "itil"
  },
  "language_info": {
   "codemirror_mode": {
    "name": "ipython",
    "version": 3
   },
   "file_extension": ".py",
   "mimetype": "text/x-python",
   "name": "python",
   "nbconvert_exporter": "python",
   "pygments_lexer": "ipython3",
   "version": "3.11.4"
  }
 },
 "nbformat": 4,
 "nbformat_minor": 5
}
