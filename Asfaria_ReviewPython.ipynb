{
  "nbformat": 4,
  "nbformat_minor": 0,
  "metadata": {
    "colab": {
      "provenance": []
    },
    "kernelspec": {
      "name": "python3",
      "display_name": "Python 3"
    },
    "language_info": {
      "name": "python"
    }
  },
  "cells": [
    {
      "cell_type": "code",
      "execution_count": null,
      "metadata": {
        "colab": {
          "base_uri": "https://localhost:8080/"
        },
        "id": "OYT0LycVLxrl",
        "outputId": "913581ea-fcad-44f9-fa5b-2d88612f52ec"
      },
      "outputs": [
        {
          "output_type": "execute_result",
          "data": {
            "text/plain": [
              "5"
            ]
          },
          "metadata": {},
          "execution_count": 1
        }
      ],
      "source": [
        "2+3"
      ]
    },
    {
      "cell_type": "code",
      "source": [
        "print(\"k\")"
      ],
      "metadata": {
        "colab": {
          "base_uri": "https://localhost:8080/"
        },
        "id": "kjcZ9paUP1Mf",
        "outputId": "3824ce8b-6246-4441-91a5-0cb476cfcca8"
      },
      "execution_count": null,
      "outputs": [
        {
          "output_type": "stream",
          "name": "stdout",
          "text": [
            "k\n"
          ]
        }
      ]
    },
    {
      "cell_type": "code",
      "source": [
        "num1 = float(input())\n",
        "num2 = float(input())\n",
        "print(num1+num2)"
      ],
      "metadata": {
        "colab": {
          "base_uri": "https://localhost:8080/"
        },
        "id": "2y1cwQUZRGY7",
        "outputId": "11217b77-00a8-43b1-97c9-b7b91706e5b2"
      },
      "execution_count": null,
      "outputs": [
        {
          "output_type": "stream",
          "name": "stdout",
          "text": [
            "2\n",
            "3\n",
            "5.0\n"
          ]
        }
      ]
    },
    {
      "cell_type": "markdown",
      "source": [
        "Write a Python program that computes the factorial of an\n",
        "integer"
      ],
      "metadata": {
        "id": "hKXfAPZASRSk"
      }
    },
    {
      "cell_type": "code",
      "source": [
        "import math as mh\n",
        "\n",
        "num = 5\n",
        "\n",
        "print(mh.factorial(num))"
      ],
      "metadata": {
        "colab": {
          "base_uri": "https://localhost:8080/"
        },
        "id": "lR2wwnCmSSKQ",
        "outputId": "d5dad153-274b-4711-a2a0-adfbacfbfaf2"
      },
      "execution_count": null,
      "outputs": [
        {
          "output_type": "stream",
          "name": "stdout",
          "text": [
            "120\n"
          ]
        }
      ]
    },
    {
      "cell_type": "code",
      "source": [
        "fact = 1\n",
        "for i in range(1,6):\n",
        "  fact = fact*i\n",
        "\n",
        "fact"
      ],
      "metadata": {
        "colab": {
          "base_uri": "https://localhost:8080/"
        },
        "id": "sKXFMN7qSyw1",
        "outputId": "8449b001-cb57-4ca5-fda2-af43480faa29"
      },
      "execution_count": null,
      "outputs": [
        {
          "output_type": "execute_result",
          "data": {
            "text/plain": [
              "120"
            ]
          },
          "metadata": {},
          "execution_count": 10
        }
      ]
    },
    {
      "cell_type": "code",
      "source": [
        "from math import *\n",
        "sin(30)"
      ],
      "metadata": {
        "colab": {
          "base_uri": "https://localhost:8080/"
        },
        "id": "8nvFfQkqUwdW",
        "outputId": "ec960b6c-3800-4136-9435-9773828d1882"
      },
      "execution_count": null,
      "outputs": [
        {
          "output_type": "execute_result",
          "data": {
            "text/plain": [
              "-0.9880316240928618"
            ]
          },
          "metadata": {},
          "execution_count": 14
        }
      ]
    },
    {
      "cell_type": "code",
      "source": [
        "number = 1\n",
        "while number < 200:\n",
        "  print(number)\n",
        "  number = number * 2"
      ],
      "metadata": {
        "colab": {
          "base_uri": "https://localhost:8080/"
        },
        "id": "IdFIRdxTXMRP",
        "outputId": "44c98313-2add-41f0-9bae-f0ed9bc773e1"
      },
      "execution_count": null,
      "outputs": [
        {
          "output_type": "stream",
          "name": "stdout",
          "text": [
            "1\n",
            "2\n",
            "4\n",
            "8\n",
            "16\n",
            "32\n",
            "64\n",
            "128\n"
          ]
        }
      ]
    },
    {
      "cell_type": "code",
      "source": [
        "x = [2,9]\n",
        "y = x\n",
        "y.append(5)\n",
        "x\n",
        "y = None\n",
        "x"
      ],
      "metadata": {
        "colab": {
          "base_uri": "https://localhost:8080/"
        },
        "id": "Id_QUIUEXrnL",
        "outputId": "9ebe3bb1-4677-49e8-cc74-ec5aff7c9c0d"
      },
      "execution_count": null,
      "outputs": [
        {
          "output_type": "execute_result",
          "data": {
            "text/plain": [
              "[2, 9, 5]"
            ]
          },
          "metadata": {},
          "execution_count": 18
        }
      ]
    },
    {
      "cell_type": "code",
      "source": [
        "y = x\n",
        "x = x + [9,10]\n",
        "y"
      ],
      "metadata": {
        "colab": {
          "base_uri": "https://localhost:8080/"
        },
        "id": "KQsa4s4bbKSZ",
        "outputId": "1e812a74-2c01-4825-cbfc-beb81267e74f"
      },
      "execution_count": null,
      "outputs": [
        {
          "output_type": "execute_result",
          "data": {
            "text/plain": [
              "[2, 9, 5]"
            ]
          },
          "metadata": {},
          "execution_count": 19
        }
      ]
    },
    {
      "cell_type": "code",
      "source": [
        "tuple1 = (9,)\n",
        "tuple1"
      ],
      "metadata": {
        "colab": {
          "base_uri": "https://localhost:8080/"
        },
        "id": "0CHiKtWHbwO0",
        "outputId": "a78fbc86-6d8e-4144-80f9-55ca4663a038"
      },
      "execution_count": null,
      "outputs": [
        {
          "output_type": "execute_result",
          "data": {
            "text/plain": [
              "(9,)"
            ]
          },
          "metadata": {},
          "execution_count": 20
        }
      ]
    },
    {
      "cell_type": "code",
      "source": [
        "set1 = set(x)\n",
        "set1"
      ],
      "metadata": {
        "colab": {
          "base_uri": "https://localhost:8080/"
        },
        "id": "oYWlcu2Ub0bl",
        "outputId": "5f11bfd6-3dbb-4b4f-d9dd-846a613ba637"
      },
      "execution_count": null,
      "outputs": [
        {
          "output_type": "execute_result",
          "data": {
            "text/plain": [
              "{2, 5, 9, 10}"
            ]
          },
          "metadata": {},
          "execution_count": 21
        }
      ]
    },
    {
      "cell_type": "code",
      "source": [
        "address = {\n",
        "    'Wayne': 'Young 678',\n",
        "    'John': 'Oakwood 345',\n",
        "    'Mary': 'Kingston 564'\n",
        "}\n",
        "\n",
        "for k in address.keys():\n",
        "  print(k, \":\", address[k])"
      ],
      "metadata": {
        "colab": {
          "base_uri": "https://localhost:8080/"
        },
        "id": "d8R9qtYfcBdM",
        "outputId": "08cf2b1a-276d-40df-f7bc-9c05773cf073"
      },
      "execution_count": null,
      "outputs": [
        {
          "output_type": "stream",
          "name": "stdout",
          "text": [
            "Wayne : Young 678\n",
            "John : Oakwood 345\n",
            "Mary : Kingston 564\n"
          ]
        }
      ]
    },
    {
      "cell_type": "code",
      "source": [
        "for k in sorted(address.keys()):\n",
        "  print(k,\":\",address[k])"
      ],
      "metadata": {
        "colab": {
          "base_uri": "https://localhost:8080/"
        },
        "id": "7AY-DHUtdQC0",
        "outputId": "e3343cf9-14bb-4643-ed69-fd6cafc97d81"
      },
      "execution_count": null,
      "outputs": [
        {
          "output_type": "stream",
          "name": "stdout",
          "text": [
            "John : Oakwood 345\n",
            "Mary : Kingston 564\n",
            "Wayne : Young 678\n"
          ]
        }
      ]
    },
    {
      "cell_type": "code",
      "source": [
        "def main():\n",
        "  print (\"I have a message for you.\")\n",
        "  message()\n",
        "  print (\"Goodbye!\")\n",
        "def message():\n",
        "  print (\"The password is ‘foo’\")\n",
        "main()\n"
      ],
      "metadata": {
        "colab": {
          "base_uri": "https://localhost:8080/"
        },
        "id": "7ZuGDA99dhlf",
        "outputId": "6559257a-b4ea-4d65-fe2b-cf82be62d67e"
      },
      "execution_count": null,
      "outputs": [
        {
          "output_type": "stream",
          "name": "stdout",
          "text": [
            "I have a message for you.\n",
            "The password is ‘foo’\n",
            "Goodbye!\n"
          ]
        }
      ]
    },
    {
      "cell_type": "code",
      "source": [
        "name = 'Obama'\n",
        "def showname():\n",
        "  global name\n",
        "  print (\"Function 1:\", name)\n",
        "  name = 'John'\n",
        "  print (\"Function 2:\", name)\n",
        "print (\"Main program 1:\", name)\n",
        "showname()\n",
        "print (\"Main program 2:\", name)\n"
      ],
      "metadata": {
        "colab": {
          "base_uri": "https://localhost:8080/"
        },
        "id": "1oclpvxfnXju",
        "outputId": "d2b8040a-14ee-4896-bab7-85fd24450b8d"
      },
      "execution_count": null,
      "outputs": [
        {
          "output_type": "stream",
          "name": "stdout",
          "text": [
            "Main program 1: Obama\n",
            "Function 1: Obama\n",
            "Function 2: John\n",
            "Main program 2: John\n"
          ]
        }
      ]
    },
    {
      "cell_type": "code",
      "source": [
        "tup = ()\n",
        "type(tup)"
      ],
      "metadata": {
        "colab": {
          "base_uri": "https://localhost:8080/"
        },
        "id": "Ltx-KK-DncaP",
        "outputId": "5612b0d7-c3e0-4ad7-9219-5bb4bfd630ef"
      },
      "execution_count": null,
      "outputs": [
        {
          "output_type": "execute_result",
          "data": {
            "text/plain": [
              "tuple"
            ]
          },
          "metadata": {},
          "execution_count": 32
        }
      ]
    },
    {
      "cell_type": "markdown",
      "source": [
        "# Self Practice"
      ],
      "metadata": {
        "id": "syNK4UkNTAfZ"
      }
    },
    {
      "cell_type": "code",
      "source": [
        "type(1)\n",
        "type(-10)\n",
        "type(0)\n",
        "type(0.0)\n",
        "type(2.2)\n",
        "type(4E2)"
      ],
      "metadata": {
        "colab": {
          "base_uri": "https://localhost:8080/"
        },
        "id": "MBmyX52lTD3N",
        "outputId": "5a032d79-83a1-4bba-dd37-c5a45e469bad"
      },
      "execution_count": null,
      "outputs": [
        {
          "output_type": "execute_result",
          "data": {
            "text/plain": [
              "float"
            ]
          },
          "metadata": {},
          "execution_count": 7
        }
      ]
    },
    {
      "cell_type": "code",
      "source": [
        "print(\n",
        "    10+3,\n",
        "    10-3,\n",
        "    10*3,\n",
        "    10**3,\n",
        "    10/3,\n",
        "    10//3,\n",
        "    10%3\n",
        ")"
      ],
      "metadata": {
        "colab": {
          "base_uri": "https://localhost:8080/"
        },
        "id": "RYMErThjTq_l",
        "outputId": "f3cfe539-4fa8-4858-aec1-8e31730732e1"
      },
      "execution_count": null,
      "outputs": [
        {
          "output_type": "stream",
          "name": "stdout",
          "text": [
            "13 7 30 1000 3.3333333333333335 3 1\n"
          ]
        }
      ]
    },
    {
      "cell_type": "code",
      "source": [
        "print(\n",
        "    pow(5,2),\n",
        "    abs(-50),\n",
        "    round(5.46),\n",
        "    round(5.468,2),\n",
        "    bin(512),\n",
        "    hex(512)\n",
        ")"
      ],
      "metadata": {
        "colab": {
          "base_uri": "https://localhost:8080/"
        },
        "id": "9gUto7pRULvQ",
        "outputId": "e46458b8-d3ea-4f76-e9e6-c74045bcf8f5"
      },
      "execution_count": null,
      "outputs": [
        {
          "output_type": "stream",
          "name": "stdout",
          "text": [
            "25 50 5 5.47 0b1000000000 0x200\n"
          ]
        }
      ]
    },
    {
      "cell_type": "code",
      "source": [
        "age = input(\"How old are you?\")\n",
        "print(type(age))\n",
        "age = int(age)\n",
        "print(type(age))\n",
        "pi = input(\"What is the value of pi?\")\n",
        "print(type(pi))\n",
        "pi = float(pi)\n",
        "print(type(pi))"
      ],
      "metadata": {
        "colab": {
          "base_uri": "https://localhost:8080/"
        },
        "id": "4YuR7WhVUjZX",
        "outputId": "1afc8353-f845-4783-8bf6-7405a28c93d9"
      },
      "execution_count": null,
      "outputs": [
        {
          "output_type": "stream",
          "name": "stdout",
          "text": [
            "How old are you?23\n",
            "<class 'str'>\n",
            "<class 'int'>\n",
            "What is the value of pi?3.14\n",
            "<class 'str'>\n",
            "<class 'float'>\n"
          ]
        }
      ]
    },
    {
      "cell_type": "markdown",
      "source": [
        "# Self Practice 2"
      ],
      "metadata": {
        "id": "SNJBmPVwI5mi"
      }
    },
    {
      "cell_type": "code",
      "source": [
        "type('Hello')"
      ],
      "metadata": {
        "colab": {
          "base_uri": "https://localhost:8080/"
        },
        "id": "yYuejPvRI85T",
        "outputId": "3ac1fedc-72e3-48ff-dc8a-156e163890b3"
      },
      "execution_count": null,
      "outputs": [
        {
          "output_type": "execute_result",
          "data": {
            "text/plain": [
              "str"
            ]
          },
          "metadata": {},
          "execution_count": 1
        }
      ]
    },
    {
      "cell_type": "code",
      "source": [
        "print('I\\'m thirsty')"
      ],
      "metadata": {
        "colab": {
          "base_uri": "https://localhost:8080/"
        },
        "id": "tOLHKI17JF1g",
        "outputId": "2ae447cc-60c4-4fa3-8425-128a7011cf96"
      },
      "execution_count": null,
      "outputs": [
        {
          "output_type": "stream",
          "name": "stdout",
          "text": [
            "I'm thirsty\n"
          ]
        }
      ]
    },
    {
      "cell_type": "code",
      "source": [
        "print(\"I'm thirsty\")"
      ],
      "metadata": {
        "colab": {
          "base_uri": "https://localhost:8080/"
        },
        "id": "wrlwBG26JMXI",
        "outputId": "192b0a87-8573-4086-a9da-0822cae23ef6"
      },
      "execution_count": null,
      "outputs": [
        {
          "output_type": "stream",
          "name": "stdout",
          "text": [
            "I'm thirsty\n"
          ]
        }
      ]
    },
    {
      "cell_type": "code",
      "source": [
        "print(\"I'm thirsty.\\nGive me water.\")"
      ],
      "metadata": {
        "colab": {
          "base_uri": "https://localhost:8080/"
        },
        "id": "0ilEgU9qJVtO",
        "outputId": "b7f83ddd-53df-4434-e080-a55375b2af85"
      },
      "execution_count": null,
      "outputs": [
        {
          "output_type": "stream",
          "name": "stdout",
          "text": [
            "I'm thirsty.\n",
            "Give me water.\n"
          ]
        }
      ]
    },
    {
      "cell_type": "code",
      "source": [
        "print(\"I'm thirsty.\\tGive me water.\")"
      ],
      "metadata": {
        "colab": {
          "base_uri": "https://localhost:8080/"
        },
        "id": "99infT2WJaUE",
        "outputId": "fbe83a16-7d02-465b-dbe8-63dce688faa6"
      },
      "execution_count": null,
      "outputs": [
        {
          "output_type": "stream",
          "name": "stdout",
          "text": [
            "I'm thirsty.\tGive me water.\n"
          ]
        }
      ]
    },
    {
      "cell_type": "code",
      "source": [
        "'Hey you!'[4]"
      ],
      "metadata": {
        "colab": {
          "base_uri": "https://localhost:8080/",
          "height": 36
        },
        "id": "UexVtYDfJfD_",
        "outputId": "37b65a81-b113-49bb-998f-ec89728a83ca"
      },
      "execution_count": null,
      "outputs": [
        {
          "output_type": "execute_result",
          "data": {
            "text/plain": [
              "'y'"
            ],
            "application/vnd.google.colaboratory.intrinsic+json": {
              "type": "string"
            }
          },
          "metadata": {},
          "execution_count": 7
        }
      ]
    },
    {
      "cell_type": "code",
      "source": [
        "name = 'Andrei Neagoie'"
      ],
      "metadata": {
        "id": "wdcKcBppJmXT"
      },
      "execution_count": null,
      "outputs": []
    },
    {
      "cell_type": "code",
      "source": [
        "name[4]"
      ],
      "metadata": {
        "colab": {
          "base_uri": "https://localhost:8080/",
          "height": 36
        },
        "id": "vqI44cMmJqiI",
        "outputId": "930b5a86-f050-42b2-cbe4-fe9e2112e5b4"
      },
      "execution_count": null,
      "outputs": [
        {
          "output_type": "execute_result",
          "data": {
            "text/plain": [
              "'e'"
            ],
            "application/vnd.google.colaboratory.intrinsic+json": {
              "type": "string"
            }
          },
          "metadata": {},
          "execution_count": 9
        }
      ]
    },
    {
      "cell_type": "code",
      "source": [
        "name[:]"
      ],
      "metadata": {
        "colab": {
          "base_uri": "https://localhost:8080/",
          "height": 36
        },
        "id": "dmcZivpDJtCy",
        "outputId": "20a15607-7f00-4322-fd28-23e5c8a0685b"
      },
      "execution_count": null,
      "outputs": [
        {
          "output_type": "execute_result",
          "data": {
            "text/plain": [
              "'Andrei Neagoie'"
            ],
            "application/vnd.google.colaboratory.intrinsic+json": {
              "type": "string"
            }
          },
          "metadata": {},
          "execution_count": 10
        }
      ]
    },
    {
      "cell_type": "code",
      "source": [
        "name[1:]  # Include rest of array starting from index 1"
      ],
      "metadata": {
        "colab": {
          "base_uri": "https://localhost:8080/",
          "height": 36
        },
        "id": "wZZb2gOuJvRc",
        "outputId": "8d323f6f-8b6d-4c73-f766-3ed27414c7ee"
      },
      "execution_count": null,
      "outputs": [
        {
          "output_type": "execute_result",
          "data": {
            "text/plain": [
              "'ndrei Neagoie'"
            ],
            "application/vnd.google.colaboratory.intrinsic+json": {
              "type": "string"
            }
          },
          "metadata": {},
          "execution_count": 15
        }
      ]
    },
    {
      "cell_type": "code",
      "source": [
        "name[:1]  # Exclude rest of array upto index 1"
      ],
      "metadata": {
        "colab": {
          "base_uri": "https://localhost:8080/",
          "height": 36
        },
        "id": "ODoaYpw4J4fN",
        "outputId": "9157f120-ef92-40ce-eb76-1a033157bd88"
      },
      "execution_count": null,
      "outputs": [
        {
          "output_type": "execute_result",
          "data": {
            "text/plain": [
              "'A'"
            ],
            "application/vnd.google.colaboratory.intrinsic+json": {
              "type": "string"
            }
          },
          "metadata": {},
          "execution_count": 16
        }
      ]
    },
    {
      "cell_type": "code",
      "source": [
        "name[-1]"
      ],
      "metadata": {
        "colab": {
          "base_uri": "https://localhost:8080/",
          "height": 36
        },
        "id": "3d0ITIAOKWRn",
        "outputId": "cf239f8c-56c1-4a1c-f36e-c8e8f88f6f09"
      },
      "execution_count": null,
      "outputs": [
        {
          "output_type": "execute_result",
          "data": {
            "text/plain": [
              "'e'"
            ],
            "application/vnd.google.colaboratory.intrinsic+json": {
              "type": "string"
            }
          },
          "metadata": {},
          "execution_count": 17
        }
      ]
    },
    {
      "cell_type": "code",
      "source": [
        "name[::1]"
      ],
      "metadata": {
        "colab": {
          "base_uri": "https://localhost:8080/",
          "height": 36
        },
        "id": "KsvcCjx9Ka_c",
        "outputId": "7b600d8e-d58f-42d1-e468-63ed2bba2cfa"
      },
      "execution_count": null,
      "outputs": [
        {
          "output_type": "execute_result",
          "data": {
            "text/plain": [
              "'Andrei Neagoie'"
            ],
            "application/vnd.google.colaboratory.intrinsic+json": {
              "type": "string"
            }
          },
          "metadata": {},
          "execution_count": 18
        }
      ]
    },
    {
      "cell_type": "code",
      "source": [
        "name[::-1]"
      ],
      "metadata": {
        "colab": {
          "base_uri": "https://localhost:8080/",
          "height": 36
        },
        "id": "BpKxR2KZKizD",
        "outputId": "930add33-08a9-47e3-ac8c-7c1d336b1682"
      },
      "execution_count": null,
      "outputs": [
        {
          "output_type": "execute_result",
          "data": {
            "text/plain": [
              "'eiogaeN ierdnA'"
            ],
            "application/vnd.google.colaboratory.intrinsic+json": {
              "type": "string"
            }
          },
          "metadata": {},
          "execution_count": 19
        }
      ]
    },
    {
      "cell_type": "code",
      "source": [
        "name[0:10:2]\n",
        "\n",
        "# slicing\n",
        "# [start:end:step]"
      ],
      "metadata": {
        "colab": {
          "base_uri": "https://localhost:8080/",
          "height": 36
        },
        "id": "XQ8yFbGWKm4j",
        "outputId": "b0d4f7b6-6794-41c8-ce34-6603f67875f2"
      },
      "execution_count": null,
      "outputs": [
        {
          "output_type": "execute_result",
          "data": {
            "text/plain": [
              "'Ade e'"
            ],
            "application/vnd.google.colaboratory.intrinsic+json": {
              "type": "string"
            }
          },
          "metadata": {},
          "execution_count": 20
        }
      ]
    },
    {
      "cell_type": "code",
      "source": [
        "'Hi there ' + 'Timmy'"
      ],
      "metadata": {
        "colab": {
          "base_uri": "https://localhost:8080/",
          "height": 36
        },
        "id": "YUbxTnT1Kz8N",
        "outputId": "8703e7a5-94a6-4289-ac7a-304f08c34b04"
      },
      "execution_count": null,
      "outputs": [
        {
          "output_type": "execute_result",
          "data": {
            "text/plain": [
              "'Hi there Timmy'"
            ],
            "application/vnd.google.colaboratory.intrinsic+json": {
              "type": "string"
            }
          },
          "metadata": {},
          "execution_count": 22
        }
      ]
    },
    {
      "cell_type": "code",
      "source": [
        "'*'*10"
      ],
      "metadata": {
        "colab": {
          "base_uri": "https://localhost:8080/",
          "height": 36
        },
        "id": "dt6cqRmsK5kK",
        "outputId": "21d01e41-9b1f-4d27-a74d-b39ab162613b"
      },
      "execution_count": null,
      "outputs": [
        {
          "output_type": "execute_result",
          "data": {
            "text/plain": [
              "'**********'"
            ],
            "application/vnd.google.colaboratory.intrinsic+json": {
              "type": "string"
            }
          },
          "metadata": {},
          "execution_count": 23
        }
      ]
    },
    {
      "cell_type": "code",
      "source": [
        "len('turtle')"
      ],
      "metadata": {
        "colab": {
          "base_uri": "https://localhost:8080/"
        },
        "id": "ZAffHPsSK-44",
        "outputId": "cb9f4f3d-2f16-4677-cb49-89c6bd45ce79"
      },
      "execution_count": null,
      "outputs": [
        {
          "output_type": "execute_result",
          "data": {
            "text/plain": [
              "6"
            ]
          },
          "metadata": {},
          "execution_count": 24
        }
      ]
    },
    {
      "cell_type": "code",
      "source": [
        "# str_var.strip('string_arg') method\n",
        "# removes character from string\n",
        "\n",
        "# remove white space as a default\n",
        "' I am alone '.strip()"
      ],
      "metadata": {
        "colab": {
          "base_uri": "https://localhost:8080/",
          "height": 36
        },
        "id": "7ds2UxMlLBev",
        "outputId": "fbe1bc87-22f1-4307-f601-b211f1b33314"
      },
      "execution_count": null,
      "outputs": [
        {
          "output_type": "execute_result",
          "data": {
            "text/plain": [
              "'I am alone'"
            ],
            "application/vnd.google.colaboratory.intrinsic+json": {
              "type": "string"
            }
          },
          "metadata": {},
          "execution_count": 25
        }
      ]
    },
    {
      "cell_type": "code",
      "source": [
        "'On an island'.strip('d')"
      ],
      "metadata": {
        "colab": {
          "base_uri": "https://localhost:8080/",
          "height": 36
        },
        "id": "DCG4S9ChLWZj",
        "outputId": "ce499059-4358-4a09-dca7-2381b18499aa"
      },
      "execution_count": null,
      "outputs": [
        {
          "output_type": "execute_result",
          "data": {
            "text/plain": [
              "'On an islan'"
            ],
            "application/vnd.google.colaboratory.intrinsic+json": {
              "type": "string"
            }
          },
          "metadata": {},
          "execution_count": 26
        }
      ]
    },
    {
      "cell_type": "code",
      "source": [
        "# split string into a list\n",
        "# str_var.split('str_var')\n",
        "'but life is good!'.split()"
      ],
      "metadata": {
        "colab": {
          "base_uri": "https://localhost:8080/"
        },
        "id": "P32Ued4eLat9",
        "outputId": "1dd5457b-4563-49c1-f4e4-069b69a51f58"
      },
      "execution_count": null,
      "outputs": [
        {
          "output_type": "execute_result",
          "data": {
            "text/plain": [
              "['but', 'life', 'is', 'good!']"
            ]
          },
          "metadata": {},
          "execution_count": 27
        }
      ]
    },
    {
      "cell_type": "code",
      "source": [
        "# Replaces arg1 with arg2\n",
        "# str_var.replace('arg1_inside_str_var', 'arg2')\n",
        "'Help me'.replace('me', 'you')"
      ],
      "metadata": {
        "colab": {
          "base_uri": "https://localhost:8080/",
          "height": 36
        },
        "id": "eH5Vj_l-MMAC",
        "outputId": "738bb0a7-aaa2-4b88-cde9-fcbfacb2cc48"
      },
      "execution_count": null,
      "outputs": [
        {
          "output_type": "execute_result",
          "data": {
            "text/plain": [
              "'Help you'"
            ],
            "application/vnd.google.colaboratory.intrinsic+json": {
              "type": "string"
            }
          },
          "metadata": {},
          "execution_count": 28
        }
      ]
    },
    {
      "cell_type": "code",
      "source": [
        "# Find falsity\n",
        "'Need to make fire'.startswith('Need')"
      ],
      "metadata": {
        "colab": {
          "base_uri": "https://localhost:8080/"
        },
        "id": "BQrSf0jRMsPm",
        "outputId": "2a499678-30aa-4174-c471-7b01db9cc32d"
      },
      "execution_count": null,
      "outputs": [
        {
          "output_type": "execute_result",
          "data": {
            "text/plain": [
              "True"
            ]
          },
          "metadata": {},
          "execution_count": 29
        }
      ]
    },
    {
      "cell_type": "code",
      "source": [
        "'and cook rice'.endswith('rice')"
      ],
      "metadata": {
        "colab": {
          "base_uri": "https://localhost:8080/"
        },
        "id": "92XjHcoWM5AS",
        "outputId": "b8db2e62-6a9d-42b3-a958-b6c6a24274e7"
      },
      "execution_count": null,
      "outputs": [
        {
          "output_type": "execute_result",
          "data": {
            "text/plain": [
              "True"
            ]
          },
          "metadata": {},
          "execution_count": 30
        }
      ]
    },
    {
      "cell_type": "code",
      "source": [
        "'bye bye'.index('e')"
      ],
      "metadata": {
        "colab": {
          "base_uri": "https://localhost:8080/"
        },
        "id": "jcNZwzEFNAN2",
        "outputId": "b9ae6ca9-462f-4d62-b635-5a9c758b228d"
      },
      "execution_count": null,
      "outputs": [
        {
          "output_type": "execute_result",
          "data": {
            "text/plain": [
              "2"
            ]
          },
          "metadata": {},
          "execution_count": 32
        }
      ]
    },
    {
      "cell_type": "code",
      "source": [
        "'still there?'.upper()"
      ],
      "metadata": {
        "colab": {
          "base_uri": "https://localhost:8080/",
          "height": 36
        },
        "id": "bQivSo52NIHI",
        "outputId": "c96e4cea-8753-4e76-c58d-59e5c9ea0a9b"
      },
      "execution_count": null,
      "outputs": [
        {
          "output_type": "execute_result",
          "data": {
            "text/plain": [
              "'STILL THERE?'"
            ],
            "application/vnd.google.colaboratory.intrinsic+json": {
              "type": "string"
            }
          },
          "metadata": {},
          "execution_count": 33
        }
      ]
    },
    {
      "cell_type": "code",
      "source": [
        "'HELLO?!'.lower()"
      ],
      "metadata": {
        "colab": {
          "base_uri": "https://localhost:8080/",
          "height": 36
        },
        "id": "2DsMzz5MNNJa",
        "outputId": "2f8eebfb-f3a8-4cf4-8393-ced7042b42c5"
      },
      "execution_count": null,
      "outputs": [
        {
          "output_type": "execute_result",
          "data": {
            "text/plain": [
              "'hello?!'"
            ],
            "application/vnd.google.colaboratory.intrinsic+json": {
              "type": "string"
            }
          },
          "metadata": {},
          "execution_count": 34
        }
      ]
    },
    {
      "cell_type": "code",
      "source": [
        "'ok, I am done.'.capitalize() # Capitalize sentence start"
      ],
      "metadata": {
        "colab": {
          "base_uri": "https://localhost:8080/",
          "height": 36
        },
        "id": "L5p8PcCBNRfT",
        "outputId": "f0bc92c8-f303-4a61-87a7-a3586cdaa7a9"
      },
      "execution_count": null,
      "outputs": [
        {
          "output_type": "execute_result",
          "data": {
            "text/plain": [
              "'Ok, i am done.'"
            ],
            "application/vnd.google.colaboratory.intrinsic+json": {
              "type": "string"
            }
          },
          "metadata": {},
          "execution_count": 36
        }
      ]
    },
    {
      "cell_type": "code",
      "source": [
        "'oh hi there'.find('i')"
      ],
      "metadata": {
        "colab": {
          "base_uri": "https://localhost:8080/"
        },
        "id": "rtrldabHNcW4",
        "outputId": "d7c59f17-cb97-4893-ef71-809cd2ee4593"
      },
      "execution_count": null,
      "outputs": [
        {
          "output_type": "execute_result",
          "data": {
            "text/plain": [
              "4"
            ]
          },
          "metadata": {},
          "execution_count": 37
        }
      ]
    },
    {
      "cell_type": "code",
      "source": [
        "'oh hi there'.count('e')"
      ],
      "metadata": {
        "colab": {
          "base_uri": "https://localhost:8080/"
        },
        "id": "4TuOgLLDN2so",
        "outputId": "d213cb7a-abce-47dc-c547-8d459dc6a1ce"
      },
      "execution_count": null,
      "outputs": [
        {
          "output_type": "execute_result",
          "data": {
            "text/plain": [
              "2"
            ]
          },
          "metadata": {},
          "execution_count": 38
        }
      ]
    },
    {
      "cell_type": "code",
      "source": [
        "name1 = 'Andrei'\n",
        "name2 = 'Sunny'\n",
        "\n",
        "print(f'Hello there {name1} and {name2}')"
      ],
      "metadata": {
        "colab": {
          "base_uri": "https://localhost:8080/"
        },
        "id": "Crl9KaFUN9o3",
        "outputId": "9afc591c-8e6f-4156-fe06-e87f0cb4854a"
      },
      "execution_count": null,
      "outputs": [
        {
          "output_type": "stream",
          "name": "stdout",
          "text": [
            "Hello there Andrei and Sunny\n"
          ]
        }
      ]
    },
    {
      "cell_type": "code",
      "source": [
        "print('Hello there {} and {}'.format(name1, name2))"
      ],
      "metadata": {
        "colab": {
          "base_uri": "https://localhost:8080/"
        },
        "id": "QaIfGRNgOKF-",
        "outputId": "165fd587-5ad8-43b4-bb7d-e2be7a3fad7f"
      },
      "execution_count": null,
      "outputs": [
        {
          "output_type": "stream",
          "name": "stdout",
          "text": [
            "Hello there Andrei and Sunny\n"
          ]
        }
      ]
    },
    {
      "cell_type": "code",
      "source": [
        "print('Hello there %s and %s' %(name1, name2))"
      ],
      "metadata": {
        "colab": {
          "base_uri": "https://localhost:8080/"
        },
        "id": "H-Ib0gvpOUGZ",
        "outputId": "3b692a73-28e2-4885-ba7b-5f97e17f52ea"
      },
      "execution_count": null,
      "outputs": [
        {
          "output_type": "stream",
          "name": "stdout",
          "text": [
            "Hello there Andrei and Sunny\n"
          ]
        }
      ]
    },
    {
      "cell_type": "code",
      "source": [
        "# palindrome check\n",
        "word = 'reviver'\n",
        "\n",
        "p = bool(word.find(word[::-1]) + 1)\n",
        "\n",
        "print(p)"
      ],
      "metadata": {
        "colab": {
          "base_uri": "https://localhost:8080/"
        },
        "id": "slXt9ArBObc8",
        "outputId": "6a8ff782-6bd2-48f7-adb7-fbd40cedccc6"
      },
      "execution_count": null,
      "outputs": [
        {
          "output_type": "stream",
          "name": "stdout",
          "text": [
            "True\n"
          ]
        }
      ]
    },
    {
      "cell_type": "code",
      "source": [
        "bool(True)"
      ],
      "metadata": {
        "colab": {
          "base_uri": "https://localhost:8080/"
        },
        "id": "N0aXDQPHOrEI",
        "outputId": "81520c7b-448b-4542-8c4f-b7ea54eb8c27"
      },
      "execution_count": null,
      "outputs": [
        {
          "output_type": "execute_result",
          "data": {
            "text/plain": [
              "True"
            ]
          },
          "metadata": {},
          "execution_count": 43
        }
      ]
    },
    {
      "cell_type": "code",
      "source": [
        "bool(False)"
      ],
      "metadata": {
        "colab": {
          "base_uri": "https://localhost:8080/"
        },
        "id": "KEgCSkuMO4jF",
        "outputId": "6c86f5fe-67e1-4f73-9f15-c97af2a87773"
      },
      "execution_count": null,
      "outputs": [
        {
          "output_type": "execute_result",
          "data": {
            "text/plain": [
              "False"
            ]
          },
          "metadata": {},
          "execution_count": 44
        }
      ]
    },
    {
      "cell_type": "code",
      "source": [
        "# All of the code below evaluate to False.\n",
        "# Everything else will evaluate to True in Python.\n",
        "print(bool(None))\n",
        "print(bool(False))\n",
        "print(bool(0))\n",
        "print(bool(0.0))\n",
        "print(bool([]))\n",
        "print(bool({}))\n",
        "print(bool(()))\n",
        "print(bool(''))\n",
        "print(bool(range(0)))\n",
        "print(bool(set()))"
      ],
      "metadata": {
        "colab": {
          "base_uri": "https://localhost:8080/"
        },
        "id": "C2yugPaXO50p",
        "outputId": "f448803b-b51f-4e2a-9dc3-061304d9c533"
      },
      "execution_count": null,
      "outputs": [
        {
          "output_type": "stream",
          "name": "stdout",
          "text": [
            "False\n",
            "False\n",
            "False\n",
            "False\n",
            "False\n",
            "False\n",
            "False\n",
            "False\n",
            "False\n",
            "False\n"
          ]
        }
      ]
    },
    {
      "cell_type": "code",
      "source": [
        "my_list = [1, 2, '3', True]\n",
        "print(len(my_list),\n",
        "      my_list.index('3'),\n",
        "      my_list.count(2),\n",
        "      my_list[3],\n",
        "      my_list[1:],\n",
        "      my_list[:1],\n",
        "      my_list[-1],\n",
        "      my_list[::1],\n",
        "      my_list[::-1],\n",
        "      my_list[0:3:2]\n",
        "      )"
      ],
      "metadata": {
        "colab": {
          "base_uri": "https://localhost:8080/"
        },
        "id": "P2MKs5oEPem6",
        "outputId": "c1e38bde-4bb1-4573-9cb9-72959e0a793a"
      },
      "execution_count": null,
      "outputs": [
        {
          "output_type": "stream",
          "name": "stdout",
          "text": [
            "4 2 1 True [2, '3', True] [1] True [1, 2, '3', True] [True, '3', 2, 1] [1, '3']\n"
          ]
        }
      ]
    },
    {
      "cell_type": "code",
      "source": [
        "# double the same elements in a new list\n",
        "my_list*2"
      ],
      "metadata": {
        "colab": {
          "base_uri": "https://localhost:8080/"
        },
        "id": "Ns5ZXI1hQH6u",
        "outputId": "e245b94c-7ee8-4acc-d228-dab179ea87d9"
      },
      "execution_count": null,
      "outputs": [
        {
          "output_type": "execute_result",
          "data": {
            "text/plain": [
              "[1, 2, '3', True, 1, 2, '3', True]"
            ]
          },
          "metadata": {},
          "execution_count": 51
        }
      ]
    },
    {
      "cell_type": "code",
      "source": [
        "my_list + [100]"
      ],
      "metadata": {
        "colab": {
          "base_uri": "https://localhost:8080/"
        },
        "id": "u0laCujWQblB",
        "outputId": "5063e525-5f14-4032-faa1-f81e37b85e0f"
      },
      "execution_count": null,
      "outputs": [
        {
          "output_type": "execute_result",
          "data": {
            "text/plain": [
              "[1, 2, '3', True, 100]"
            ]
          },
          "metadata": {},
          "execution_count": 49
        }
      ]
    },
    {
      "cell_type": "code",
      "source": [
        "print(my_list)    # the original remains unchanged\n",
        "# list is mutable"
      ],
      "metadata": {
        "colab": {
          "base_uri": "https://localhost:8080/"
        },
        "id": "zjsXLKAEQiHs",
        "outputId": "bede5c83-2dea-4b42-f1d9-0cb2e1940af0"
      },
      "execution_count": null,
      "outputs": [
        {
          "output_type": "stream",
          "name": "stdout",
          "text": [
            "[1, 2, '3', True]\n"
          ]
        }
      ]
    },
    {
      "cell_type": "code",
      "source": [
        "my_list.append(100)"
      ],
      "metadata": {
        "id": "mDbBgg3EQs7b"
      },
      "execution_count": null,
      "outputs": []
    },
    {
      "cell_type": "code",
      "source": [
        "my_list.extend([100, 200])"
      ],
      "metadata": {
        "id": "szVs5v3GQy_X"
      },
      "execution_count": null,
      "outputs": []
    },
    {
      "cell_type": "code",
      "source": [
        "my_list.insert(2, '!!!')"
      ],
      "metadata": {
        "id": "J-uUmDXTQ6RW"
      },
      "execution_count": null,
      "outputs": []
    },
    {
      "cell_type": "code",
      "source": [
        "print(my_list)"
      ],
      "metadata": {
        "colab": {
          "base_uri": "https://localhost:8080/"
        },
        "id": "Q16OtadQRBVI",
        "outputId": "9f9e5f06-ad2f-4240-8054-632597f3ecd7"
      },
      "execution_count": null,
      "outputs": [
        {
          "output_type": "stream",
          "name": "stdout",
          "text": [
            "[1, 2, '!!!', '3', True, 100, 100, 200]\n"
          ]
        }
      ]
    },
    {
      "cell_type": "code",
      "source": [
        "# Joins element using string as separator\n",
        "' '.join(['Hello', 'There'])"
      ],
      "metadata": {
        "colab": {
          "base_uri": "https://localhost:8080/",
          "height": 36
        },
        "id": "XAHJGQ5SRD-S",
        "outputId": "8eef025c-b038-4fcd-d142-0f2f48d3d2be"
      },
      "execution_count": null,
      "outputs": [
        {
          "output_type": "execute_result",
          "data": {
            "text/plain": [
              "'Hello There'"
            ],
            "application/vnd.google.colaboratory.intrinsic+json": {
              "type": "string"
            }
          },
          "metadata": {},
          "execution_count": 57
        }
      ]
    },
    {
      "cell_type": "code",
      "source": [
        "basket = ['apples', 'pears', 'oranges']\n",
        "new_basket = basket.copy()\n",
        "print(new_basket)\n",
        "new_basket2 = basket[:]\n",
        "print(new_basket2)\n",
        "\n",
        "print(bool(new_basket is new_basket2))"
      ],
      "metadata": {
        "colab": {
          "base_uri": "https://localhost:8080/"
        },
        "id": "eSWeYCw-RPzQ",
        "outputId": "961d040d-9184-452f-df4c-9b040b046768"
      },
      "execution_count": null,
      "outputs": [
        {
          "output_type": "stream",
          "name": "stdout",
          "text": [
            "['apples', 'pears', 'oranges']\n",
            "['apples', 'pears', 'oranges']\n",
            "False\n"
          ]
        }
      ]
    },
    {
      "cell_type": "code",
      "source": [
        "[1, 2, 3].pop()\n",
        "[1, 2, 3].pop(1)      # Removes at index 1\n",
        "[1, 2, 3].remove(2)   # Removes item\n",
        "[1, 2, 3].clear()     # Sets to empty list\n",
        "del [1, 2, 3][0]"
      ],
      "metadata": {
        "id": "j-Ey3BXxR2b3"
      },
      "execution_count": null,
      "outputs": []
    },
    {
      "cell_type": "code",
      "source": [
        "# ordering mutates list\n",
        "print(\n",
        "    [1,2,5,3].sort(),\n",
        "    [1,2,5,3].sort(reverse=True),\n",
        "    [1,2,5,3].reverse()\n",
        ")"
      ],
      "metadata": {
        "colab": {
          "base_uri": "https://localhost:8080/"
        },
        "id": "-K68qFeLSg8T",
        "outputId": "387e6c43-243a-4c43-f0a2-d24e43d6967c"
      },
      "execution_count": null,
      "outputs": [
        {
          "output_type": "stream",
          "name": "stdout",
          "text": [
            "None None None\n"
          ]
        }
      ]
    },
    {
      "cell_type": "code",
      "source": [
        "# creates new list\n",
        "sorted([1,2,5,3])"
      ],
      "metadata": {
        "colab": {
          "base_uri": "https://localhost:8080/"
        },
        "id": "rnijNLZWS39s",
        "outputId": "48cdd62d-823d-4bc1-8fbf-87f1d9ced213"
      },
      "execution_count": null,
      "outputs": [
        {
          "output_type": "execute_result",
          "data": {
            "text/plain": [
              "[1, 2, 3, 5]"
            ]
          },
          "metadata": {},
          "execution_count": 62
        }
      ]
    },
    {
      "cell_type": "code",
      "source": [
        "list(reversed([1,2,5,3]))"
      ],
      "metadata": {
        "colab": {
          "base_uri": "https://localhost:8080/"
        },
        "id": "-4vHblcwTBRu",
        "outputId": "116d0997-cfa8-4c06-d5f2-8f21d7e42525"
      },
      "execution_count": null,
      "outputs": [
        {
          "output_type": "execute_result",
          "data": {
            "text/plain": [
              "[3, 5, 2, 1]"
            ]
          },
          "metadata": {},
          "execution_count": 63
        }
      ]
    },
    {
      "cell_type": "code",
      "source": [
        "1 in [1,2,5,3]"
      ],
      "metadata": {
        "colab": {
          "base_uri": "https://localhost:8080/"
        },
        "id": "FAigJz8qTHPn",
        "outputId": "ffa5e4de-e17e-45ba-bb22-879beb3ea244"
      },
      "execution_count": null,
      "outputs": [
        {
          "output_type": "execute_result",
          "data": {
            "text/plain": [
              "True"
            ]
          },
          "metadata": {},
          "execution_count": 64
        }
      ]
    },
    {
      "cell_type": "code",
      "source": [
        "min([1,2,5,3])"
      ],
      "metadata": {
        "colab": {
          "base_uri": "https://localhost:8080/"
        },
        "id": "6lTYYFkLTLNN",
        "outputId": "c0aa83a8-c9ab-4c3c-9a95-1ecc80ac96f1"
      },
      "execution_count": null,
      "outputs": [
        {
          "output_type": "execute_result",
          "data": {
            "text/plain": [
              "1"
            ]
          },
          "metadata": {},
          "execution_count": 65
        }
      ]
    },
    {
      "cell_type": "code",
      "source": [
        "max([1,2,5,3])"
      ],
      "metadata": {
        "colab": {
          "base_uri": "https://localhost:8080/"
        },
        "id": "xXldvS1xTN4Q",
        "outputId": "8d7e533e-f002-41f2-9520-1369c9951711"
      },
      "execution_count": null,
      "outputs": [
        {
          "output_type": "execute_result",
          "data": {
            "text/plain": [
              "5"
            ]
          },
          "metadata": {},
          "execution_count": 66
        }
      ]
    },
    {
      "cell_type": "code",
      "source": [
        "sum([1,2,3,4,5])"
      ],
      "metadata": {
        "colab": {
          "base_uri": "https://localhost:8080/"
        },
        "id": "Wf36hwkJTP3W",
        "outputId": "1f5ea917-ba28-43a0-bdc5-588be34307ec"
      },
      "execution_count": null,
      "outputs": [
        {
          "output_type": "execute_result",
          "data": {
            "text/plain": [
              "15"
            ]
          },
          "metadata": {},
          "execution_count": 67
        }
      ]
    },
    {
      "cell_type": "code",
      "source": [
        "# get first and last element of list\n",
        "myList = [63,21,30,14,35,26,77,18,49,10]\n",
        "first, *x, last = myList\n",
        "print(first)\n",
        "print(x)\n",
        "print(last)"
      ],
      "metadata": {
        "colab": {
          "base_uri": "https://localhost:8080/"
        },
        "id": "NYS4m5AwTUAA",
        "outputId": "42d19f54-67d6-46aa-e995-877152786f1c"
      },
      "execution_count": null,
      "outputs": [
        {
          "output_type": "stream",
          "name": "stdout",
          "text": [
            "63\n",
            "[21, 30, 14, 35, 26, 77, 18, 49]\n",
            "10\n"
          ]
        }
      ]
    },
    {
      "cell_type": "code",
      "source": [
        "matrix = [[1,2,3], [4,5,6], [7,8,9]]\n",
        "matrix[2][0]"
      ],
      "metadata": {
        "colab": {
          "base_uri": "https://localhost:8080/"
        },
        "id": "jfFCzpC-TwSa",
        "outputId": "ab6e5944-96b8-481b-a3fb-ea98fe68438c"
      },
      "execution_count": null,
      "outputs": [
        {
          "output_type": "execute_result",
          "data": {
            "text/plain": [
              "7"
            ]
          },
          "metadata": {},
          "execution_count": 71
        }
      ]
    },
    {
      "cell_type": "code",
      "source": [
        "mx = [[1,2,3], [4,5,6]]\n",
        "for row in range(len(mx)):\n",
        "  for col in range(len(mx[0])):\n",
        "    print(mx[row][col])"
      ],
      "metadata": {
        "colab": {
          "base_uri": "https://localhost:8080/"
        },
        "id": "HsIW6EZxT_-H",
        "outputId": "b878f03e-ddc8-47f9-bbd3-90a41989f05b"
      },
      "execution_count": null,
      "outputs": [
        {
          "output_type": "stream",
          "name": "stdout",
          "text": [
            "1\n",
            "2\n",
            "3\n",
            "4\n",
            "5\n",
            "6\n"
          ]
        }
      ]
    },
    {
      "cell_type": "code",
      "source": [
        "# transform into list\n",
        "[mx[row][col] for row in range(len(mx)) for col in range(len(mx[0]))]"
      ],
      "metadata": {
        "colab": {
          "base_uri": "https://localhost:8080/"
        },
        "id": "w1uZPUHxUT0A",
        "outputId": "17543e40-f46d-41ce-8459-2aa07ce9ccfa"
      },
      "execution_count": null,
      "outputs": [
        {
          "output_type": "execute_result",
          "data": {
            "text/plain": [
              "[1, 2, 3, 4, 5, 6]"
            ]
          },
          "metadata": {},
          "execution_count": 73
        }
      ]
    },
    {
      "cell_type": "code",
      "source": [
        "# list comprehensions\n",
        "# new_list[<action> for <item> in <iterator> if <some condition>]\n",
        "a = [i for i in 'hello']"
      ],
      "metadata": {
        "id": "1-9BnVZ_UpRy"
      },
      "execution_count": null,
      "outputs": []
    },
    {
      "cell_type": "code",
      "source": [
        "print(a)"
      ],
      "metadata": {
        "colab": {
          "base_uri": "https://localhost:8080/"
        },
        "id": "h8BLr8yPVEQS",
        "outputId": "621424a4-ed55-42d9-972a-edf25b476ab4"
      },
      "execution_count": null,
      "outputs": [
        {
          "output_type": "stream",
          "name": "stdout",
          "text": [
            "['h', 'e', 'l', 'l', 'o']\n"
          ]
        }
      ]
    },
    {
      "cell_type": "code",
      "source": [
        "b = [i*2 for i in [1,2,3]]"
      ],
      "metadata": {
        "id": "AcpRkI2lVF-5"
      },
      "execution_count": null,
      "outputs": []
    },
    {
      "cell_type": "code",
      "source": [
        "print(b)"
      ],
      "metadata": {
        "colab": {
          "base_uri": "https://localhost:8080/"
        },
        "id": "WnI3HExTVKVn",
        "outputId": "c238f102-0a69-4720-ebbb-c31d1f276b78"
      },
      "execution_count": null,
      "outputs": [
        {
          "output_type": "stream",
          "name": "stdout",
          "text": [
            "[2, 4, 6]\n"
          ]
        }
      ]
    },
    {
      "cell_type": "code",
      "source": [
        "c = [i for i in range(0,10) if i%2==0]"
      ],
      "metadata": {
        "id": "tD-XGXWHVLvo"
      },
      "execution_count": null,
      "outputs": []
    },
    {
      "cell_type": "code",
      "source": [
        "print(c)"
      ],
      "metadata": {
        "colab": {
          "base_uri": "https://localhost:8080/"
        },
        "id": "NUnjGecMVStm",
        "outputId": "db25bb70-bdac-4697-b88b-b6d5038a02a5"
      },
      "execution_count": null,
      "outputs": [
        {
          "output_type": "stream",
          "name": "stdout",
          "text": [
            "[0, 2, 4, 6, 8]\n"
          ]
        }
      ]
    },
    {
      "cell_type": "code",
      "source": [
        "list_of_chars = list('Hello')"
      ],
      "metadata": {
        "id": "qkdSQDrWVT3I"
      },
      "execution_count": null,
      "outputs": []
    },
    {
      "cell_type": "code",
      "source": [
        "print(list_of_chars)"
      ],
      "metadata": {
        "colab": {
          "base_uri": "https://localhost:8080/"
        },
        "id": "iuJ4kDQjVanT",
        "outputId": "b64fe41f-3bbe-449e-982b-262fcd7095f1"
      },
      "execution_count": null,
      "outputs": [
        {
          "output_type": "stream",
          "name": "stdout",
          "text": [
            "['H', 'e', 'l', 'l', 'o']\n"
          ]
        }
      ]
    },
    {
      "cell_type": "code",
      "source": [
        "sum_of_elements = sum([1,2,3,4,5])"
      ],
      "metadata": {
        "id": "bGppDzNXVc3y"
      },
      "execution_count": null,
      "outputs": []
    },
    {
      "cell_type": "code",
      "source": [
        "print(sum_of_elements)"
      ],
      "metadata": {
        "colab": {
          "base_uri": "https://localhost:8080/"
        },
        "id": "gPlBAukSVh1x",
        "outputId": "41a100cf-4873-41b0-84b5-518a93cd2db3"
      },
      "execution_count": null,
      "outputs": [
        {
          "output_type": "stream",
          "name": "stdout",
          "text": [
            "15\n"
          ]
        }
      ]
    },
    {
      "cell_type": "code",
      "source": [
        "element_sum = [sum(pair) for pair in zip([1,2,3],[4,5,6])]"
      ],
      "metadata": {
        "id": "5W9Yj-yAVlDd"
      },
      "execution_count": null,
      "outputs": []
    },
    {
      "cell_type": "code",
      "source": [
        "print(element_sum)"
      ],
      "metadata": {
        "colab": {
          "base_uri": "https://localhost:8080/"
        },
        "id": "cOQrEx31Vw6V",
        "outputId": "9aa4fcf5-4977-4c2a-c61a-14dff331d2f7"
      },
      "execution_count": null,
      "outputs": [
        {
          "output_type": "stream",
          "name": "stdout",
          "text": [
            "[5, 7, 9]\n"
          ]
        }
      ]
    },
    {
      "cell_type": "code",
      "source": [
        "sorted_by_second = sorted(['hi','you','man'], key=lambda el:el[1])"
      ],
      "metadata": {
        "id": "I-xbJt9YVyj-"
      },
      "execution_count": null,
      "outputs": []
    },
    {
      "cell_type": "code",
      "source": [
        "print(sorted_by_second)"
      ],
      "metadata": {
        "colab": {
          "base_uri": "https://localhost:8080/"
        },
        "id": "WbO_wBizWAUf",
        "outputId": "bfc90440-b1b6-409e-9d71-7ba4cadd7d78"
      },
      "execution_count": null,
      "outputs": [
        {
          "output_type": "stream",
          "name": "stdout",
          "text": [
            "['man', 'hi', 'you']\n"
          ]
        }
      ]
    },
    {
      "cell_type": "code",
      "source": [
        "sorted_by_key = sorted(\n",
        "    [\n",
        "        {'name': 'Bina', 'age': 30},\n",
        "        {'name': 'Andy', 'age': 18},\n",
        "        {'name': 'Zoey', 'age': 55}\n",
        "    ], key=lambda el:(el['name'])\n",
        ")"
      ],
      "metadata": {
        "id": "GZtApVX4WE5B"
      },
      "execution_count": null,
      "outputs": []
    },
    {
      "cell_type": "code",
      "source": [
        "print(sorted_by_key)"
      ],
      "metadata": {
        "colab": {
          "base_uri": "https://localhost:8080/"
        },
        "id": "_eEW44pUWlY0",
        "outputId": "6ca4b7bb-aeaf-481e-b02e-97db27b240e4"
      },
      "execution_count": null,
      "outputs": [
        {
          "output_type": "stream",
          "name": "stdout",
          "text": [
            "[{'name': 'Andy', 'age': 18}, {'name': 'Bina', 'age': 30}, {'name': 'Zoey', 'age': 55}]\n"
          ]
        }
      ]
    },
    {
      "cell_type": "code",
      "source": [
        "# read a line of file into a list\n",
        "with open(\"myfile.txt\") as f:\n",
        "  lines = [line.strip() for line in f]"
      ],
      "metadata": {
        "colab": {
          "base_uri": "https://localhost:8080/",
          "height": 210
        },
        "id": "vq7NxCnHWzqZ",
        "outputId": "32f2e99e-3c6f-4735-f45c-ebc4ec073208"
      },
      "execution_count": null,
      "outputs": [
        {
          "output_type": "error",
          "ename": "FileNotFoundError",
          "evalue": "ignored",
          "traceback": [
            "\u001b[0;31m---------------------------------------------------------------------------\u001b[0m",
            "\u001b[0;31mFileNotFoundError\u001b[0m                         Traceback (most recent call last)",
            "\u001b[0;32m<ipython-input-92-236b624dcba5>\u001b[0m in \u001b[0;36m<cell line: 2>\u001b[0;34m()\u001b[0m\n\u001b[1;32m      1\u001b[0m \u001b[0;31m# read a line of file into a list\u001b[0m\u001b[0;34m\u001b[0m\u001b[0;34m\u001b[0m\u001b[0m\n\u001b[0;32m----> 2\u001b[0;31m \u001b[0;32mwith\u001b[0m \u001b[0mopen\u001b[0m\u001b[0;34m(\u001b[0m\u001b[0;34m\"myfile.txt\"\u001b[0m\u001b[0;34m)\u001b[0m \u001b[0;32mas\u001b[0m \u001b[0mf\u001b[0m\u001b[0;34m:\u001b[0m\u001b[0;34m\u001b[0m\u001b[0;34m\u001b[0m\u001b[0m\n\u001b[0m\u001b[1;32m      3\u001b[0m   \u001b[0mlines\u001b[0m \u001b[0;34m=\u001b[0m \u001b[0;34m[\u001b[0m\u001b[0mline\u001b[0m\u001b[0;34m.\u001b[0m\u001b[0mstrip\u001b[0m\u001b[0;34m(\u001b[0m\u001b[0;34m)\u001b[0m \u001b[0;32mfor\u001b[0m \u001b[0mline\u001b[0m \u001b[0;32min\u001b[0m \u001b[0mf\u001b[0m\u001b[0;34m]\u001b[0m\u001b[0;34m\u001b[0m\u001b[0;34m\u001b[0m\u001b[0m\n",
            "\u001b[0;31mFileNotFoundError\u001b[0m: [Errno 2] No such file or directory: 'myfile.txt'"
          ]
        }
      ]
    },
    {
      "cell_type": "markdown",
      "source": [
        "# Self Practice 3"
      ],
      "metadata": {
        "id": "IqaSJpCcXhy-"
      }
    },
    {
      "cell_type": "code",
      "source": [
        "my_dict = {\n",
        "    'name': 'Andrei Neagoie',\n",
        "    'age': 30,\n",
        "    'magic_power': False\n",
        "}"
      ],
      "metadata": {
        "id": "fWeCrs5wH4KU"
      },
      "execution_count": null,
      "outputs": []
    },
    {
      "cell_type": "code",
      "source": [
        "my_dict['name']"
      ],
      "metadata": {
        "colab": {
          "base_uri": "https://localhost:8080/",
          "height": 36
        },
        "id": "LlaUKwcVINJD",
        "outputId": "2ee117a8-adb2-4716-9f36-1c498271a775"
      },
      "execution_count": null,
      "outputs": [
        {
          "output_type": "execute_result",
          "data": {
            "text/plain": [
              "'Andrei Neagoie'"
            ],
            "application/vnd.google.colaboratory.intrinsic+json": {
              "type": "string"
            }
          },
          "metadata": {},
          "execution_count": 2
        }
      ]
    },
    {
      "cell_type": "code",
      "source": [
        "len(my_dict)"
      ],
      "metadata": {
        "colab": {
          "base_uri": "https://localhost:8080/"
        },
        "id": "0KPpDyO8IPQC",
        "outputId": "7b993af6-9295-4c7c-f5ab-235926940195"
      },
      "execution_count": null,
      "outputs": [
        {
          "output_type": "execute_result",
          "data": {
            "text/plain": [
              "3"
            ]
          },
          "metadata": {},
          "execution_count": 3
        }
      ]
    },
    {
      "cell_type": "code",
      "source": [
        "list(my_dict.keys())"
      ],
      "metadata": {
        "colab": {
          "base_uri": "https://localhost:8080/"
        },
        "id": "2HrWBBu-IR4S",
        "outputId": "2a142f4e-51b5-4580-83e4-8994806ca975"
      },
      "execution_count": null,
      "outputs": [
        {
          "output_type": "execute_result",
          "data": {
            "text/plain": [
              "['name', 'age', 'magic_power']"
            ]
          },
          "metadata": {},
          "execution_count": 4
        }
      ]
    },
    {
      "cell_type": "code",
      "source": [
        "list(my_dict.values())"
      ],
      "metadata": {
        "colab": {
          "base_uri": "https://localhost:8080/"
        },
        "id": "3p3Ha20lIUt4",
        "outputId": "7b691b5e-0bda-4656-c25e-7022a645f225"
      },
      "execution_count": null,
      "outputs": [
        {
          "output_type": "execute_result",
          "data": {
            "text/plain": [
              "['Andrei Neagoie', 30, False]"
            ]
          },
          "metadata": {},
          "execution_count": 5
        }
      ]
    },
    {
      "cell_type": "code",
      "source": [
        "list(my_dict.items())\n",
        "# list contains tuples\n",
        "# tuple is a key-value pair"
      ],
      "metadata": {
        "colab": {
          "base_uri": "https://localhost:8080/"
        },
        "id": "VZrAPiquIX10",
        "outputId": "71339065-9ebc-45e1-ebdf-8dee61d52923"
      },
      "execution_count": null,
      "outputs": [
        {
          "output_type": "execute_result",
          "data": {
            "text/plain": [
              "[('name', 'Andrei Neagoie'), ('age', 30), ('magic_power', False)]"
            ]
          },
          "metadata": {},
          "execution_count": 6
        }
      ]
    },
    {
      "cell_type": "code",
      "source": [
        "my_dict['favourite_snack'] = 'Grapes'\n",
        "# adds new key-value pair\n",
        "# key as sqr-bracketed arg\n",
        "# value as assigned via ="
      ],
      "metadata": {
        "id": "ntmjSAOsIguw"
      },
      "execution_count": null,
      "outputs": []
    },
    {
      "cell_type": "code",
      "source": [
        "print(my_dict)"
      ],
      "metadata": {
        "colab": {
          "base_uri": "https://localhost:8080/"
        },
        "id": "l2OKLvbkIwlk",
        "outputId": "5fa37f8c-ab01-4592-d6cc-1518590ad9a1"
      },
      "execution_count": null,
      "outputs": [
        {
          "output_type": "stream",
          "name": "stdout",
          "text": [
            "{'name': 'Andrei Neagoie', 'age': 30, 'magic_power': False, 'favourite_snack': 'Grapes'}\n"
          ]
        }
      ]
    },
    {
      "cell_type": "code",
      "source": [
        "my_dict.get('age')\n",
        "# from key as arg\n",
        "# get value"
      ],
      "metadata": {
        "colab": {
          "base_uri": "https://localhost:8080/"
        },
        "id": "8srCitClIyNO",
        "outputId": "0be9fd72-025c-499b-871f-58bb3a9c17d0"
      },
      "execution_count": null,
      "outputs": [
        {
          "output_type": "execute_result",
          "data": {
            "text/plain": [
              "30"
            ]
          },
          "metadata": {},
          "execution_count": 10
        }
      ]
    },
    {
      "cell_type": "code",
      "source": [
        "my_dict.get('ages', 0)\n",
        "# return 0\n",
        "# if not found"
      ],
      "metadata": {
        "colab": {
          "base_uri": "https://localhost:8080/"
        },
        "id": "0tYMNW4nJBuP",
        "outputId": "7b2ed997-aacd-48ca-f1c6-484d0d6da8f2"
      },
      "execution_count": null,
      "outputs": [
        {
          "output_type": "execute_result",
          "data": {
            "text/plain": [
              "0"
            ]
          },
          "metadata": {},
          "execution_count": 11
        }
      ]
    },
    {
      "cell_type": "code",
      "source": [
        "# remove key\n",
        "del my_dict['name']"
      ],
      "metadata": {
        "id": "3YQAAosVJGiv"
      },
      "execution_count": null,
      "outputs": []
    },
    {
      "cell_type": "code",
      "source": [
        "print(my_dict)"
      ],
      "metadata": {
        "colab": {
          "base_uri": "https://localhost:8080/"
        },
        "id": "YeDplOQZJL40",
        "outputId": "32204c24-99bd-486d-f1e2-d196b7e0e2e7"
      },
      "execution_count": null,
      "outputs": [
        {
          "output_type": "stream",
          "name": "stdout",
          "text": [
            "{'age': 30, 'magic_power': False, 'favourite_snack': 'Grapes'}\n"
          ]
        }
      ]
    },
    {
      "cell_type": "code",
      "source": [
        "my_dict.pop('name', None)"
      ],
      "metadata": {
        "id": "cgRG5P6WJOTw"
      },
      "execution_count": null,
      "outputs": []
    },
    {
      "cell_type": "code",
      "source": [
        "print(my_dict)"
      ],
      "metadata": {
        "colab": {
          "base_uri": "https://localhost:8080/"
        },
        "id": "2jx_h2E4JSq0",
        "outputId": "3d8e22f6-9049-4af6-88b5-221b59f2ac97"
      },
      "execution_count": null,
      "outputs": [
        {
          "output_type": "stream",
          "name": "stdout",
          "text": [
            "{'age': 30, 'magic_power': False, 'favourite_snack': 'Grapes'}\n"
          ]
        }
      ]
    },
    {
      "cell_type": "code",
      "source": [
        "print(my_dict.pop('name', None))"
      ],
      "metadata": {
        "colab": {
          "base_uri": "https://localhost:8080/"
        },
        "id": "VnOlIBsxJVXY",
        "outputId": "82fd7f47-9a80-48de-b47f-e1dff289ef5f"
      },
      "execution_count": null,
      "outputs": [
        {
          "output_type": "stream",
          "name": "stdout",
          "text": [
            "None\n"
          ]
        }
      ]
    },
    {
      "cell_type": "code",
      "source": [
        "# another way\n",
        "# of adding\n",
        "# to dict\n",
        "my_dict.update({'cool': True})"
      ],
      "metadata": {
        "id": "0WWQPGqsJYTW"
      },
      "execution_count": null,
      "outputs": []
    },
    {
      "cell_type": "code",
      "source": [
        "print(my_dict)"
      ],
      "metadata": {
        "colab": {
          "base_uri": "https://localhost:8080/"
        },
        "id": "rEGmrzRPJkJ2",
        "outputId": "069e5a9b-516c-47da-fc14-cebe0b2aba4e"
      },
      "execution_count": null,
      "outputs": [
        {
          "output_type": "stream",
          "name": "stdout",
          "text": [
            "{'age': 30, 'magic_power': False, 'favourite_snack': 'Grapes', 'cool': True}\n"
          ]
        }
      ]
    },
    {
      "cell_type": "code",
      "source": [
        "# 3rd way of adding item\n",
        "{**my_dict, **{'cool': True}}"
      ],
      "metadata": {
        "colab": {
          "base_uri": "https://localhost:8080/"
        },
        "id": "9Ii1koMRJled",
        "outputId": "f4951e8f-2cfd-4e67-ce26-6271a0c531b8"
      },
      "execution_count": null,
      "outputs": [
        {
          "output_type": "execute_result",
          "data": {
            "text/plain": [
              "{'age': 30, 'magic_power': False, 'favourite_snack': 'Grapes', 'cool': True}"
            ]
          },
          "metadata": {},
          "execution_count": 19
        }
      ]
    },
    {
      "cell_type": "code",
      "source": [
        "# create a dict\n",
        "# from a collection of\n",
        "# key-value pairs\n",
        "new_dict = dict(\n",
        "    [\n",
        "        ['name', 'Andrei'],\n",
        "        ['age', 32],\n",
        "        ['magic_power', False]\n",
        "    ]\n",
        ")"
      ],
      "metadata": {
        "id": "MOkyLMDAJwIQ"
      },
      "execution_count": null,
      "outputs": []
    },
    {
      "cell_type": "code",
      "source": [
        "print(new_dict)"
      ],
      "metadata": {
        "colab": {
          "base_uri": "https://localhost:8080/"
        },
        "id": "XNcWtm4kKPB_",
        "outputId": "44310beb-1bcf-4ac8-b27f-faa41af773ca"
      },
      "execution_count": null,
      "outputs": [
        {
          "output_type": "stream",
          "name": "stdout",
          "text": [
            "{'name': 'Andrei', 'age': 32, 'magic_power': False}\n"
          ]
        }
      ]
    },
    {
      "cell_type": "code",
      "source": [
        "# create a dict\n",
        "# from two collections\n",
        "new_dict = dict(\n",
        "    zip(\n",
        "        ['name', 'age', 'magic_power'],\n",
        "        ['Andrei', 32, False]\n",
        "    )\n",
        ")\n",
        "\n",
        "# 1st list in sqr-brackets is key\n",
        "# 2nd is values"
      ],
      "metadata": {
        "id": "-pNEvy5qKQjI"
      },
      "execution_count": null,
      "outputs": []
    },
    {
      "cell_type": "code",
      "source": [
        "print(new_dict)"
      ],
      "metadata": {
        "colab": {
          "base_uri": "https://localhost:8080/"
        },
        "id": "vVf4ESkxKjmX",
        "outputId": "203ceefc-abdd-4b43-a63c-bf5780313af8"
      },
      "execution_count": null,
      "outputs": [
        {
          "output_type": "stream",
          "name": "stdout",
          "text": [
            "{'name': 'Andrei', 'age': 32, 'magic_power': False}\n"
          ]
        }
      ]
    },
    {
      "cell_type": "code",
      "source": [
        "new_dict = my_dict.pop('favourite_snack', None)"
      ],
      "metadata": {
        "id": "mID3wvOZKlNq"
      },
      "execution_count": null,
      "outputs": []
    },
    {
      "cell_type": "code",
      "source": [
        "# create a dict\n",
        "# from two collections\n",
        "new_dict = dict(\n",
        "    zip(\n",
        "        ['name', 'age', 'magic_power'],\n",
        "        ['Andrei', 32, False]\n",
        "    )\n",
        ")\n",
        "\n",
        "# 1st list in sqr-brackets is key\n",
        "# 2nd is values"
      ],
      "metadata": {
        "id": "w_YZOSIWLtvJ"
      },
      "execution_count": null,
      "outputs": []
    },
    {
      "cell_type": "code",
      "source": [
        "# dict comprehension\n",
        "{key: value for key,\n",
        "      value in new_dict.items()\n",
        "      if key == 'age' or key == 'name'}\n",
        "\n",
        "# filtering dict by keys"
      ],
      "metadata": {
        "colab": {
          "base_uri": "https://localhost:8080/"
        },
        "id": "GwdnUq0eK0pz",
        "outputId": "c07bc002-1933-4d5a-9f94-778018efeeb2"
      },
      "execution_count": null,
      "outputs": [
        {
          "output_type": "execute_result",
          "data": {
            "text/plain": [
              "{'name': 'Andrei', 'age': 32}"
            ]
          },
          "metadata": {},
          "execution_count": 33
        }
      ]
    },
    {
      "cell_type": "code",
      "source": [
        "# tuples are for immutable things\n",
        "# i.e. things that don't change\n",
        "my_tuple = ('apple', 'grapes', 'mango', 'grapes')"
      ],
      "metadata": {
        "id": "h7q_4kCCLmNf"
      },
      "execution_count": null,
      "outputs": []
    },
    {
      "cell_type": "code",
      "source": [
        "print(my_tuple)"
      ],
      "metadata": {
        "colab": {
          "base_uri": "https://localhost:8080/"
        },
        "id": "5gPjyrGMM5AY",
        "outputId": "1c1ac5c2-0b82-4ef3-f2bb-3a7f2d13793f"
      },
      "execution_count": null,
      "outputs": [
        {
          "output_type": "stream",
          "name": "stdout",
          "text": [
            "('apple', 'grapes', 'mango', 'grapes')\n"
          ]
        }
      ]
    },
    {
      "cell_type": "code",
      "source": [
        "apple, grapes, mango, grapes = my_tuple\n",
        "# tuple unpacking"
      ],
      "metadata": {
        "id": "xHe98o9RM66Q"
      },
      "execution_count": null,
      "outputs": []
    },
    {
      "cell_type": "code",
      "source": [
        "print(my_tuple)"
      ],
      "metadata": {
        "colab": {
          "base_uri": "https://localhost:8080/"
        },
        "id": "saNSMVtFM_Cl",
        "outputId": "51e97d31-1077-49ee-c8b5-1d3a916ef02d"
      },
      "execution_count": null,
      "outputs": [
        {
          "output_type": "stream",
          "name": "stdout",
          "text": [
            "('apple', 'grapes', 'mango', 'grapes')\n"
          ]
        }
      ]
    },
    {
      "cell_type": "code",
      "source": [
        "print(apple)"
      ],
      "metadata": {
        "colab": {
          "base_uri": "https://localhost:8080/"
        },
        "id": "gkXZqQE0NEEQ",
        "outputId": "c5da8340-585a-4a30-c65c-ae40bf9b1302"
      },
      "execution_count": null,
      "outputs": [
        {
          "output_type": "stream",
          "name": "stdout",
          "text": [
            "apple\n"
          ]
        }
      ]
    },
    {
      "cell_type": "code",
      "source": [
        "len(my_tuple)"
      ],
      "metadata": {
        "colab": {
          "base_uri": "https://localhost:8080/"
        },
        "id": "7rjiMGhQNIaH",
        "outputId": "ac772702-2832-4a74-edf9-67d877344a33"
      },
      "execution_count": null,
      "outputs": [
        {
          "output_type": "execute_result",
          "data": {
            "text/plain": [
              "4"
            ]
          },
          "metadata": {},
          "execution_count": 40
        }
      ]
    },
    {
      "cell_type": "code",
      "source": [
        "my_tuple[2]"
      ],
      "metadata": {
        "colab": {
          "base_uri": "https://localhost:8080/",
          "height": 36
        },
        "id": "SRxQs3RINKp0",
        "outputId": "5d791129-49e4-495e-dbe7-29ee02daad0e"
      },
      "execution_count": null,
      "outputs": [
        {
          "output_type": "execute_result",
          "data": {
            "text/plain": [
              "'mango'"
            ],
            "application/vnd.google.colaboratory.intrinsic+json": {
              "type": "string"
            }
          },
          "metadata": {},
          "execution_count": 41
        }
      ]
    },
    {
      "cell_type": "code",
      "source": [
        "my_tuple[-1]"
      ],
      "metadata": {
        "colab": {
          "base_uri": "https://localhost:8080/",
          "height": 36
        },
        "id": "rqRW7xExNMR9",
        "outputId": "f210a172-2248-42b1-959e-567d8995f2d7"
      },
      "execution_count": null,
      "outputs": [
        {
          "output_type": "execute_result",
          "data": {
            "text/plain": [
              "'grapes'"
            ],
            "application/vnd.google.colaboratory.intrinsic+json": {
              "type": "string"
            }
          },
          "metadata": {},
          "execution_count": 42
        }
      ]
    },
    {
      "cell_type": "code",
      "source": [
        "# immutability\n",
        "my_tuple[1] = 'doughnuts'\n",
        "# type error"
      ],
      "metadata": {
        "colab": {
          "base_uri": "https://localhost:8080/",
          "height": 210
        },
        "id": "8SnqHrw_NOCv",
        "outputId": "c393f6c3-733a-4550-b15c-a98dfedf6dd9"
      },
      "execution_count": null,
      "outputs": [
        {
          "output_type": "error",
          "ename": "TypeError",
          "evalue": "ignored",
          "traceback": [
            "\u001b[0;31m---------------------------------------------------------------------------\u001b[0m",
            "\u001b[0;31mTypeError\u001b[0m                                 Traceback (most recent call last)",
            "\u001b[0;32m<ipython-input-43-945f71fdda16>\u001b[0m in \u001b[0;36m<cell line: 2>\u001b[0;34m()\u001b[0m\n\u001b[1;32m      1\u001b[0m \u001b[0;31m# immutability\u001b[0m\u001b[0;34m\u001b[0m\u001b[0;34m\u001b[0m\u001b[0m\n\u001b[0;32m----> 2\u001b[0;31m \u001b[0mmy_tuple\u001b[0m\u001b[0;34m[\u001b[0m\u001b[0;36m1\u001b[0m\u001b[0;34m]\u001b[0m \u001b[0;34m=\u001b[0m \u001b[0;34m'doughnuts'\u001b[0m\u001b[0;34m\u001b[0m\u001b[0;34m\u001b[0m\u001b[0m\n\u001b[0m\u001b[1;32m      3\u001b[0m \u001b[0;31m# type error\u001b[0m\u001b[0;34m\u001b[0m\u001b[0;34m\u001b[0m\u001b[0m\n",
            "\u001b[0;31mTypeError\u001b[0m: 'tuple' object does not support item assignment"
          ]
        }
      ]
    },
    {
      "cell_type": "code",
      "source": [
        "# immutability\n",
        "my_tuple.append('candy')\n",
        "# attribute error"
      ],
      "metadata": {
        "colab": {
          "base_uri": "https://localhost:8080/",
          "height": 210
        },
        "id": "-aXE01kLNUnx",
        "outputId": "10e09059-4c8b-4a7a-d408-758f7e99584f"
      },
      "execution_count": null,
      "outputs": [
        {
          "output_type": "error",
          "ename": "AttributeError",
          "evalue": "ignored",
          "traceback": [
            "\u001b[0;31m---------------------------------------------------------------------------\u001b[0m",
            "\u001b[0;31mAttributeError\u001b[0m                            Traceback (most recent call last)",
            "\u001b[0;32m<ipython-input-44-799003300a33>\u001b[0m in \u001b[0;36m<cell line: 2>\u001b[0;34m()\u001b[0m\n\u001b[1;32m      1\u001b[0m \u001b[0;31m# immutability\u001b[0m\u001b[0;34m\u001b[0m\u001b[0;34m\u001b[0m\u001b[0m\n\u001b[0;32m----> 2\u001b[0;31m \u001b[0mmy_tuple\u001b[0m\u001b[0;34m.\u001b[0m\u001b[0mappend\u001b[0m\u001b[0;34m(\u001b[0m\u001b[0;34m'candy'\u001b[0m\u001b[0;34m)\u001b[0m\u001b[0;34m\u001b[0m\u001b[0;34m\u001b[0m\u001b[0m\n\u001b[0m\u001b[1;32m      3\u001b[0m \u001b[0;31m# attribute error\u001b[0m\u001b[0;34m\u001b[0m\u001b[0;34m\u001b[0m\u001b[0m\n",
            "\u001b[0;31mAttributeError\u001b[0m: 'tuple' object has no attribute 'append'"
          ]
        }
      ]
    },
    {
      "cell_type": "code",
      "source": [
        "my_tuple.index('grapes')"
      ],
      "metadata": {
        "colab": {
          "base_uri": "https://localhost:8080/"
        },
        "id": "D8-pZc3aNbXD",
        "outputId": "4e7ffc62-d4b6-4ef3-d3e3-2ccc127537d4"
      },
      "execution_count": null,
      "outputs": [
        {
          "output_type": "execute_result",
          "data": {
            "text/plain": [
              "1"
            ]
          },
          "metadata": {},
          "execution_count": 45
        }
      ]
    },
    {
      "cell_type": "code",
      "source": [
        "my_tuple.count('grapes')"
      ],
      "metadata": {
        "colab": {
          "base_uri": "https://localhost:8080/"
        },
        "id": "u6qrKc5cNgzB",
        "outputId": "fb5a2412-e460-41f0-a637-9f1b0243267e"
      },
      "execution_count": null,
      "outputs": [
        {
          "output_type": "execute_result",
          "data": {
            "text/plain": [
              "2"
            ]
          },
          "metadata": {},
          "execution_count": 46
        }
      ]
    },
    {
      "cell_type": "code",
      "source": [
        "list(zip([1,2,3], [4,5,6]))"
      ],
      "metadata": {
        "colab": {
          "base_uri": "https://localhost:8080/"
        },
        "id": "IFmKO1b-Njc8",
        "outputId": "04f20dc6-a457-40b5-d6c0-6b598e4bc149"
      },
      "execution_count": null,
      "outputs": [
        {
          "output_type": "execute_result",
          "data": {
            "text/plain": [
              "[(1, 4), (2, 5), (3, 6)]"
            ]
          },
          "metadata": {},
          "execution_count": 47
        }
      ]
    },
    {
      "cell_type": "code",
      "source": [
        "# unzip\n",
        "z = [(1,2), (3,4), (5,6), (7,8)]\n",
        "unzip = lambda z: list(zip(*z))\n",
        "\n",
        "unzip(z)"
      ],
      "metadata": {
        "colab": {
          "base_uri": "https://localhost:8080/"
        },
        "id": "sbvvOB7KNqt7",
        "outputId": "f25174e2-bf05-4d30-c852-4a1aaa05b88c"
      },
      "execution_count": null,
      "outputs": [
        {
          "output_type": "execute_result",
          "data": {
            "text/plain": [
              "[(1, 3, 5, 7), (2, 4, 6, 8)]"
            ]
          },
          "metadata": {},
          "execution_count": 48
        }
      ]
    },
    {
      "cell_type": "code",
      "source": [
        "my_set = set()"
      ],
      "metadata": {
        "id": "JmhUrpSkN-oY"
      },
      "execution_count": null,
      "outputs": []
    },
    {
      "cell_type": "code",
      "source": [
        "print(my_set)"
      ],
      "metadata": {
        "colab": {
          "base_uri": "https://localhost:8080/"
        },
        "id": "nT2fNWACOe4Q",
        "outputId": "d63d4bb4-f46c-4828-b8ba-59d6c05e6ace"
      },
      "execution_count": null,
      "outputs": [
        {
          "output_type": "stream",
          "name": "stdout",
          "text": [
            "set()\n"
          ]
        }
      ]
    },
    {
      "cell_type": "code",
      "source": [
        "# sets are unordered\n",
        "# sets have unique elements\n",
        "my_set.add(1)"
      ],
      "metadata": {
        "id": "aJ3SHs-POgT3"
      },
      "execution_count": null,
      "outputs": []
    },
    {
      "cell_type": "code",
      "source": [
        "print(my_set)"
      ],
      "metadata": {
        "colab": {
          "base_uri": "https://localhost:8080/"
        },
        "id": "TPvVgjJlOmgp",
        "outputId": "f51cac06-f35d-4c46-c430-b1f12af54412"
      },
      "execution_count": null,
      "outputs": [
        {
          "output_type": "stream",
          "name": "stdout",
          "text": [
            "{1}\n"
          ]
        }
      ]
    },
    {
      "cell_type": "code",
      "source": [
        "my_set.add(100)\n",
        "my_set.add(100)\n",
        "print(my_set)"
      ],
      "metadata": {
        "colab": {
          "base_uri": "https://localhost:8080/"
        },
        "id": "gmBCggx_On2S",
        "outputId": "8b2a4fce-8d9c-465f-db18-3832f0663402"
      },
      "execution_count": null,
      "outputs": [
        {
          "output_type": "stream",
          "name": "stdout",
          "text": [
            "{1, 100}\n"
          ]
        }
      ]
    },
    {
      "cell_type": "code",
      "source": [
        "new_list = [1,2,3,3,3,4,4,5,6,1]\n",
        "set(new_list)"
      ],
      "metadata": {
        "colab": {
          "base_uri": "https://localhost:8080/"
        },
        "id": "hvn6TuWUOs4X",
        "outputId": "1e5a46ed-64eb-4039-cdb6-8793a388507b"
      },
      "execution_count": null,
      "outputs": [
        {
          "output_type": "execute_result",
          "data": {
            "text/plain": [
              "{1, 2, 3, 4, 5, 6}"
            ]
          },
          "metadata": {},
          "execution_count": 54
        }
      ]
    },
    {
      "cell_type": "code",
      "source": [
        "my_set.remove(100)"
      ],
      "metadata": {
        "id": "rgKo2RT5O4Ru"
      },
      "execution_count": null,
      "outputs": []
    },
    {
      "cell_type": "code",
      "source": [
        "print(my_set)"
      ],
      "metadata": {
        "colab": {
          "base_uri": "https://localhost:8080/"
        },
        "id": "Z0Y7kXJEO8jA",
        "outputId": "bf87ae5d-194a-4560-f624-757898f518fa"
      },
      "execution_count": null,
      "outputs": [
        {
          "output_type": "stream",
          "name": "stdout",
          "text": [
            "{1}\n"
          ]
        }
      ]
    },
    {
      "cell_type": "code",
      "source": [
        "my_set.discard(100)\n",
        "# no errors if element doesn't exist"
      ],
      "metadata": {
        "id": "TBdfwh2qO-9_"
      },
      "execution_count": null,
      "outputs": []
    },
    {
      "cell_type": "code",
      "source": [
        "my_set.clear()"
      ],
      "metadata": {
        "id": "hb3NkO_8PEo-"
      },
      "execution_count": null,
      "outputs": []
    },
    {
      "cell_type": "code",
      "source": [
        "new_set = {1,2,3}.copy()"
      ],
      "metadata": {
        "id": "pZxjLRjRPGtD"
      },
      "execution_count": null,
      "outputs": []
    },
    {
      "cell_type": "code",
      "source": [
        "print(new_set)"
      ],
      "metadata": {
        "colab": {
          "base_uri": "https://localhost:8080/"
        },
        "id": "__m83qWyPKui",
        "outputId": "24d53d7d-1411-4cbd-d715-d457abbda301"
      },
      "execution_count": null,
      "outputs": [
        {
          "output_type": "stream",
          "name": "stdout",
          "text": [
            "{1, 2, 3}\n"
          ]
        }
      ]
    },
    {
      "cell_type": "code",
      "source": [
        "set1 = {1,2,3}\n",
        "set2 = {3,4,5}\n",
        "set3 = set1.union(set2)\n",
        "set4 = set1.intersection(set2)\n",
        "set5 = set1.difference(set2)\n",
        "set6 = set1.symmetric_difference(set2)\n",
        "print(set3, '\\n', set4, '\\n', set5, '\\n', set6)\n",
        "print(\n",
        "    set1.issubset(set2), '\\n',\n",
        "    set1.issuperset(set2), '\\n',\n",
        "    set1.isdisjoint(set2)\n",
        ")"
      ],
      "metadata": {
        "colab": {
          "base_uri": "https://localhost:8080/"
        },
        "id": "w-0OIaljPNPN",
        "outputId": "d631553f-bc92-45fe-a8dd-ac33b6eec3ab"
      },
      "execution_count": null,
      "outputs": [
        {
          "output_type": "stream",
          "name": "stdout",
          "text": [
            "{1, 2, 3, 4, 5} \n",
            " {3} \n",
            " {1, 2} \n",
            " {1, 2, 4, 5}\n",
            "False \n",
            " False \n",
            " False\n"
          ]
        }
      ]
    },
    {
      "cell_type": "code",
      "source": [
        "# frozen set\n",
        "# hashable\n",
        "# can be used as a key in a dict\n",
        "# or, as an element in a set\n",
        "<frozenset> = frozenset(<collection>)"
      ],
      "metadata": {
        "colab": {
          "base_uri": "https://localhost:8080/",
          "height": 140
        },
        "id": "iHNJ7v_JPv5n",
        "outputId": "2e13067a-72aa-42b0-d8f2-0d2d06f0ba90"
      },
      "execution_count": null,
      "outputs": [
        {
          "output_type": "error",
          "ename": "SyntaxError",
          "evalue": "ignored",
          "traceback": [
            "\u001b[0;36m  File \u001b[0;32m\"<ipython-input-64-5ed9013d45b4>\"\u001b[0;36m, line \u001b[0;32m5\u001b[0m\n\u001b[0;31m    <frozenset> = frozenset(<collection>)\u001b[0m\n\u001b[0m    ^\u001b[0m\n\u001b[0;31mSyntaxError\u001b[0m\u001b[0;31m:\u001b[0m invalid syntax\n"
          ]
        }
      ]
    },
    {
      "cell_type": "markdown",
      "source": [
        "It looks like you're trying to assign a frozen set to a variable in Python, but there's a syntax error in your code. The correct way to create a frozen set and assign it to a variable is as follows:\n",
        "\n",
        "```python\n",
        "my_collection = [1, 2, 3, 4, 5]\n",
        "my_frozen_set = frozenset(my_collection)\n",
        "```\n",
        "\n",
        "In this example, `my_collection` is a list containing some elements, and `my_frozen_set` is a variable that holds a frozen set created from the elements in the list.\n",
        "\n",
        "Remember that a frozen set is an immutable version of a set, meaning you cannot modify its elements after creation."
      ],
      "metadata": {
        "id": "pPIKLK17Q-HN"
      }
    },
    {
      "cell_type": "code",
      "source": [
        "# frozen set\n",
        "# hashable\n",
        "# can be used as a key in a dict\n",
        "# or, as an element in a set\n",
        "frozenset1 = frozenset(collection)"
      ],
      "metadata": {
        "colab": {
          "base_uri": "https://localhost:8080/",
          "height": 210
        },
        "id": "xB6VLFzeQfPu",
        "outputId": "95745668-c26b-44f1-cf6b-f1487bea41da"
      },
      "execution_count": null,
      "outputs": [
        {
          "output_type": "error",
          "ename": "NameError",
          "evalue": "ignored",
          "traceback": [
            "\u001b[0;31m---------------------------------------------------------------------------\u001b[0m",
            "\u001b[0;31mNameError\u001b[0m                                 Traceback (most recent call last)",
            "\u001b[0;32m<ipython-input-65-525e02ea692f>\u001b[0m in \u001b[0;36m<cell line: 5>\u001b[0;34m()\u001b[0m\n\u001b[1;32m      3\u001b[0m \u001b[0;31m# can be used as a key in a dict\u001b[0m\u001b[0;34m\u001b[0m\u001b[0;34m\u001b[0m\u001b[0m\n\u001b[1;32m      4\u001b[0m \u001b[0;31m# or, as an element in a set\u001b[0m\u001b[0;34m\u001b[0m\u001b[0;34m\u001b[0m\u001b[0m\n\u001b[0;32m----> 5\u001b[0;31m \u001b[0mfrozenset1\u001b[0m \u001b[0;34m=\u001b[0m \u001b[0mfrozenset\u001b[0m\u001b[0;34m(\u001b[0m\u001b[0mcollection\u001b[0m\u001b[0;34m)\u001b[0m\u001b[0;34m\u001b[0m\u001b[0;34m\u001b[0m\u001b[0m\n\u001b[0m",
            "\u001b[0;31mNameError\u001b[0m: name 'collection' is not defined"
          ]
        }
      ]
    },
    {
      "cell_type": "code",
      "source": [
        "collection = [1, 2, 3, 4, 5]\n",
        "# frozen set\n",
        "# hashable\n",
        "# can be used as a key in a dict\n",
        "# or, as an element in a set\n",
        "frozenset1 = frozenset(collection)"
      ],
      "metadata": {
        "id": "tvT0DYwcRJuY"
      },
      "execution_count": null,
      "outputs": []
    },
    {
      "cell_type": "code",
      "source": [
        "print(frozenset1)"
      ],
      "metadata": {
        "colab": {
          "base_uri": "https://localhost:8080/"
        },
        "id": "rtQJ1ME4ROvZ",
        "outputId": "1cf5109f-4c3a-4373-eccf-0180464a62e6"
      },
      "execution_count": null,
      "outputs": [
        {
          "output_type": "stream",
          "name": "stdout",
          "text": [
            "frozenset({1, 2, 3, 4, 5})\n"
          ]
        }
      ]
    },
    {
      "cell_type": "code",
      "source": [
        "type(None)"
      ],
      "metadata": {
        "colab": {
          "base_uri": "https://localhost:8080/"
        },
        "id": "3TpsLPRhRQ8p",
        "outputId": "2cc82786-5440-4914-8617-8aa0e5edaa95"
      },
      "execution_count": null,
      "outputs": [
        {
          "output_type": "execute_result",
          "data": {
            "text/plain": [
              "NoneType"
            ]
          },
          "metadata": {},
          "execution_count": 68
        }
      ]
    },
    {
      "cell_type": "code",
      "source": [
        "a = None"
      ],
      "metadata": {
        "id": "F26rV4_6SCxu"
      },
      "execution_count": null,
      "outputs": []
    },
    {
      "cell_type": "code",
      "source": [
        "print(a)"
      ],
      "metadata": {
        "colab": {
          "base_uri": "https://localhost:8080/"
        },
        "id": "oiwxkY0GSD5j",
        "outputId": "1003e20f-a2dc-4965-d177-575b1df20a8b"
      },
      "execution_count": null,
      "outputs": [
        {
          "output_type": "stream",
          "name": "stdout",
          "text": [
            "None\n"
          ]
        }
      ]
    },
    {
      "cell_type": "code",
      "source": [
        "ls1 = [1,2,3]\n",
        "ls2 = [1,2,3]\n",
        "print(ls1 == ls2)\n",
        "print(ls1 is ls2)"
      ],
      "metadata": {
        "colab": {
          "base_uri": "https://localhost:8080/"
        },
        "id": "ZEWAkbfoSE5N",
        "outputId": "30dba9b8-8e36-4ab5-9e50-5482bf41b2be"
      },
      "execution_count": null,
      "outputs": [
        {
          "output_type": "stream",
          "name": "stdout",
          "text": [
            "True\n",
            "False\n"
          ]
        }
      ]
    },
    {
      "cell_type": "code",
      "source": [
        "1<2 and 4>1"
      ],
      "metadata": {
        "colab": {
          "base_uri": "https://localhost:8080/"
        },
        "id": "s-L5lylZSWrq",
        "outputId": "6a248008-ceb3-4132-8c82-9822544282a3"
      },
      "execution_count": null,
      "outputs": [
        {
          "output_type": "execute_result",
          "data": {
            "text/plain": [
              "True"
            ]
          },
          "metadata": {},
          "execution_count": 75
        }
      ]
    },
    {
      "cell_type": "code",
      "source": [
        "1>3 or 4>1"
      ],
      "metadata": {
        "colab": {
          "base_uri": "https://localhost:8080/"
        },
        "id": "osI7NCbzSzG5",
        "outputId": "df9d6344-22a3-43a2-959f-3bc48aea505e"
      },
      "execution_count": null,
      "outputs": [
        {
          "output_type": "execute_result",
          "data": {
            "text/plain": [
              "True"
            ]
          },
          "metadata": {},
          "execution_count": 76
        }
      ]
    },
    {
      "cell_type": "code",
      "source": [
        "1 is not 4"
      ],
      "metadata": {
        "colab": {
          "base_uri": "https://localhost:8080/"
        },
        "id": "Jf_S9TTGS1S8",
        "outputId": "25edba68-dbf6-4207-b4d6-b2775251298c"
      },
      "execution_count": null,
      "outputs": [
        {
          "output_type": "stream",
          "name": "stderr",
          "text": [
            "<>:1: SyntaxWarning: \"is not\" with a literal. Did you mean \"!=\"?\n",
            "<>:1: SyntaxWarning: \"is not\" with a literal. Did you mean \"!=\"?\n",
            "<ipython-input-77-cb80dda4bc11>:1: SyntaxWarning: \"is not\" with a literal. Did you mean \"!=\"?\n",
            "  1 is not 4\n"
          ]
        },
        {
          "output_type": "execute_result",
          "data": {
            "text/plain": [
              "True"
            ]
          },
          "metadata": {},
          "execution_count": 77
        }
      ]
    },
    {
      "cell_type": "code",
      "source": [
        "not True"
      ],
      "metadata": {
        "colab": {
          "base_uri": "https://localhost:8080/"
        },
        "id": "4wcSRZ_yS2kx",
        "outputId": "b26a2646-3c99-4f4e-8d3a-38719aba4a73"
      },
      "execution_count": null,
      "outputs": [
        {
          "output_type": "execute_result",
          "data": {
            "text/plain": [
              "False"
            ]
          },
          "metadata": {},
          "execution_count": 78
        }
      ]
    },
    {
      "cell_type": "code",
      "source": [
        "1 not in [2,3,4]"
      ],
      "metadata": {
        "colab": {
          "base_uri": "https://localhost:8080/"
        },
        "id": "J3zVKSzaS4_3",
        "outputId": "4f65499c-5da9-4af8-8a06-f5961234a134"
      },
      "execution_count": null,
      "outputs": [
        {
          "output_type": "execute_result",
          "data": {
            "text/plain": [
              "True"
            ]
          },
          "metadata": {},
          "execution_count": 79
        }
      ]
    },
    {
      "cell_type": "markdown",
      "source": [
        "# Self Practice 4"
      ],
      "metadata": {
        "id": "PRGE1xVsTDRN"
      }
    },
    {
      "cell_type": "code",
      "source": [
        "my_list = [1,2,3]\n",
        "my_tuple = (1,2,3)\n",
        "my_list2 = [(1,2), (3,4), (5,6)]\n",
        "my_dict = {'a':1, 'b':2, 'c':3}"
      ],
      "metadata": {
        "id": "artgpJ4C3clw"
      },
      "execution_count": null,
      "outputs": []
    },
    {
      "cell_type": "code",
      "source": [
        "for num in my_list:\n",
        "  print(num)"
      ],
      "metadata": {
        "colab": {
          "base_uri": "https://localhost:8080/"
        },
        "id": "NUltRWFq3wGP",
        "outputId": "b09cbbe8-f9fb-4b20-d520-f21743e03d39"
      },
      "execution_count": null,
      "outputs": [
        {
          "output_type": "stream",
          "name": "stdout",
          "text": [
            "1\n",
            "2\n",
            "3\n"
          ]
        }
      ]
    },
    {
      "cell_type": "code",
      "source": [
        "for num in my_tuple:\n",
        "  print(num)"
      ],
      "metadata": {
        "colab": {
          "base_uri": "https://localhost:8080/"
        },
        "id": "ygBE8Utc31ej",
        "outputId": "a7d5a0e4-5790-4de7-a65e-c4c141cb0da4"
      },
      "execution_count": null,
      "outputs": [
        {
          "output_type": "stream",
          "name": "stdout",
          "text": [
            "1\n",
            "2\n",
            "3\n"
          ]
        }
      ]
    },
    {
      "cell_type": "code",
      "source": [
        "for num in my_list2:\n",
        "  print(num)"
      ],
      "metadata": {
        "colab": {
          "base_uri": "https://localhost:8080/"
        },
        "id": "TF0coGgg345Z",
        "outputId": "3e6dc968-a4c0-4dd8-f05b-112c4719e526"
      },
      "execution_count": null,
      "outputs": [
        {
          "output_type": "stream",
          "name": "stdout",
          "text": [
            "(1, 2)\n",
            "(3, 4)\n",
            "(5, 6)\n"
          ]
        }
      ]
    },
    {
      "cell_type": "code",
      "source": [
        "for num in '123':\n",
        "  print(num)"
      ],
      "metadata": {
        "colab": {
          "base_uri": "https://localhost:8080/"
        },
        "id": "BboFOvpQ38Zt",
        "outputId": "33aba35b-7dde-4895-f346-e4b64344637b"
      },
      "execution_count": null,
      "outputs": [
        {
          "output_type": "stream",
          "name": "stdout",
          "text": [
            "1\n",
            "2\n",
            "3\n"
          ]
        }
      ]
    },
    {
      "cell_type": "code",
      "source": [
        "for k,v in my_dict.items():\n",
        "  print(k)\n",
        "  print(v)\n",
        "# dict unpacking\n",
        "# k = key\n",
        "# v = val"
      ],
      "metadata": {
        "colab": {
          "base_uri": "https://localhost:8080/"
        },
        "id": "ll9xWnzq4AFz",
        "outputId": "ad7dad93-db27-479c-ac07-90cb32c8c12b"
      },
      "execution_count": null,
      "outputs": [
        {
          "output_type": "stream",
          "name": "stdout",
          "text": [
            "a\n",
            "1\n",
            "b\n",
            "2\n",
            "c\n",
            "3\n"
          ]
        }
      ]
    },
    {
      "cell_type": "code",
      "source": [
        "# waiting until user quits\n",
        "msg = ''\n",
        "while msg != 'quit':\n",
        "  msg = input(\"What should I do?\")\n",
        "  print(msg)"
      ],
      "metadata": {
        "colab": {
          "base_uri": "https://localhost:8080/"
        },
        "id": "PWgRCXht4Omt",
        "outputId": "e835dce1-d8ed-43e9-ff82-02a29cd3470c"
      },
      "execution_count": null,
      "outputs": [
        {
          "output_type": "stream",
          "name": "stdout",
          "text": [
            "What should I do?hunt birds\n",
            "hunt birds\n",
            "What should I do?view gardens\n",
            "view gardens\n",
            "What should I do?\n",
            "\n",
            "What should I do?quit\n",
            "quit\n"
          ]
        }
      ]
    },
    {
      "cell_type": "code",
      "source": [
        "range(10)"
      ],
      "metadata": {
        "colab": {
          "base_uri": "https://localhost:8080/"
        },
        "id": "CVG-4OAt4eGt",
        "outputId": "5fba9c06-465e-46f3-b4a3-38a92b7a89f1"
      },
      "execution_count": null,
      "outputs": [
        {
          "output_type": "execute_result",
          "data": {
            "text/plain": [
              "range(0, 10)"
            ]
          },
          "metadata": {},
          "execution_count": 8
        }
      ]
    },
    {
      "cell_type": "code",
      "source": [
        "range(1,10)"
      ],
      "metadata": {
        "colab": {
          "base_uri": "https://localhost:8080/"
        },
        "id": "w3glqcPj4reZ",
        "outputId": "310e4d23-3e1d-4568-c3b3-f25c3b066c55"
      },
      "execution_count": null,
      "outputs": [
        {
          "output_type": "execute_result",
          "data": {
            "text/plain": [
              "range(1, 10)"
            ]
          },
          "metadata": {},
          "execution_count": 9
        }
      ]
    },
    {
      "cell_type": "code",
      "source": [
        "list(range(0,10,2))"
      ],
      "metadata": {
        "colab": {
          "base_uri": "https://localhost:8080/"
        },
        "id": "GjQ7i-Z24uP6",
        "outputId": "4d280d04-0728-4da9-f29d-685e0ec2da42"
      },
      "execution_count": null,
      "outputs": [
        {
          "output_type": "execute_result",
          "data": {
            "text/plain": [
              "[0, 2, 4, 6, 8]"
            ]
          },
          "metadata": {},
          "execution_count": 10
        }
      ]
    },
    {
      "cell_type": "code",
      "source": [
        "for i, el in enumerate('hello'):\n",
        "  print(f'{i}, {el}')"
      ],
      "metadata": {
        "colab": {
          "base_uri": "https://localhost:8080/"
        },
        "id": "2NfVtJw04xSh",
        "outputId": "de94b057-6f77-4e51-8a84-12b9e41a089f"
      },
      "execution_count": null,
      "outputs": [
        {
          "output_type": "stream",
          "name": "stdout",
          "text": [
            "0, h\n",
            "1, e\n",
            "2, l\n",
            "3, l\n",
            "4, o\n"
          ]
        }
      ]
    },
    {
      "cell_type": "code",
      "source": [
        "# counter\n",
        "from collections import Counter\n",
        "colours = ['red', 'blue', 'yellow', 'blue',\n",
        "           'red', 'blue']\n",
        "counter = Counter(colours)\n",
        "counter.most_common()[0]"
      ],
      "metadata": {
        "colab": {
          "base_uri": "https://localhost:8080/"
        },
        "id": "r3LpeO_8805d",
        "outputId": "37e2eb2b-790f-44ff-95bb-411f9b53c269"
      },
      "execution_count": null,
      "outputs": [
        {
          "output_type": "execute_result",
          "data": {
            "text/plain": [
              "('blue', 3)"
            ]
          },
          "metadata": {},
          "execution_count": 12
        }
      ]
    },
    {
      "cell_type": "code",
      "source": [
        "# Tuple is an immutable\n",
        "# and hashable list.\n",
        "\n",
        "# Named tuple is its subclass\n",
        "# with named elements.\n",
        "\n",
        "from collections import namedtuple\n",
        "Point = namedtuple('Point', 'x y')\n",
        "p = Point(1, y=2)\n",
        "p[0]"
      ],
      "metadata": {
        "colab": {
          "base_uri": "https://localhost:8080/"
        },
        "id": "X0liU46a9KUf",
        "outputId": "9f3e53be-3834-4638-eae2-46687b0ce43a"
      },
      "execution_count": null,
      "outputs": [
        {
          "output_type": "execute_result",
          "data": {
            "text/plain": [
              "1"
            ]
          },
          "metadata": {},
          "execution_count": 13
        }
      ]
    },
    {
      "cell_type": "code",
      "source": [
        "p.x"
      ],
      "metadata": {
        "colab": {
          "base_uri": "https://localhost:8080/"
        },
        "id": "X_yR2m1Y-Ic_",
        "outputId": "45e896c7-22c5-48fa-f9f6-0877eff9090b"
      },
      "execution_count": null,
      "outputs": [
        {
          "output_type": "execute_result",
          "data": {
            "text/plain": [
              "1"
            ]
          },
          "metadata": {},
          "execution_count": 14
        }
      ]
    },
    {
      "cell_type": "code",
      "source": [
        "getattr(p, 'y')"
      ],
      "metadata": {
        "colab": {
          "base_uri": "https://localhost:8080/"
        },
        "id": "EuXIKjSt-KXi",
        "outputId": "6008e8c6-46e1-488d-aff6-f95b48dd8278"
      },
      "execution_count": null,
      "outputs": [
        {
          "output_type": "execute_result",
          "data": {
            "text/plain": [
              "2"
            ]
          },
          "metadata": {},
          "execution_count": 15
        }
      ]
    },
    {
      "cell_type": "code",
      "source": [
        "p._fields"
      ],
      "metadata": {
        "colab": {
          "base_uri": "https://localhost:8080/"
        },
        "id": "EKczY1IL-OAk",
        "outputId": "435111b9-5517-4874-bb60-2189eb0ce984"
      },
      "execution_count": null,
      "outputs": [
        {
          "output_type": "execute_result",
          "data": {
            "text/plain": [
              "('x', 'y')"
            ]
          },
          "metadata": {},
          "execution_count": 16
        }
      ]
    },
    {
      "cell_type": "code",
      "source": [
        "Point._fields"
      ],
      "metadata": {
        "colab": {
          "base_uri": "https://localhost:8080/"
        },
        "id": "ygvI_xWQ-RF8",
        "outputId": "db839536-2972-4a9b-f297-817b0632454d"
      },
      "execution_count": null,
      "outputs": [
        {
          "output_type": "execute_result",
          "data": {
            "text/plain": [
              "('x', 'y')"
            ]
          },
          "metadata": {},
          "execution_count": 17
        }
      ]
    },
    {
      "cell_type": "code",
      "source": [
        "from collections import namedtuple\n",
        "Person = namedtuple('Person', 'name height')\n",
        "person = Person('Jean-Luc', 187)\n",
        "f'{person.height}'"
      ],
      "metadata": {
        "colab": {
          "base_uri": "https://localhost:8080/",
          "height": 36
        },
        "id": "ARErtl3E-UPe",
        "outputId": "6fd0b7e6-1876-4fdc-e9dc-63737cee998c"
      },
      "execution_count": null,
      "outputs": [
        {
          "output_type": "execute_result",
          "data": {
            "text/plain": [
              "'187'"
            ],
            "application/vnd.google.colaboratory.intrinsic+json": {
              "type": "string"
            }
          },
          "metadata": {},
          "execution_count": 18
        }
      ]
    },
    {
      "cell_type": "code",
      "source": [
        "'{p.height}'.format(p=person)"
      ],
      "metadata": {
        "colab": {
          "base_uri": "https://localhost:8080/",
          "height": 36
        },
        "id": "1BaCXoFF-k-5",
        "outputId": "49946eb9-b660-4f9f-b854-a8a9a1ef8ffa"
      },
      "execution_count": null,
      "outputs": [
        {
          "output_type": "execute_result",
          "data": {
            "text/plain": [
              "'187'"
            ],
            "application/vnd.google.colaboratory.intrinsic+json": {
              "type": "string"
            }
          },
          "metadata": {},
          "execution_count": 19
        }
      ]
    },
    {
      "cell_type": "code",
      "source": [
        "# ordered dict\n",
        "# maintains order of insertion\n",
        "from collections import OrderedDict\n",
        "# Store each person's languages,\n",
        "# keeping # track of who responded first.\n",
        "programmers = OrderedDict()\n",
        "programmers['Tim'] = ['python', 'javascript']\n",
        "programmers['Sarah'] = ['C++']\n",
        "programmers['Bia'] = ['Ruby', 'Python', 'Go']\n",
        "\n",
        "for name, langs in programmers.items():\n",
        "  print(name + '-->')\n",
        "  for lang in langs:\n",
        "    print('\\t' + lang)"
      ],
      "metadata": {
        "colab": {
          "base_uri": "https://localhost:8080/"
        },
        "id": "qCR_T1fJ-plf",
        "outputId": "576106cf-6cf4-4201-d46f-c9d84498f72a"
      },
      "execution_count": null,
      "outputs": [
        {
          "output_type": "stream",
          "name": "stdout",
          "text": [
            "Tim-->\n",
            "\tpython\n",
            "\tjavascript\n",
            "Sarah-->\n",
            "\tC++\n",
            "Bia-->\n",
            "\tRuby\n",
            "\tPython\n",
            "\tGo\n"
          ]
        }
      ]
    },
    {
      "cell_type": "code",
      "source": [
        "# Functions\n",
        "# *args and **kwargs\n",
        "\n",
        "# Splat (*) expands a collection into\n",
        "# positional arguments.\n",
        "\n",
        "# Splatty-splat (**) expands a dict\n",
        "# into keyword arguments.\n",
        "\n",
        "def some_func(*args, **kwargs):\n",
        "  print(args)\n",
        "  print(kwargs)\n",
        "\n",
        "args = (1,2)\n",
        "kwargs = {'x':3, 'y':4, 'z':5}\n",
        "some_func(*args, **kwargs)"
      ],
      "metadata": {
        "colab": {
          "base_uri": "https://localhost:8080/"
        },
        "id": "v0DHyddW_afX",
        "outputId": "7d15383c-9320-4548-bfaa-4d01bb6b9666"
      },
      "execution_count": null,
      "outputs": [
        {
          "output_type": "stream",
          "name": "stdout",
          "text": [
            "(1, 2)\n",
            "{'x': 3, 'y': 4, 'z': 5}\n"
          ]
        }
      ]
    },
    {
      "cell_type": "markdown",
      "source": [
        "**\\(*) Inside Function Definition**\n",
        "<p>Splat combines zero or more positional arguments into a tuple.\n",
        "<p> Splatty-splat combines zero or more keyword arguments into a dictionary."
      ],
      "metadata": {
        "id": "9zTxIdH5A7_a"
      }
    },
    {
      "cell_type": "code",
      "source": [
        "def add(*a):\n",
        "  return sum(a)\n",
        "\n",
        "add(1,2,3)"
      ],
      "metadata": {
        "colab": {
          "base_uri": "https://localhost:8080/"
        },
        "id": "wXfxNC3mAL03",
        "outputId": "ed7101e0-7eb9-4fda-c818-73903b957680"
      },
      "execution_count": null,
      "outputs": [
        {
          "output_type": "execute_result",
          "data": {
            "text/plain": [
              "6"
            ]
          },
          "metadata": {},
          "execution_count": 25
        }
      ]
    },
    {
      "cell_type": "code",
      "source": [
        "[*[1,2,3], *[4]]"
      ],
      "metadata": {
        "colab": {
          "base_uri": "https://localhost:8080/"
        },
        "id": "L4uM2fEiCMeI",
        "outputId": "555ee3d2-6ddf-43f9-f9da-1d1b60325a47"
      },
      "execution_count": null,
      "outputs": [
        {
          "output_type": "execute_result",
          "data": {
            "text/plain": [
              "[1, 2, 3, 4]"
            ]
          },
          "metadata": {},
          "execution_count": 28
        }
      ]
    },
    {
      "cell_type": "code",
      "source": [
        "{*[1,2,3], *[4]}"
      ],
      "metadata": {
        "colab": {
          "base_uri": "https://localhost:8080/"
        },
        "id": "HxT_Hvm9CUEG",
        "outputId": "321d0a70-2162-4393-f278-ef110a5c1bdd"
      },
      "execution_count": null,
      "outputs": [
        {
          "output_type": "execute_result",
          "data": {
            "text/plain": [
              "{1, 2, 3, 4}"
            ]
          },
          "metadata": {},
          "execution_count": 29
        }
      ]
    },
    {
      "cell_type": "code",
      "source": [
        "(*[1,2,3], *[4])"
      ],
      "metadata": {
        "colab": {
          "base_uri": "https://localhost:8080/"
        },
        "id": "7fVvEabICY4g",
        "outputId": "3d2d1027-bb88-4cb0-9647-0bdd2002d0db"
      },
      "execution_count": null,
      "outputs": [
        {
          "output_type": "execute_result",
          "data": {
            "text/plain": [
              "(1, 2, 3, 4)"
            ]
          },
          "metadata": {},
          "execution_count": 30
        }
      ]
    },
    {
      "cell_type": "code",
      "source": [
        "{**{'a':1,'b':2}, **{'c':3}}"
      ],
      "metadata": {
        "colab": {
          "base_uri": "https://localhost:8080/"
        },
        "id": "r8zP1y-3Cc66",
        "outputId": "9f63f313-4a09-4d8a-a537-a40ecc7ed3a3"
      },
      "execution_count": null,
      "outputs": [
        {
          "output_type": "execute_result",
          "data": {
            "text/plain": [
              "{'a': 1, 'b': 2, 'c': 3}"
            ]
          },
          "metadata": {},
          "execution_count": 31
        }
      ]
    },
    {
      "cell_type": "code",
      "source": [
        "head, *body, tail = [1,2,3,4,5]"
      ],
      "metadata": {
        "id": "FRJZ7UT9CkdN"
      },
      "execution_count": null,
      "outputs": []
    },
    {
      "cell_type": "code",
      "source": [
        "print(head, body, tail)"
      ],
      "metadata": {
        "colab": {
          "base_uri": "https://localhost:8080/"
        },
        "id": "QPWTvWLpCrdR",
        "outputId": "ade34288-ac54-466b-bb87-489efbdc66ca"
      },
      "execution_count": null,
      "outputs": [
        {
          "output_type": "stream",
          "name": "stdout",
          "text": [
            "1 [2, 3, 4] 5\n"
          ]
        }
      ]
    },
    {
      "cell_type": "code",
      "source": [
        "from functools import reduce\n",
        "n = 3"
      ],
      "metadata": {
        "id": "2DR5up0qC5Wl"
      },
      "execution_count": null,
      "outputs": []
    },
    {
      "cell_type": "code",
      "source": [
        "fib = lambda n : n if n <= 1 else fib(n-1) + fib(n-2)\n",
        "result = fib(10)\n",
        "print(result)"
      ],
      "metadata": {
        "colab": {
          "base_uri": "https://localhost:8080/"
        },
        "id": "wsZoww7ADDYp",
        "outputId": "cf2963e9-8b11-4937-d9e3-4d1e9d00e28a"
      },
      "execution_count": null,
      "outputs": [
        {
          "output_type": "stream",
          "name": "stdout",
          "text": [
            "55\n"
          ]
        }
      ]
    },
    {
      "cell_type": "code",
      "source": [
        "[i+1 for i in range(10)]"
      ],
      "metadata": {
        "colab": {
          "base_uri": "https://localhost:8080/"
        },
        "id": "bzBTpclaDYw6",
        "outputId": "5538ca09-e76e-40b0-f48f-da93e2f5954a"
      },
      "execution_count": null,
      "outputs": [
        {
          "output_type": "execute_result",
          "data": {
            "text/plain": [
              "[1, 2, 3, 4, 5, 6, 7, 8, 9, 10]"
            ]
          },
          "metadata": {},
          "execution_count": 41
        }
      ]
    },
    {
      "cell_type": "code",
      "source": [
        "{i for i in range(10) if i > 5}"
      ],
      "metadata": {
        "colab": {
          "base_uri": "https://localhost:8080/"
        },
        "id": "peWd4zrxDj7l",
        "outputId": "603fae24-273c-4cfa-f29e-e36a9ccd0faa"
      },
      "execution_count": null,
      "outputs": [
        {
          "output_type": "execute_result",
          "data": {
            "text/plain": [
              "{6, 7, 8, 9}"
            ]
          },
          "metadata": {},
          "execution_count": 42
        }
      ]
    },
    {
      "cell_type": "code",
      "source": [
        "tup = (i+5 for i in range(10))"
      ],
      "metadata": {
        "id": "ie_ByigGD0Tj"
      },
      "execution_count": null,
      "outputs": []
    },
    {
      "cell_type": "code",
      "source": [
        "print(*tup)"
      ],
      "metadata": {
        "colab": {
          "base_uri": "https://localhost:8080/"
        },
        "id": "oy4DYcmBD4mi",
        "outputId": "e83bfa84-6bf3-465b-bdfb-dfc802f12a1f"
      },
      "execution_count": null,
      "outputs": [
        {
          "output_type": "stream",
          "name": "stdout",
          "text": [
            "5 6 7 8 9 10 11 12 13 14\n"
          ]
        }
      ]
    },
    {
      "cell_type": "code",
      "source": [
        "{i: i*2 for i in range(10)}"
      ],
      "metadata": {
        "colab": {
          "base_uri": "https://localhost:8080/"
        },
        "id": "d3xF3uPvEC6H",
        "outputId": "cc5d4dd0-c729-4f27-8555-6236b7bb2f6d"
      },
      "execution_count": null,
      "outputs": [
        {
          "output_type": "execute_result",
          "data": {
            "text/plain": [
              "{0: 0, 1: 2, 2: 4, 3: 6, 4: 8, 5: 10, 6: 12, 7: 14, 8: 16, 9: 18}"
            ]
          },
          "metadata": {},
          "execution_count": 48
        }
      ]
    },
    {
      "cell_type": "code",
      "source": [
        "output = [\n",
        "    i+j for i in range(3)\n",
        "        for j in range(3)\n",
        "]"
      ],
      "metadata": {
        "id": "15rV0aiOELs2"
      },
      "execution_count": null,
      "outputs": []
    },
    {
      "cell_type": "code",
      "source": [
        "print(output)"
      ],
      "metadata": {
        "colab": {
          "base_uri": "https://localhost:8080/"
        },
        "id": "hmxWJLJZEc8X",
        "outputId": "1b579818-6a9a-4ad1-c103-48ea062e27b3"
      },
      "execution_count": null,
      "outputs": [
        {
          "output_type": "stream",
          "name": "stdout",
          "text": [
            "[0, 1, 2, 1, 2, 3, 2, 3, 4]\n"
          ]
        }
      ]
    },
    {
      "cell_type": "code",
      "source": [
        "output = []\n",
        "for i in range(3):\n",
        "  for j in range(3):\n",
        "    output.append(i+j)"
      ],
      "metadata": {
        "id": "dPK32Q6_EekE"
      },
      "execution_count": null,
      "outputs": []
    },
    {
      "cell_type": "code",
      "source": [
        "print(output)"
      ],
      "metadata": {
        "colab": {
          "base_uri": "https://localhost:8080/"
        },
        "id": "PSvLvw_mEmsW",
        "outputId": "c68ed44d-ab75-492d-ed78-d7a6edaa1cb2"
      },
      "execution_count": null,
      "outputs": [
        {
          "output_type": "stream",
          "name": "stdout",
          "text": [
            "[0, 1, 2, 1, 2, 3, 2, 3, 4]\n"
          ]
        }
      ]
    },
    {
      "cell_type": "code",
      "source": [
        "# ternary cond\n",
        "# <expression_if_true>\n",
        "# if <cond>\n",
        "# else <expression_if_false>\n",
        "\n",
        "[\n",
        "    a\n",
        "    if a\n",
        "    else 'zero' for a in [0,1,0,3]\n",
        "]"
      ],
      "metadata": {
        "colab": {
          "base_uri": "https://localhost:8080/"
        },
        "id": "QFk3xunTEoGK",
        "outputId": "c5000e1f-0f91-4ec6-dbd2-8be69cc69203"
      },
      "execution_count": null,
      "outputs": [
        {
          "output_type": "execute_result",
          "data": {
            "text/plain": [
              "['zero', 1, 'zero', 3]"
            ]
          },
          "metadata": {},
          "execution_count": 54
        }
      ]
    },
    {
      "cell_type": "code",
      "source": [
        "# map filter reduce\n",
        "from functools import reduce\n",
        "# list(map(lambda x: x+1, range(10)))\n",
        "list1 = map(lambda x: x+1, range(10))"
      ],
      "metadata": {
        "id": "wW_ZNfCOFCFg"
      },
      "execution_count": null,
      "outputs": []
    },
    {
      "cell_type": "code",
      "source": [
        "print(list1)"
      ],
      "metadata": {
        "colab": {
          "base_uri": "https://localhost:8080/"
        },
        "id": "6f14KxC-Fkp9",
        "outputId": "5e41be01-0da0-48a9-ef22-9e48807f424f"
      },
      "execution_count": null,
      "outputs": [
        {
          "output_type": "stream",
          "name": "stdout",
          "text": [
            "<map object at 0x7e974a833370>\n"
          ]
        }
      ]
    },
    {
      "cell_type": "code",
      "source": [
        "print(*list1)"
      ],
      "metadata": {
        "colab": {
          "base_uri": "https://localhost:8080/"
        },
        "id": "DqdlXgWPGKHK",
        "outputId": "7173ea44-6dce-4a44-c851-9123daaea605"
      },
      "execution_count": null,
      "outputs": [
        {
          "output_type": "stream",
          "name": "stdout",
          "text": [
            "1 2 3 4 5 6 7 8 9 10\n"
          ]
        }
      ]
    },
    {
      "cell_type": "code",
      "source": [
        "print(*filter(lambda x: x>5, range(10)))"
      ],
      "metadata": {
        "colab": {
          "base_uri": "https://localhost:8080/"
        },
        "id": "DwwZFNgNGMj5",
        "outputId": "19b24a41-b135-40c2-b356-054c5ee7646a"
      },
      "execution_count": null,
      "outputs": [
        {
          "output_type": "stream",
          "name": "stdout",
          "text": [
            "6 7 8 9\n"
          ]
        }
      ]
    },
    {
      "cell_type": "code",
      "source": [
        "print(reduce(lambda acc, x: acc+x, range(10)))"
      ],
      "metadata": {
        "colab": {
          "base_uri": "https://localhost:8080/"
        },
        "id": "r4H_eA0dGbmN",
        "outputId": "6e80a9f2-5db5-4105-b100-bfd97e8d13ad"
      },
      "execution_count": null,
      "outputs": [
        {
          "output_type": "stream",
          "name": "stdout",
          "text": [
            "45\n"
          ]
        }
      ]
    },
    {
      "cell_type": "code",
      "source": [
        "# any\n",
        "# returns true if at least 1 true\n",
        "any([False, True, False])"
      ],
      "metadata": {
        "colab": {
          "base_uri": "https://localhost:8080/"
        },
        "id": "lRLyC3-mGnOi",
        "outputId": "b5560d9d-aee3-4bb3-94d3-e8d82ed30e92"
      },
      "execution_count": null,
      "outputs": [
        {
          "output_type": "execute_result",
          "data": {
            "text/plain": [
              "True"
            ]
          },
          "metadata": {},
          "execution_count": 71
        }
      ]
    },
    {
      "cell_type": "code",
      "source": [
        "all([True, 1, 3, True])"
      ],
      "metadata": {
        "colab": {
          "base_uri": "https://localhost:8080/"
        },
        "id": "Om8CczWZGyXD",
        "outputId": "d93d03b6-1bc2-4931-bdd2-6b133d778da1"
      },
      "execution_count": null,
      "outputs": [
        {
          "output_type": "execute_result",
          "data": {
            "text/plain": [
              "True"
            ]
          },
          "metadata": {},
          "execution_count": 72
        }
      ]
    },
    {
      "cell_type": "markdown",
      "source": [
        "# Self Practice 5"
      ],
      "metadata": {
        "id": "3PFUrC6lQkeF"
      }
    },
    {
      "cell_type": "markdown",
      "source": [
        "We have a ***closure*** in Python when:\n",
        "<p>• A nested function references a value of its enclosing function and then\n",
        "<p>• The enclosing function returns the nested function."
      ],
      "metadata": {
        "id": "c9JysNdQQwuk"
      }
    },
    {
      "cell_type": "code",
      "source": [
        "def get_multiplier(a):\n",
        "  def out(b):\n",
        "    return a*b\n",
        "  return out"
      ],
      "metadata": {
        "id": "NqPCcb94QmlE"
      },
      "execution_count": 1,
      "outputs": []
    },
    {
      "cell_type": "code",
      "source": [
        "multiply_by_3 = get_multiplier(3)"
      ],
      "metadata": {
        "id": "X9tBKU0ERJbw"
      },
      "execution_count": 2,
      "outputs": []
    },
    {
      "cell_type": "code",
      "source": [
        "multiply_by_3(10)"
      ],
      "metadata": {
        "colab": {
          "base_uri": "https://localhost:8080/"
        },
        "id": "nVTPHuGHRSXL",
        "outputId": "c9b3d9a4-6e05-4841-b8bf-336a286cfd38"
      },
      "execution_count": 3,
      "outputs": [
        {
          "output_type": "execute_result",
          "data": {
            "text/plain": [
              "30"
            ]
          },
          "metadata": {},
          "execution_count": 3
        }
      ]
    },
    {
      "cell_type": "code",
      "source": [
        "multiply_by_3.__closure__[0].cell_contents\n",
        "# To dynamically access function's first free variable use"
      ],
      "metadata": {
        "colab": {
          "base_uri": "https://localhost:8080/"
        },
        "id": "hThnNYqbRYjK",
        "outputId": "1233a17d-499f-490d-ce11-eb2a6fa54a7d"
      },
      "execution_count": 6,
      "outputs": [
        {
          "output_type": "execute_result",
          "data": {
            "text/plain": [
              "3"
            ]
          },
          "metadata": {},
          "execution_count": 6
        }
      ]
    },
    {
      "cell_type": "markdown",
      "source": [
        "If multiple nested functions within enclosing function reference the same value,\n",
        "that value gets shared."
      ],
      "metadata": {
        "id": "Y_WlkL9_R9Ez"
      }
    },
    {
      "cell_type": "markdown",
      "source": [
        "If variable is being assigned to anywhere in the scope, it is regarded as a local variable,\n",
        "unless it is declared as a 'global' or a 'nonlocal'."
      ],
      "metadata": {
        "id": "ZscxZR0HSG-F"
      }
    },
    {
      "cell_type": "code",
      "source": [
        "def get_counter():\n",
        "  i = 0\n",
        "  def out():\n",
        "    nonlocal i\n",
        "    i += 1\n",
        "    return i\n",
        "  return out"
      ],
      "metadata": {
        "id": "Vly7jaOvRwZE"
      },
      "execution_count": 9,
      "outputs": []
    },
    {
      "cell_type": "code",
      "source": [
        "counter = get_counter()"
      ],
      "metadata": {
        "id": "5_bWZFwnSYkt"
      },
      "execution_count": 10,
      "outputs": []
    },
    {
      "cell_type": "code",
      "source": [
        "counter(), counter(), counter()"
      ],
      "metadata": {
        "colab": {
          "base_uri": "https://localhost:8080/"
        },
        "id": "uMNzRhKUSbj4",
        "outputId": "ad8a7fbc-7e43-4790-c885-14a938e6d1e0"
      },
      "execution_count": 11,
      "outputs": [
        {
          "output_type": "execute_result",
          "data": {
            "text/plain": [
              "(1, 2, 3)"
            ]
          },
          "metadata": {},
          "execution_count": 11
        }
      ]
    },
    {
      "cell_type": "code",
      "source": [
        "def main():\n",
        "  return None\n",
        "\n",
        "if __name__ == '__main__':\n",
        "  main()\n",
        "# runs main if file was not imported"
      ],
      "metadata": {
        "id": "bVlYVgA6Shr0"
      },
      "execution_count": 13,
      "outputs": []
    },
    {
      "cell_type": "code",
      "source": [
        "main()"
      ],
      "metadata": {
        "id": "-yg4GLlzSwH6"
      },
      "execution_count": 14,
      "outputs": []
    },
    {
      "cell_type": "markdown",
      "source": [
        "\n",
        "\n",
        "```\n",
        "import <module_name>\n",
        "from <module_name> import <function_name>\n",
        "import <module_name> as m\n",
        "from <module_name> import <function_name> as m_function\n",
        "from <module_name> import *\n",
        "```\n",
        "\n"
      ],
      "metadata": {
        "id": "8dCkcIrdTaVu"
      }
    },
    {
      "cell_type": "markdown",
      "source": [
        "***Iterators***\n",
        "\n",
        "\n",
        "```\n",
        "<iter> = iter(<collection>)\n",
        "<iter> = iter(<function>, to_exclusive) # Sequence of return values until\n",
        "'to_exclusive'.\n",
        "<el> = next(<iter> [, default]) # Raises StopIteration or returns 'default'\n",
        "on end.\n",
        "```\n",
        "\n"
      ],
      "metadata": {
        "id": "0mUqEhwoTl55"
      }
    },
    {
      "cell_type": "code",
      "source": [
        "# Generators\n",
        "# Convenient way to implement the iterator protocol\n",
        "def count(start, step):\n",
        "  while True:\n",
        "    yield start\n",
        "    start += step"
      ],
      "metadata": {
        "id": "V2qbpD12TLwW"
      },
      "execution_count": 18,
      "outputs": []
    },
    {
      "cell_type": "code",
      "source": [
        "counter = count(10,2)"
      ],
      "metadata": {
        "id": "ZAqPv5xDTST8"
      },
      "execution_count": 19,
      "outputs": []
    },
    {
      "cell_type": "code",
      "source": [
        "next(counter), next(counter), next(counter)"
      ],
      "metadata": {
        "colab": {
          "base_uri": "https://localhost:8080/"
        },
        "id": "E_ieqHDOUDp8",
        "outputId": "3eb786f3-2bd7-49b5-9cbe-c122d3f76792"
      },
      "execution_count": 20,
      "outputs": [
        {
          "output_type": "execute_result",
          "data": {
            "text/plain": [
              "(10, 12, 14)"
            ]
          },
          "metadata": {},
          "execution_count": 20
        }
      ]
    },
    {
      "cell_type": "markdown",
      "source": [
        "***Decorator***\n",
        "A decorator takes a function, adds some functionality and returns it.\n",
        "\n",
        "\n",
        "```\n",
        "@decorator_name\n",
        "def function_that_gets_passed_to_decorator():\n",
        " ...\n",
        "```\n",
        "\n"
      ],
      "metadata": {
        "id": "DeUPQHVVUSv2"
      }
    },
    {
      "cell_type": "code",
      "source": [
        "# Debugger example\n",
        "# Decorator that prints function's name every time it gets called\n",
        "from functools import wraps\n",
        "\n",
        "def debug(func):\n",
        "  @wraps(func)\n",
        "\n",
        "  def out(*args, **kwargs):\n",
        "    print(func.__name__)\n",
        "    return func(*args, **kwargs)\n",
        "\n",
        "  return out\n",
        "\n",
        "@debug\n",
        "def add(x, y):\n",
        "  return x + y"
      ],
      "metadata": {
        "id": "fav1-ULUUIoT"
      },
      "execution_count": 22,
      "outputs": []
    },
    {
      "cell_type": "markdown",
      "source": [
        "<p>• Wraps is a helper decorator that copies metadata of function add() to function\n",
        "out().\n",
        "<p>• Without it 'add.__name__' would return 'out'."
      ],
      "metadata": {
        "id": "8xkk9m8WVZjl"
      }
    },
    {
      "cell_type": "code",
      "source": [
        "add(5,6)"
      ],
      "metadata": {
        "colab": {
          "base_uri": "https://localhost:8080/"
        },
        "id": "HJgGylURVEOi",
        "outputId": "492952cc-c1a3-42d4-c714-b3b0b82a3c02"
      },
      "execution_count": 23,
      "outputs": [
        {
          "output_type": "stream",
          "name": "stdout",
          "text": [
            "add\n"
          ]
        },
        {
          "output_type": "execute_result",
          "data": {
            "text/plain": [
              "11"
            ]
          },
          "metadata": {},
          "execution_count": 23
        }
      ]
    },
    {
      "cell_type": "code",
      "source": [
        "class name:\n",
        "  age = 80\n",
        "  # class obj attr\n",
        "\n",
        "  def __init__(self, a):\n",
        "    self.a = a\n",
        "    # obj attr\n",
        "\n",
        "  @classmethod\n",
        "  def get_class_name(cls):\n",
        "    return cls.__name__"
      ],
      "metadata": {
        "id": "juLLd8SmVhCL"
      },
      "execution_count": 25,
      "outputs": []
    },
    {
      "cell_type": "code",
      "source": [
        "# inheritance\n",
        "class Person:\n",
        "  def __init__(self, name, age):\n",
        "    self.name = name\n",
        "    self.age = age\n",
        "\n",
        "class Employee(Person):\n",
        "  def __init__(self, name, age, staff_num):\n",
        "    super().__init__(name, age)\n",
        "    self.staff_num = staff_num"
      ],
      "metadata": {
        "id": "Ci9Ia2ToWAfr"
      },
      "execution_count": 26,
      "outputs": []
    },
    {
      "cell_type": "code",
      "source": [
        "# multiple inheritance\n",
        "class A: pass\n",
        "class B: pass\n",
        "class C(A, B): pass"
      ],
      "metadata": {
        "id": "97DnafarWmCd"
      },
      "execution_count": 27,
      "outputs": []
    },
    {
      "cell_type": "markdown",
      "source": [
        "MRO determines the order in which parent classes are traversed when searching for a\n",
        "method:"
      ],
      "metadata": {
        "id": "3ae0jlNSW4-V"
      }
    },
    {
      "cell_type": "code",
      "source": [
        "C.mro()"
      ],
      "metadata": {
        "colab": {
          "base_uri": "https://localhost:8080/"
        },
        "id": "_y7R5w3-W05H",
        "outputId": "ed6f898c-60aa-494d-957f-d37e3ad6b6e4"
      },
      "execution_count": 28,
      "outputs": [
        {
          "output_type": "execute_result",
          "data": {
            "text/plain": [
              "[__main__.C, __main__.A, __main__.B, object]"
            ]
          },
          "metadata": {},
          "execution_count": 28
        }
      ]
    },
    {
      "cell_type": "code",
      "source": [
        "# exceptions\n",
        "try:\n",
        "  5/0\n",
        "except ZeroDivisionError:\n",
        "  print(\"No division by zero!\")"
      ],
      "metadata": {
        "colab": {
          "base_uri": "https://localhost:8080/"
        },
        "id": "_ttbanFpW8ve",
        "outputId": "8b987d1d-8f5a-47ed-d871-51bb74fca4de"
      },
      "execution_count": 29,
      "outputs": [
        {
          "output_type": "stream",
          "name": "stdout",
          "text": [
            "No division by zero!\n"
          ]
        }
      ]
    },
    {
      "cell_type": "code",
      "source": [
        "while True:\n",
        "  try:\n",
        "    x = int(input('Enter your age: '))\n",
        "  except ValueError:\n",
        "    print('Oops! That is not a valid number. Try again...')\n",
        "  else:\n",
        "    print('Carry on!')\n",
        "    break"
      ],
      "metadata": {
        "colab": {
          "base_uri": "https://localhost:8080/"
        },
        "id": "Mg9Z1fbKXNW9",
        "outputId": "cccbfd71-591d-40fa-da20-fd7f91fe8aa4"
      },
      "execution_count": 30,
      "outputs": [
        {
          "output_type": "stream",
          "name": "stdout",
          "text": [
            "Enter your age: 56\n",
            "Carry on!\n"
          ]
        }
      ]
    },
    {
      "cell_type": "code",
      "source": [
        "# raising exception\n",
        "raise ValueError('some error message')"
      ],
      "metadata": {
        "colab": {
          "base_uri": "https://localhost:8080/",
          "height": 192
        },
        "id": "wetreZK-XjNA",
        "outputId": "89275d26-08c8-4fb6-c848-303b28bd6b0a"
      },
      "execution_count": 33,
      "outputs": [
        {
          "output_type": "error",
          "ename": "ValueError",
          "evalue": "ignored",
          "traceback": [
            "\u001b[0;31m---------------------------------------------------------------------------\u001b[0m",
            "\u001b[0;31mValueError\u001b[0m                                Traceback (most recent call last)",
            "\u001b[0;32m<ipython-input-33-b5833ebf95fa>\u001b[0m in \u001b[0;36m<cell line: 2>\u001b[0;34m()\u001b[0m\n\u001b[1;32m      1\u001b[0m \u001b[0;31m# raising exception\u001b[0m\u001b[0;34m\u001b[0m\u001b[0;34m\u001b[0m\u001b[0m\n\u001b[0;32m----> 2\u001b[0;31m \u001b[0;32mraise\u001b[0m \u001b[0mValueError\u001b[0m\u001b[0;34m(\u001b[0m\u001b[0;34m'some error message'\u001b[0m\u001b[0;34m)\u001b[0m\u001b[0;34m\u001b[0m\u001b[0;34m\u001b[0m\u001b[0m\n\u001b[0m",
            "\u001b[0;31mValueError\u001b[0m: some error message"
          ]
        }
      ]
    },
    {
      "cell_type": "code",
      "source": [
        "# finally\n",
        "try:\n",
        "  raise KeyboardInterrupt\n",
        "except:\n",
        "  print('oops')\n",
        "finally:\n",
        "  print('All done!')"
      ],
      "metadata": {
        "colab": {
          "base_uri": "https://localhost:8080/"
        },
        "id": "pDY9hz50XtIF",
        "outputId": "4370e262-407b-4689-8701-c71b6c3c448c"
      },
      "execution_count": 34,
      "outputs": [
        {
          "output_type": "stream",
          "name": "stdout",
          "text": [
            "oops\n",
            "All done!\n"
          ]
        }
      ]
    },
    {
      "cell_type": "code",
      "source": [
        "# command line arguments\n",
        "import sys\n",
        "script_name = sys.argv[0]"
      ],
      "metadata": {
        "id": "Vzg7CJmNYdyK"
      },
      "execution_count": 35,
      "outputs": []
    },
    {
      "cell_type": "code",
      "source": [
        "arguments = sys.argv[1:]"
      ],
      "metadata": {
        "id": "JDmnGUC2Yobl"
      },
      "execution_count": 36,
      "outputs": []
    },
    {
      "cell_type": "code",
      "source": [
        "print(script_name, '\\n\\n', arguments)"
      ],
      "metadata": {
        "colab": {
          "base_uri": "https://localhost:8080/"
        },
        "id": "3Hg55BmoYrZc",
        "outputId": "94670b0b-7a7b-4889-b691-1855e34f6665"
      },
      "execution_count": 37,
      "outputs": [
        {
          "output_type": "stream",
          "name": "stdout",
          "text": [
            "/usr/local/lib/python3.10/dist-packages/ipykernel_launcher.py \n",
            "\n",
            " ['-f', '/root/.local/share/jupyter/runtime/kernel-84c56ffb-1e91-43ea-a9b9-18f7ca56a79a.json']\n"
          ]
        }
      ]
    },
    {
      "cell_type": "markdown",
      "source": [
        "***File IO***\n",
        "<p>Opens a file and returns a corresponding file object.\n",
        "\n",
        "\n",
        "```\n",
        "<file> = open('<path>', mode='r', encoding=None)\n",
        "```\n",
        "\n",
        "Modes\n",
        "<p>• 'r' - Read (default).\n",
        "<p>• 'w' - Write (truncate).\n",
        "<p>• 'x' - Write or fail if the file already exists.\n",
        "<p>• 'a' - Append.\n",
        "<p>• 'w+' - Read and write (truncate).\n",
        "<p>• 'r+' - Read and write from the start.\n",
        "<p>• 'a+' - Read and write from the end.\n",
        "<p>• 't' - Text mode (default).\n",
        "<p>• 'b' - Binary mode.\n",
        "\n",
        "\n",
        "```\n",
        "<file>.seek(0) # Moves to the start of the file.\n",
        "\n",
        "<str/bytes> = <file>.readline() # Returns a line.\n",
        "<list> = <file>.readlines() # Returns a list of lines.\n",
        "\n",
        "<file>.write(<str/bytes>) # Writes a string or bytes object.\n",
        "<file>.writelines(<list>) # Writes a list of strings or bytes objects.\n",
        "```\n",
        "\n",
        "Methods do not add or strip trailing newlines.\n",
        "\n",
        "***Read Text From File***\n",
        "```\n",
        "def read_file(filename):\n",
        " with open(filename, encoding='utf-8') as file:\n",
        "  return file.readlines() # or read()\n",
        "for line in read_file(filename):\n",
        " print(line)\n",
        "```\n",
        "\n",
        "***Write Text To File***\n",
        "```\n",
        "def write_to_file(filename, text):\n",
        " with open(filename, 'w', encoding='utf-8') as file:\n",
        "  file.write(text)\n",
        "```\n",
        "\n",
        "***Append Text To File***\n",
        "```\n",
        "def append_to_file(filename, text):\n",
        " with open(filename, 'a', encoding='utf-8') as file:\n",
        "  file.write(text)\n",
        "```"
      ],
      "metadata": {
        "id": "7Hu9cvfnZMZy"
      }
    },
    {
      "cell_type": "markdown",
      "source": [
        "***CSV***\n",
        "```\n",
        "import csv\n",
        "```\n",
        "\n",
        "***Read Rows from csv File***\n",
        "```\n",
        "def read_csv_file(filename):\n",
        "  with open(filename, encoding='utf-8') as file:\n",
        "    return csv.reader(file, delimiter=';')\n",
        "```\n",
        "\n",
        "***Write Rows to csv File***\n",
        "```\n",
        "def write_to_csv_file(filename, rows):\n",
        "  with open(filename, 'w', encoding='utf-8') as file:\n",
        "    writer = csv.writer(file, delimiter=';')\n",
        "    writer.writerows(rows)\n",
        "```"
      ],
      "metadata": {
        "id": "zm1IjAIja62O"
      }
    },
    {
      "cell_type": "markdown",
      "source": [
        "***JSON***\n",
        "```\n",
        "import json\n",
        "<str> = json.dumps(<object>, ensure_ascii=True, indent=None)\n",
        "<object> = json.loads(<str>)\n",
        "```\n",
        "\n",
        "***Read Object from JSON File***\n",
        "```\n",
        "def read_json_file(filename):\n",
        "  with open(filename, encoding='utf-8') as file:\n",
        "    return json.load(file)\n",
        "```\n",
        "\n",
        "***Write Object from JSON File***\n",
        "```\n",
        "def write_to_json_file(filename, an_object):\n",
        "  with open(filename, 'w', encoding='utf-8') as file:\n",
        "    json.dump(an_object, file, ensure_ascii=False, indent=2)\n",
        "```"
      ],
      "metadata": {
        "id": "d7U0XyIwb4iT"
      }
    },
    {
      "cell_type": "markdown",
      "source": [
        "***PICKLE***\n",
        "```\n",
        "import pickle\n",
        "<bytes> = pickle.dumps(<object>)\n",
        "<object> = pickle.loads(<bytes>)\n",
        "```\n",
        "\n",
        "***Read Object from File***\n",
        "```\n",
        "def read_pickle_file(filename):\n",
        "  with open(filename, 'rb') as file:\n",
        "    return pickle.load(file)\n",
        "```\n",
        "\n",
        "***Write Object to File***\n",
        "```\n",
        "def write_to_pickle_file(filename, an_object):\n",
        "  with open(filename, 'wb') as file:\n",
        "    pickle.dump(an_object, file)\n",
        "```"
      ],
      "metadata": {
        "id": "3Clvl1RkdAAq"
      }
    },
    {
      "cell_type": "code",
      "source": [
        "from time import time\n",
        "start_time = time()\n",
        "# seconds since"
      ],
      "metadata": {
        "id": "ydfL4ljGdfrV"
      },
      "execution_count": 39,
      "outputs": []
    },
    {
      "cell_type": "code",
      "source": [
        "print(start_time)"
      ],
      "metadata": {
        "colab": {
          "base_uri": "https://localhost:8080/"
        },
        "id": "By6iwfiWibHj",
        "outputId": "fda86a0d-e5a4-40dd-dcd2-0b6b3c472e2c"
      },
      "execution_count": 40,
      "outputs": [
        {
          "output_type": "stream",
          "name": "stdout",
          "text": [
            "1692209363.5587134\n"
          ]
        }
      ]
    },
    {
      "cell_type": "code",
      "source": [
        "duration = time() - start_time"
      ],
      "metadata": {
        "id": "rjFLVAWdieMV"
      },
      "execution_count": 41,
      "outputs": []
    },
    {
      "cell_type": "code",
      "source": [
        "print(duration)"
      ],
      "metadata": {
        "colab": {
          "base_uri": "https://localhost:8080/"
        },
        "id": "a7zfPTRWij0O",
        "outputId": "82f938a9-06e2-4f49-8cce-11aac0aadc1f"
      },
      "execution_count": 42,
      "outputs": [
        {
          "output_type": "stream",
          "name": "stdout",
          "text": [
            "35.96318483352661\n"
          ]
        }
      ]
    },
    {
      "cell_type": "code",
      "source": [
        "from math import e, pi"
      ],
      "metadata": {
        "id": "SEXcjigaimJK"
      },
      "execution_count": 43,
      "outputs": []
    },
    {
      "cell_type": "code",
      "source": [
        "print(e, pi)"
      ],
      "metadata": {
        "colab": {
          "base_uri": "https://localhost:8080/"
        },
        "id": "4CGbvj6Witqq",
        "outputId": "aef73dfa-2f4c-4dbf-f858-6b0e57df0f34"
      },
      "execution_count": 45,
      "outputs": [
        {
          "output_type": "stream",
          "name": "stdout",
          "text": [
            "2.718281828459045 3.141592653589793\n"
          ]
        }
      ]
    },
    {
      "cell_type": "code",
      "source": [
        "from math import cos, acos, sin, asin, tan, atan, degrees, radians"
      ],
      "metadata": {
        "id": "KxX7E37aivuw"
      },
      "execution_count": 46,
      "outputs": []
    },
    {
      "cell_type": "code",
      "source": [
        "cos(60)"
      ],
      "metadata": {
        "colab": {
          "base_uri": "https://localhost:8080/"
        },
        "id": "AN6kxfp5kP0Y",
        "outputId": "486a0645-1f10-4a06-c944-c7e3740b5312"
      },
      "execution_count": 47,
      "outputs": [
        {
          "output_type": "execute_result",
          "data": {
            "text/plain": [
              "-0.9524129804151563"
            ]
          },
          "metadata": {},
          "execution_count": 47
        }
      ]
    },
    {
      "cell_type": "code",
      "source": [
        "from math import log, log10, log2"
      ],
      "metadata": {
        "id": "Wi4Gs7QHkRba"
      },
      "execution_count": 48,
      "outputs": []
    },
    {
      "cell_type": "code",
      "source": [
        "from math import inf, nan, isinf, isnan"
      ],
      "metadata": {
        "id": "2_UwycdIkXer"
      },
      "execution_count": 49,
      "outputs": []
    },
    {
      "cell_type": "code",
      "source": [
        "from statistics import mean, median, variance, pvariance, pstdev"
      ],
      "metadata": {
        "id": "USPKGxFNkfj3"
      },
      "execution_count": 54,
      "outputs": []
    },
    {
      "cell_type": "code",
      "source": [
        "mean([9,8,8])"
      ],
      "metadata": {
        "colab": {
          "base_uri": "https://localhost:8080/"
        },
        "id": "VQfY2VYokvaG",
        "outputId": "042915c7-93da-4da1-e906-a06eb337c0b1"
      },
      "execution_count": 56,
      "outputs": [
        {
          "output_type": "execute_result",
          "data": {
            "text/plain": [
              "8.333333333333334"
            ]
          },
          "metadata": {},
          "execution_count": 56
        }
      ]
    },
    {
      "cell_type": "code",
      "source": [
        "from random import random, randint, choice, shuffle"
      ],
      "metadata": {
        "id": "zUzqiLXykybW"
      },
      "execution_count": 57,
      "outputs": []
    },
    {
      "cell_type": "code",
      "source": [
        "random()\n",
        "# float between 0 and 1"
      ],
      "metadata": {
        "colab": {
          "base_uri": "https://localhost:8080/"
        },
        "id": "A_pUX1gQk_Vz",
        "outputId": "59747fd0-e86e-42ab-bcd8-dea0dafa8b4a"
      },
      "execution_count": 59,
      "outputs": [
        {
          "output_type": "execute_result",
          "data": {
            "text/plain": [
              "0.6295900292126381"
            ]
          },
          "metadata": {},
          "execution_count": 59
        }
      ]
    },
    {
      "cell_type": "code",
      "source": [
        "# int between 0 and 100\n",
        "randint(0, 100)"
      ],
      "metadata": {
        "colab": {
          "base_uri": "https://localhost:8080/"
        },
        "id": "3Af20xtQlBVa",
        "outputId": "30feb4d4-0dbe-4d1e-9c64-841469087484"
      },
      "execution_count": 60,
      "outputs": [
        {
          "output_type": "execute_result",
          "data": {
            "text/plain": [
              "4"
            ]
          },
          "metadata": {},
          "execution_count": 60
        }
      ]
    },
    {
      "cell_type": "code",
      "source": [
        "# select random element from list\n",
        "random_el = choice([1,2,3,4,5])"
      ],
      "metadata": {
        "id": "f16MQxCQlLVU"
      },
      "execution_count": 61,
      "outputs": []
    },
    {
      "cell_type": "code",
      "source": [
        "# shuffle list\n",
        "ls = [1,2,3,4]\n",
        "shuffle(ls)"
      ],
      "metadata": {
        "id": "FvFFVb6YlTOs"
      },
      "execution_count": 64,
      "outputs": []
    },
    {
      "cell_type": "code",
      "source": [
        "print(ls)"
      ],
      "metadata": {
        "colab": {
          "base_uri": "https://localhost:8080/"
        },
        "id": "BFV3FyKblXHY",
        "outputId": "9871fe0f-bcdc-4faa-ca1f-3aeb6c28d868"
      },
      "execution_count": 65,
      "outputs": [
        {
          "output_type": "stream",
          "name": "stdout",
          "text": [
            "[4, 1, 3, 2]\n"
          ]
        }
      ]
    },
    {
      "cell_type": "markdown",
      "source": [
        "***DATETIME***\n",
        "<p>• Module 'datetime' provides 'date' <D>, 'time' <T>, 'datetime' <DT> and\n",
        "'timedelta' <TD> classes. All are immutable and hashable.\n",
        "<p>• Time and datetime can be 'aware' < a >, meaning they have defined timezone, or\n",
        "'naive' <n>, meaning they don't.\n",
        "<p>• If object is naive it is presumed to be in system's timezone."
      ],
      "metadata": {
        "id": "BwTBfY91lrJZ"
      }
    },
    {
      "cell_type": "code",
      "source": [
        "from datetime import date, time, datetime, timedelta\n",
        "from dateutil.tz import UTC, tzlocal"
      ],
      "metadata": {
        "id": "6I_3jTuPliNG"
      },
      "execution_count": 72,
      "outputs": []
    },
    {
      "cell_type": "code",
      "source": [
        "# Constructors\n",
        "# D = date(year, month, day)\n",
        "T = time(hour=0, minute=0, second=0, microsecond=0, tzinfo=None, fold=0)\n",
        "# DT = datetime(year, month, day, hour=0, minute=0, second=0)\n",
        "TD = timedelta(days=0, seconds=0, microseconds=0, milliseconds=0, minutes=0, hours=0, weeks=0)"
      ],
      "metadata": {
        "id": "6VuGcGZ7nO5W"
      },
      "execution_count": 75,
      "outputs": []
    },
    {
      "cell_type": "code",
      "source": [
        "print(T,'\\n',TD)"
      ],
      "metadata": {
        "colab": {
          "base_uri": "https://localhost:8080/"
        },
        "id": "yyzW1Oi8oMuj",
        "outputId": "db5408aa-a12b-46e3-eae8-a23f3606f309"
      },
      "execution_count": 76,
      "outputs": [
        {
          "output_type": "stream",
          "name": "stdout",
          "text": [
            "00:00:00 \n",
            " 0:00:00\n"
          ]
        }
      ]
    },
    {
      "cell_type": "code",
      "source": [
        "D = date(2023,8,5)"
      ],
      "metadata": {
        "id": "Od5Zh8VkoXGB"
      },
      "execution_count": 80,
      "outputs": []
    },
    {
      "cell_type": "code",
      "source": [
        "print(D)"
      ],
      "metadata": {
        "colab": {
          "base_uri": "https://localhost:8080/"
        },
        "id": "KcXDqJfDodpX",
        "outputId": "c28dec52-1992-4bbc-ad97-272cd5ee26bc"
      },
      "execution_count": 81,
      "outputs": [
        {
          "output_type": "stream",
          "name": "stdout",
          "text": [
            "2023-08-05\n"
          ]
        }
      ]
    },
    {
      "cell_type": "code",
      "source": [
        "DT = datetime(2023,8,8,0,0,0)"
      ],
      "metadata": {
        "id": "-9RDQmP5ok2Y"
      },
      "execution_count": 84,
      "outputs": []
    },
    {
      "cell_type": "code",
      "source": [
        "print(DT)"
      ],
      "metadata": {
        "colab": {
          "base_uri": "https://localhost:8080/"
        },
        "id": "2rKtkyTropBA",
        "outputId": "2adb2a28-64d5-4195-a494-ea314b8bd2e3"
      },
      "execution_count": 85,
      "outputs": [
        {
          "output_type": "stream",
          "name": "stdout",
          "text": [
            "2023-08-08 00:00:00\n"
          ]
        }
      ]
    },
    {
      "cell_type": "code",
      "source": [
        "D.weekday()"
      ],
      "metadata": {
        "colab": {
          "base_uri": "https://localhost:8080/"
        },
        "id": "0PcoRvQPovam",
        "outputId": "d70f3be5-6173-4174-8795-7f392e7663e3"
      },
      "execution_count": 86,
      "outputs": [
        {
          "output_type": "execute_result",
          "data": {
            "text/plain": [
              "5"
            ]
          },
          "metadata": {},
          "execution_count": 86
        }
      ]
    },
    {
      "cell_type": "code",
      "source": [
        "DT.weekday()"
      ],
      "metadata": {
        "colab": {
          "base_uri": "https://localhost:8080/"
        },
        "id": "MlHvleFCo0Wg",
        "outputId": "9295f230-11fd-4ea0-a171-0042c8708880"
      },
      "execution_count": 87,
      "outputs": [
        {
          "output_type": "execute_result",
          "data": {
            "text/plain": [
              "1"
            ]
          },
          "metadata": {},
          "execution_count": 87
        }
      ]
    },
    {
      "cell_type": "markdown",
      "source": [
        "'fold=1' means second pass in case of time jumping back from one hour."
      ],
      "metadata": {
        "id": "uNmDfsnBo8Ba"
      }
    },
    {
      "cell_type": "code",
      "source": [
        "D = D.today()\n",
        "DT = DT.today()\n",
        "# current local date or naive datetime"
      ],
      "metadata": {
        "id": "H-vZ1iydo2Ok"
      },
      "execution_count": 88,
      "outputs": []
    },
    {
      "cell_type": "code",
      "source": [
        "print(D,'\\n',DT)"
      ],
      "metadata": {
        "colab": {
          "base_uri": "https://localhost:8080/"
        },
        "id": "wjwm5wqjpFfB",
        "outputId": "537bf90a-9bea-4c75-f6cd-a4503ffdd395"
      },
      "execution_count": 89,
      "outputs": [
        {
          "output_type": "stream",
          "name": "stdout",
          "text": [
            "2023-08-16 \n",
            " 2023-08-16 18:38:29.620623\n"
          ]
        }
      ]
    },
    {
      "cell_type": "code",
      "source": [
        "# naive datetime from current UTC time\n",
        "DT = DT.utcnow()"
      ],
      "metadata": {
        "id": "CDYkS1uqpH43"
      },
      "execution_count": 90,
      "outputs": []
    },
    {
      "cell_type": "code",
      "source": [
        "print(DT)"
      ],
      "metadata": {
        "colab": {
          "base_uri": "https://localhost:8080/"
        },
        "id": "OEYLKdC7pPnF",
        "outputId": "55514ce8-0648-4714-b256-60289d275e3b"
      },
      "execution_count": 91,
      "outputs": [
        {
          "output_type": "stream",
          "name": "stdout",
          "text": [
            "2023-08-16 18:39:11.114623\n"
          ]
        }
      ]
    },
    {
      "cell_type": "code",
      "source": [
        "# aware datetime from current tz time\n",
        "DT = DT.now()"
      ],
      "metadata": {
        "id": "IjgKzQYcpQ2R"
      },
      "execution_count": 92,
      "outputs": []
    },
    {
      "cell_type": "code",
      "source": [
        "print(DT)"
      ],
      "metadata": {
        "colab": {
          "base_uri": "https://localhost:8080/"
        },
        "id": "7uOSBvDrpamM",
        "outputId": "ad6c6a9c-6b32-41bb-a393-12ff7d2c0653"
      },
      "execution_count": 93,
      "outputs": [
        {
          "output_type": "stream",
          "name": "stdout",
          "text": [
            "2023-08-16 18:39:56.563579\n"
          ]
        }
      ]
    },
    {
      "cell_type": "code",
      "source": [
        "# utc timezone\n",
        "tz = UTC"
      ],
      "metadata": {
        "id": "jYuBD37Rpbx6"
      },
      "execution_count": 94,
      "outputs": []
    },
    {
      "cell_type": "code",
      "source": [
        "print(tz)"
      ],
      "metadata": {
        "colab": {
          "base_uri": "https://localhost:8080/"
        },
        "id": "dBMd1KSCph2l",
        "outputId": "5be1f849-c17f-4566-fe78-42afaa72d189"
      },
      "execution_count": 95,
      "outputs": [
        {
          "output_type": "stream",
          "name": "stdout",
          "text": [
            "tzutc()\n"
          ]
        }
      ]
    },
    {
      "cell_type": "code",
      "source": [
        "# local timezone\n",
        "tz = tzlocal()"
      ],
      "metadata": {
        "id": "TV8lDs--prFU"
      },
      "execution_count": 97,
      "outputs": []
    },
    {
      "cell_type": "code",
      "source": [
        "print(tz)"
      ],
      "metadata": {
        "colab": {
          "base_uri": "https://localhost:8080/"
        },
        "id": "An-PUJympya7",
        "outputId": "da19e544-b0cd-4137-fadb-a07c829d01ff"
      },
      "execution_count": 98,
      "outputs": [
        {
          "output_type": "stream",
          "name": "stdout",
          "text": [
            "tzlocal()\n"
          ]
        }
      ]
    },
    {
      "cell_type": "code",
      "source": [
        "DTa = DT.astimezone(tz)\n",
        "# datetime, converted to passed timezone\n",
        "print(DTa)"
      ],
      "metadata": {
        "colab": {
          "base_uri": "https://localhost:8080/"
        },
        "id": "ChAAXNFKqCl5",
        "outputId": "b3624171-1788-4d3a-a4a8-976562c99ef6"
      },
      "execution_count": 103,
      "outputs": [
        {
          "output_type": "stream",
          "name": "stdout",
          "text": [
            "2023-08-16 18:39:56.563579+00:00\n"
          ]
        }
      ]
    },
    {
      "cell_type": "code",
      "source": [
        "# unconverted object with new timezone\n",
        "Ta = T.replace(tzinfo=tz)"
      ],
      "metadata": {
        "id": "ZOml5taIqTfR"
      },
      "execution_count": 104,
      "outputs": []
    },
    {
      "cell_type": "code",
      "source": [
        "print(Ta)"
      ],
      "metadata": {
        "colab": {
          "base_uri": "https://localhost:8080/"
        },
        "id": "WER2L8wYqeWJ",
        "outputId": "8bcc4dbe-9b4b-495c-b57b-5834cd0f9616"
      },
      "execution_count": 105,
      "outputs": [
        {
          "output_type": "stream",
          "name": "stdout",
          "text": [
            "00:00:00+00:00\n"
          ]
        }
      ]
    },
    {
      "cell_type": "markdown",
      "source": [
        "***REGEX***\n",
        "```\n",
        "import re\n",
        "<str> = re.sub(<regex>, new, text, count=0) # Substitutes all occurrences.\n",
        "<list> = re.findall(<regex>, text) # Returns all occurrences.\n",
        "<list> = re.split(<regex>, text, maxsplit=0) # Use brackets in regex to keep\n",
        "the matches.\n",
        "<Match> = re.search(<regex>, text) # Searches for first occurrence\n",
        "of pattern.\n",
        "<Match> = re.match(<regex>, text) # Searches only at the beginning\n",
        "of the text.\n",
        "```"
      ],
      "metadata": {
        "id": "91r0RzLSrOMt"
      }
    },
    {
      "cell_type": "markdown",
      "source": [
        "***MATCH OBJECT***\n",
        "```\n",
        "<str> = <Match>.group() # Whole match.\n",
        "<str> = <Match>.group(1) # Part in first bracket.\n",
        "<tuple> = <Match>.groups() # All bracketed parts.\n",
        "<int> = <Match>.start() # Start index of a match.\n",
        "<int> = <Match>.end() # Exclusive end index of a match.\n",
        "```"
      ],
      "metadata": {
        "id": "tRAfEAuHrYM1"
      }
    },
    {
      "cell_type": "markdown",
      "source": [
        "***SPECIAL SEQUENCES***\n",
        "<p>Expressions below hold true for strings that contain only ASCII characters. Use\n",
        "capital letters for negation.\n",
        "\n",
        "```\n",
        "'\\d' == '[0-9]' # Digit\n",
        "'\\s' == '[ \\t\\n\\r\\f\\v]' # Whitespace\n",
        "'\\w' == '[a-zA-Z0-9_]' # Alphanumeric\n",
        "```"
      ],
      "metadata": {
        "id": "MHkRd_PkrmXo"
      }
    }
  ]
}