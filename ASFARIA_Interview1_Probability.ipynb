{
 "cells": [
  {
   "cell_type": "markdown",
   "id": "c99e8b4f-24bd-49e2-9567-0aed6d5359da",
   "metadata": {},
   "source": [
    "# 1. What constitutes a probability measure?"
   ]
  },
  {
   "cell_type": "markdown",
   "id": "d079338c-1a2a-4327-b209-cd7fe9ee26bd",
   "metadata": {},
   "source": [
    "A *probability measure* (or *probability distribution*) $P$ on the sample space ($S$, <span style=\"font-family: 'cursive';\">S</span>) is a real-valued function defined on the collection of events that <span style=\"font-family: 'cursive';\">S</span> satisifes the following axioms:\n",
    "1. $P(A) >= 0$ for every event $A$\n",
    "2. $P(S) = 1$\n",
    "3. If ${A_i:i\\in I}$ is a countable, pairwise disjoint collection of events then \n",
    "$$P(\\bigcup_{i\\in I}A_i)=\\sum_{i\\in I}P(A_i)$$\n",
    "\n",
    "Source: https://stats.libretexts.org/Bookshelves/Probability_Theory/Probability_Mathematical_Statistics_and_Stochastic_Processes_(Siegrist)/02%3A_Probability_Spaces/2.03%3A_Probability_Measures#:~:text=satisfies%20certain%20axioms.-,Definition,P(S)%3D1."
   ]
  },
  {
   "cell_type": "markdown",
   "id": "7fa67b0d-3bed-4121-bedf-8892b946c0e8",
   "metadata": {},
   "source": [
    "# 2. Independence"
   ]
  },
  {
   "cell_type": "markdown",
   "id": "bdd13096-09b9-4f6c-bb53-aa99810e5c35",
   "metadata": {},
   "source": [
    "P(A,B) = P(A)P(B)"
   ]
  },
  {
   "cell_type": "markdown",
   "id": "f192c0d0-fb82-4398-94dd-6450aa53a9b1",
   "metadata": {},
   "source": [
    "# 3. Conditional Probabilty"
   ]
  },
  {
   "cell_type": "markdown",
   "id": "8ccbb145-33fc-447c-b4d7-5ae4ad4cbf47",
   "metadata": {
    "tags": []
   },
   "source": [
    "$$P(A|B) = \\frac{P(A,B)}{P(B)}$$"
   ]
  },
  {
   "cell_type": "markdown",
   "id": "8f136f20-4d67-48ec-8c87-74f1bd7d0def",
   "metadata": {},
   "source": [
    "# 4. Random Variables"
   ]
  },
  {
   "cell_type": "markdown",
   "id": "6e8f5eef-7ec2-4463-b3db-9eb908742369",
   "metadata": {},
   "source": [
    "A *random variable*, usually written *X*, is a variable whose possible values are numerical outcomes of a random phenomenon.\n",
    "\n",
    "Source: http://www.stat.yale.edu/Courses/1997-98/101/ranvar.htm#:~:text=Discrete%20Random%20Variables,then%20it%20must%20be%20discrete."
   ]
  },
  {
   "cell_type": "markdown",
   "id": "a5d3282e-c79e-452e-a3dc-cf746e32283e",
   "metadata": {},
   "source": [
    "## 4.1 Discrete Random Variables"
   ]
  },
  {
   "cell_type": "markdown",
   "id": "bb6a718e-6f85-48c8-9481-e1f089699c93",
   "metadata": {},
   "source": [
    "A *discrete random variable* is one which may take on only a countable number of distinct values such as 0,1,2,3,4,........ Discrete random variables are usually (but not necessarily) counts. If a random variable can take only a finite number of distinct values, then it must be discrete. Examples of discrete random variables include the number of children in a family, the number of patients in a doctor's surgery, the number of defective light bulbs in a box of ten."
   ]
  },
  {
   "cell_type": "markdown",
   "id": "ffc37f38-f5ac-489c-916a-1d79d7bbc155",
   "metadata": {},
   "source": [
    "## 4.2 Continuous Random Variables"
   ]
  },
  {
   "cell_type": "markdown",
   "id": "14e6ad92-5df7-4269-a091-7acc78041175",
   "metadata": {},
   "source": [
    "A *continuous random variable* is one which takes an infinite number of possible values. Continuous random variables are usually measurements. Examples include height, weight, the amount of sugar in an orange, the time required to run a mile."
   ]
  },
  {
   "cell_type": "markdown",
   "id": "9e408866-23d7-4808-aaa0-71aa2ab928f9",
   "metadata": {},
   "source": [
    "# Latex Styling Used in this Markdown Document"
   ]
  },
  {
   "cell_type": "markdown",
   "id": "3da61673-dadc-498d-8f04-098d39dbf962",
   "metadata": {},
   "source": [
    "1. Set notation, union: https://latex-tutorial.com/union-latex/\n",
    "2. Summation: https://www.physicsread.com/latex-summation/\n",
    "3. Set notations: https://www.geeksforgeeks.org/set-notations-in-latex/\n",
    "4. Equations: https://www.fabriziomusacchio.com/blog/2021-08-10-How_to_use_LaTeX_in_Markdown/"
   ]
  }
 ],
 "metadata": {
  "kernelspec": {
   "display_name": "itil",
   "language": "python",
   "name": "itil"
  },
  "language_info": {
   "codemirror_mode": {
    "name": "ipython",
    "version": 3
   },
   "file_extension": ".py",
   "mimetype": "text/x-python",
   "name": "python",
   "nbconvert_exporter": "python",
   "pygments_lexer": "ipython3",
   "version": "3.11.4"
  }
 },
 "nbformat": 4,
 "nbformat_minor": 5
}
