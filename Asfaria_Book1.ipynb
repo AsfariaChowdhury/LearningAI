{
 "cells": [
  {
   "cell_type": "markdown",
   "id": "0b787880-13a8-4e33-9738-2d57b80e41b0",
   "metadata": {},
   "source": [
    "# 1. NumPy"
   ]
  },
  {
   "cell_type": "code",
   "execution_count": 1,
   "id": "44b895d9-c75f-4cd2-bef9-f0b860df2f2e",
   "metadata": {
    "tags": []
   },
   "outputs": [],
   "source": [
    "import numpy as np"
   ]
  },
  {
   "cell_type": "code",
   "execution_count": 3,
   "id": "f49a84ef-2e8b-4a3e-b3c8-497b912feae3",
   "metadata": {
    "tags": []
   },
   "outputs": [],
   "source": [
    "cvalues = [20.1, 20.8, 21.9, 22.5, 22.7, 22.3, 21.8, 21.2, 20.9, 20.1]"
   ]
  },
  {
   "cell_type": "code",
   "execution_count": 4,
   "id": "aa5940c1-0ed9-4ee0-8874-09572023a30a",
   "metadata": {
    "tags": []
   },
   "outputs": [
    {
     "name": "stdout",
     "output_type": "stream",
     "text": [
      "[20.1 20.8 21.9 22.5 22.7 22.3 21.8 21.2 20.9 20.1]\n"
     ]
    }
   ],
   "source": [
    "c = np.array(cvalues)\n",
    "print(c)"
   ]
  },
  {
   "cell_type": "markdown",
   "id": "bc8a8a2d-521c-4530-a1a8-80a1e54d7481",
   "metadata": {},
   "source": [
    "Let's assume, we want to turn the values into degrees Fahrenheit. This is very easy to accomplish with a numpy array. The solution to our problem can be achieved by simple **scalar multiplication**:"
   ]
  },
  {
   "cell_type": "code",
   "execution_count": 5,
   "id": "04b17443-e9dc-4461-ad81-9d9fc1f2c7ee",
   "metadata": {
    "tags": []
   },
   "outputs": [
    {
     "name": "stdout",
     "output_type": "stream",
     "text": [
      "[68.18 69.44 71.42 72.5  72.86 72.14 71.24 70.16 69.62 68.18]\n"
     ]
    }
   ],
   "source": [
    "print(c*9/5+32)"
   ]
  },
  {
   "cell_type": "code",
   "execution_count": 6,
   "id": "41248759-515b-45bd-b5f6-9aabd2141120",
   "metadata": {
    "tags": []
   },
   "outputs": [
    {
     "name": "stdout",
     "output_type": "stream",
     "text": [
      "[20.1 20.8 21.9 22.5 22.7 22.3 21.8 21.2 20.9 20.1]\n"
     ]
    }
   ],
   "source": [
    "print(c)\n",
    "# c is unchanged"
   ]
  },
  {
   "cell_type": "code",
   "execution_count": 7,
   "id": "998471dc-91ce-42c9-b042-0ad4d992dd47",
   "metadata": {
    "tags": []
   },
   "outputs": [
    {
     "name": "stdout",
     "output_type": "stream",
     "text": [
      "[68.18, 69.44, 71.42, 72.5, 72.86, 72.14, 71.24000000000001, 70.16, 69.62, 68.18]\n"
     ]
    }
   ],
   "source": [
    "# solution in core python\n",
    "fvalues = [\n",
    "    x*9/5+32 for x in cvalues\n",
    "]\n",
    "print(fvalues)"
   ]
  },
  {
   "cell_type": "markdown",
   "id": "624f645d-a32d-482a-a486-8a1d1a0ac6ea",
   "metadata": {},
   "source": [
    "So far, we referred to C as an array. The internal type is \"ndarray\" or to be even more precise \"C is an instance of the class numpy.ndarray\":"
   ]
  },
  {
   "cell_type": "code",
   "execution_count": 8,
   "id": "79883995-db69-403a-9317-179abfbe8e9a",
   "metadata": {
    "tags": []
   },
   "outputs": [
    {
     "data": {
      "text/plain": [
       "numpy.ndarray"
      ]
     },
     "execution_count": 8,
     "metadata": {},
     "output_type": "execute_result"
    }
   ],
   "source": [
    "type(c)"
   ]
  },
  {
   "cell_type": "markdown",
   "id": "4e3eadba-8d2b-4768-b6f7-289ee1c4c2f4",
   "metadata": {},
   "source": [
    "# 2. Matplotlib"
   ]
  },
  {
   "cell_type": "code",
   "execution_count": 9,
   "id": "cb929001-10cc-4010-9444-674ec81405be",
   "metadata": {
    "tags": []
   },
   "outputs": [
    {
     "data": {
      "image/png": "[encoded data removed]",
      "text/plain": [
       "<Figure size 640x480 with 1 Axes>"
      ]
     },
     "metadata": {},
     "output_type": "display_data"
    }
   ],
   "source": [
    "import matplotlib.pyplot as plt\n",
    "\n",
    "plt.plot(c)\n",
    "plt.show()"
   ]
  },
  {
   "cell_type": "markdown",
   "id": "04c4c3ee-8f3d-439e-af0e-be9f0aa3610b",
   "metadata": {},
   "source": [
    "The function plot uses the values of the array C for the values of the ordinate, i.e. the y-axis. The indices of the array C are taken as values for the abscissa, i.e. the x-axis."
   ]
  },
  {
   "cell_type": "markdown",
   "id": "aa7b7487-f7db-4418-be5d-0dfdfe8e6e06",
   "metadata": {},
   "source": [
    "# 3. Memory Consumption"
   ]
  },
  {
   "cell_type": "code",
   "execution_count": 13,
   "id": "ad0641db-4a4e-4406-8b08-c0b0ceb0e0f2",
   "metadata": {
    "tags": []
   },
   "outputs": [
    {
     "name": "stdout",
     "output_type": "stream",
     "text": [
      "Size without the size of the elements:  88\n",
      "Size of all the elements:  84\n",
      "Total size of list, including elements:  172\n"
     ]
    }
   ],
   "source": [
    "from sys import getsizeof as size\n",
    "\n",
    "lst = [24,12,57]\n",
    "\n",
    "size_of_list_object = size(lst)\n",
    "size_of_elements = len(lst)*size(lst[0])\n",
    "\n",
    "total_list_size = size_of_list_object + size_of_elements\n",
    "print(\"Size without the size of the elements: \", size_of_list_object)\n",
    "print(\"Size of all the elements: \", size_of_elements)\n",
    "print(\"Total size of list, including elements: \", total_list_size)"
   ]
  },
  {
   "cell_type": "markdown",
   "id": "24f69610-5b2e-4c10-aa25-2ad34cbf4424",
   "metadata": {},
   "source": [
    "The size of a Python list consists of the general list information, the size needed for the references to the\n",
    "elements and the size of all the elements of the list. If we apply sys.getsizeof to a list, we get only the size\n",
    "without the size of the elements. In the previous example, we made the assumption that all the integer\n",
    "elements of our list have the same size. Of course, this is not valid in general, because memory consumption\n",
    "will be higher for larger integers."
   ]
  },
  {
   "cell_type": "markdown",
   "id": "b667beed-4ba9-4d4f-8c4d-c1216347f59f",
   "metadata": {},
   "source": [
    "******\n",
    "We will check now, how the memory usage changes, if we add another integer element to the list. We also\n",
    "look at an empty list:"
   ]
  },
  {
   "cell_type": "code",
   "execution_count": 14,
   "id": "87d24eaf-0133-4769-a196-5756941a66dd",
   "metadata": {
    "tags": []
   },
   "outputs": [
    {
     "name": "stdout",
     "output_type": "stream",
     "text": [
      "Size without the size of the elements:  88\n",
      "Size of all the elements:  112\n",
      "Total size of list, including elements:  200\n",
      "Empty list size:  56\n"
     ]
    }
   ],
   "source": [
    "lst = [24,12,57,42]\n",
    "\n",
    "size_of_list_object = size(lst)\n",
    "size_of_elements = len(lst)*size(lst[0])\n",
    "\n",
    "total_list_size = size_of_list_object + size_of_elements\n",
    "print(\"Size without the size of the elements: \", size_of_list_object)\n",
    "print(\"Size of all the elements: \", size_of_elements)\n",
    "print(\"Total size of list, including elements: \", total_list_size)\n",
    "\n",
    "lst = []\n",
    "print(\"Empty list size: \", size(lst))"
   ]
  },
  {
   "cell_type": "markdown",
   "id": "2a812fbf-238d-420c-8abc-df9c1bcb7613",
   "metadata": {},
   "source": [
    "The size of a list \"lst\" without the size of the elements can be calculated with:\n",
    "$$ 64 + 8 * len(lst) $$\n",
    "To get the complete size of an arbitrary list of integers, we have to add the sum of all the sizes of the integers."
   ]
  },
  {
   "cell_type": "code",
   "execution_count": 15,
   "id": "f307b1ee-0e74-4ba8-8df2-2a5e00df8b08",
   "metadata": {
    "tags": []
   },
   "outputs": [
    {
     "name": "stdout",
     "output_type": "stream",
     "text": [
      "124\n"
     ]
    }
   ],
   "source": [
    "# Compare numpy list size\n",
    "a = np.array([24,12,57])\n",
    "print(size(a))"
   ]
  },
  {
   "cell_type": "code",
   "execution_count": 16,
   "id": "578ff537-0697-4540-a74a-b71f2bdaa293",
   "metadata": {
    "tags": []
   },
   "outputs": [
    {
     "name": "stdout",
     "output_type": "stream",
     "text": [
      "112\n"
     ]
    }
   ],
   "source": [
    "e = np.array([])\n",
    "print(size(e))"
   ]
  },
  {
   "cell_type": "code",
   "execution_count": 18,
   "id": "3042292b-e161-4d84-9535-38ed74b9c1cb",
   "metadata": {
    "tags": []
   },
   "outputs": [
    {
     "name": "stdout",
     "output_type": "stream",
     "text": [
      "3\n"
     ]
    }
   ],
   "source": [
    "a = np.array([24,12,57],np.int8)\n",
    "print(size(a) - size(e))"
   ]
  },
  {
   "cell_type": "code",
   "execution_count": 19,
   "id": "8612f072-09ab-465e-9185-ccf76d2ee3f8",
   "metadata": {
    "tags": []
   },
   "outputs": [
    {
     "name": "stdout",
     "output_type": "stream",
     "text": [
      "6\n",
      "12\n",
      "24\n"
     ]
    }
   ],
   "source": [
    "a = np.array([24,12,57],np.int16)\n",
    "print(size(a) - size(e))\n",
    "\n",
    "a = np.array([24,12,57],np.int32)\n",
    "print(size(a) - size(e))\n",
    "\n",
    "a = np.array([24,12,57],np.int64)\n",
    "print(size(a) - size(e))"
   ]
  },
  {
   "cell_type": "markdown",
   "id": "bc2e009e-479d-4082-9de4-6c300f759abf",
   "metadata": {},
   "source": [
    "# 4. Time Comparision"
   ]
  },
  {
   "cell_type": "code",
   "execution_count": 3,
   "id": "e3f739d3-295c-405e-93f0-b48441b0f86e",
   "metadata": {
    "tags": []
   },
   "outputs": [],
   "source": [
    "import numpy as np"
   ]
  },
  {
   "cell_type": "code",
   "execution_count": 17,
   "id": "fd89d658-5f43-46d6-85d9-9c6696bf3f16",
   "metadata": {
    "tags": []
   },
   "outputs": [],
   "source": [
    "from decimal import Decimal"
   ]
  },
  {
   "cell_type": "code",
   "execution_count": 32,
   "id": "de194aed-7176-438f-b286-44ee3ff90cb8",
   "metadata": {},
   "outputs": [],
   "source": [
    "import time\n",
    "size_of_vec = 1000\n",
    "\n",
    "def pure_python_version():\n",
    "    t1 = time.time()\n",
    "    x = range(size_of_vec)\n",
    "    y = range(size_of_vec)\n",
    "    z = [x[i]+y[i] for i in range(len(x))]\n",
    "    return time.time()-t1\n",
    "\n",
    "def numpy_version():\n",
    "    t1 = time.time()\n",
    "    x = np.arange(size_of_vec)\n",
    "    y = np.arange(size_of_vec)\n",
    "    z = x+y\n",
    "    return time.time()-t1"
   ]
  },
  {
   "cell_type": "code",
   "execution_count": 31,
   "id": "beacb6c6-f286-4fc7-877e-ccb9f0f1ded0",
   "metadata": {
    "tags": []
   },
   "outputs": [
    {
     "name": "stdout",
     "output_type": "stream",
     "text": [
      "0.02532029151916504 0.0\n"
     ]
    },
    {
     "ename": "ZeroDivisionError",
     "evalue": "float division by zero",
     "output_type": "error",
     "traceback": [
      "\u001b[1;31m---------------------------------------------------------------------------\u001b[0m",
      "\u001b[1;31mZeroDivisionError\u001b[0m                         Traceback (most recent call last)",
      "Cell \u001b[1;32mIn[31], line 5\u001b[0m\n\u001b[0;32m      2\u001b[0m t2 \u001b[38;5;241m=\u001b[39m numpy_version()\n\u001b[0;32m      4\u001b[0m \u001b[38;5;28mprint\u001b[39m(t1,t2)\n\u001b[1;32m----> 5\u001b[0m \u001b[38;5;28mprint\u001b[39m(\u001b[38;5;124m\"\u001b[39m\u001b[38;5;124mNumPy is in this example \u001b[39m\u001b[38;5;124m\"\u001b[39m,t1\u001b[38;5;241m/\u001b[39mt2,\u001b[38;5;124m\"\u001b[39m\u001b[38;5;124m faster!\u001b[39m\u001b[38;5;124m\"\u001b[39m)\n",
      "\u001b[1;31mZeroDivisionError\u001b[0m: float division by zero"
     ]
    }
   ],
   "source": [
    "t1 = pure_python_version()\n",
    "t2 = numpy_version()\n",
    "\n",
    "print(t1,t2)\n",
    "print(\"NumPy is in this example \",t1/t2,\" faster!\")"
   ]
  },
  {
   "cell_type": "markdown",
   "id": "e282d194-a3f2-49ac-b78d-898935cddc61",
   "metadata": {},
   "source": [
    "A Timer object has a timeit method. timeit is called with a parameter number:\n",
    "```\n",
    "timeit(number=1000000)\n",
    "```\n",
    "The main statement will be executed \"number\" times. This executes the setup statement once, and then returns\n",
    "the time it takes to execute the main statement a \"number\" of times. It returns the time in seconds.\n"
   ]
  },
  {
   "cell_type": "code",
   "execution_count": 33,
   "id": "e71935b7-b055-4ac0-8357-4322dc4d8dfb",
   "metadata": {
    "tags": []
   },
   "outputs": [
    {
     "name": "stdout",
     "output_type": "stream",
     "text": [
      "time for pure Python version:  0.007648700004210696\n",
      "time for Numpy version:  0.00016909997793845832\n",
      "Numpy was   45.23 times faster!\n",
      "time for pure Python version:  0.003108000004431233\n",
      "time for Numpy version:  6.890000076964498e-05\n",
      "Numpy was   45.11 times faster!\n",
      "time for pure Python version:  0.005172699980903417\n",
      "time for Numpy version:  6.670001312159002e-05\n",
      "Numpy was   77.55 times faster!\n"
     ]
    }
   ],
   "source": [
    "import numpy as np\n",
    "from timeit import Timer\n",
    "\n",
    "size_of_vec = 1000\n",
    "\n",
    "X_list = range(size_of_vec)\n",
    "Y_list = range(size_of_vec)\n",
    "\n",
    "X = np.arange(size_of_vec)\n",
    "Y = np.arange(size_of_vec)\n",
    "\n",
    "def pure_python_version():\n",
    "    Z = [X_list[i] + Y_list[i] for i in range(len(X_list)) ]\n",
    "\n",
    "def numpy_version():\n",
    "    Z = X + Y\n",
    "\n",
    "#timer_obj = Timer(\"x = x + 1\", \"x = 0\")\n",
    "timer_obj1 = Timer(\"pure_python_version()\",\n",
    "    \"from __main__ import pure_python_version\")\n",
    "timer_obj2 = Timer(\"numpy_version()\",\n",
    "    \"from __main__ import numpy_version\")\n",
    "\n",
    "for i in range(3):\n",
    "    t1 = timer_obj1.timeit(10)\n",
    "    t2 = timer_obj2.timeit(10)\n",
    "    print(\"time for pure Python version: \", t1)\n",
    "    print(\"time for Numpy version: \", t2)\n",
    "    print(f\"Numpy was {t1 / t2:7.2f} times faster!\")"
   ]
  },
  {
   "cell_type": "markdown",
   "id": "60b5dd9d-6e60-4c30-b95b-b13c1636720d",
   "metadata": {},
   "source": [
    "The repeat() method is a convenience to call timeit() multiple times and return a list of results:"
   ]
  },
  {
   "cell_type": "code",
   "execution_count": 34,
   "id": "a868ff47-4fe1-4931-8151-1a71958533a2",
   "metadata": {
    "tags": []
   },
   "outputs": [
    {
     "name": "stdout",
     "output_type": "stream",
     "text": [
      "[0.004674600000726059, 0.004917099984595552, 0.003501800005324185]\n",
      "[0.000687599997036159, 3.779999678954482e-05, 3.0199997127056122e-05]\n"
     ]
    }
   ],
   "source": [
    "print(timer_obj1.repeat(repeat=3, number=10))\n",
    "print(timer_obj2.repeat(repeat=3, number=10))\n"
   ]
  },
  {
   "cell_type": "markdown",
   "id": "0033f736-d89a-42c1-a26e-e9fcc5a37bc1",
   "metadata": {},
   "source": [
    "# 5. NumPy Tutorial: Creating Arrays"
   ]
  },
  {
   "cell_type": "markdown",
   "id": "50288be6-065a-4acb-bdd0-230b873e8440",
   "metadata": {},
   "source": [
    "**'arange'**: uses a\n",
    "given distance.\n",
    "***\n",
    "**'linspace'**: needs the number of\n",
    "elements and creates the distance automatically."
   ]
  },
  {
   "cell_type": "markdown",
   "id": "0f2043ee-a5d7-42a9-8803-fb86be3f5fc8",
   "metadata": {},
   "source": [
    "## 5.1 **arange**"
   ]
  },
  {
   "cell_type": "markdown",
   "id": "4ce3f5f6-6939-4a21-8cca-4a1d9cf4de4f",
   "metadata": {},
   "source": [
    "```\n",
    "arange([start,] stop[, step], [, dtype=None])\n",
    "```"
   ]
  },
  {
   "cell_type": "markdown",
   "id": "550e7cd1-d47f-462c-8915-aef08cc0755a",
   "metadata": {},
   "source": [
    "arange returns evenly spaced values within a given interval. The values are generated within the half-open\n",
    "interval `[start, stop)` If the function is used with integers, it is nearly equivalent to the Python built-in function\n",
    "range, but arange returns an ndarray rather than a list iterator as range does. If the 'start' parameter is not given,\n",
    "it will be set to 0. The end of the interval is determined by the parameter 'stop'. Usually, the interval will not\n",
    "include this value, except in some cases where 'step' is not an integer and floating point round-off affects the\n",
    "length of output ndarray. The spacing between two adjacent values of the output array is set with the optional\n",
    "parameter 'step'. The default value for 'step' is 1. If the parameter 'step' is given, the 'start' parameter cannot be\n",
    "optional, i.e. it has to be given as well. The type of the output array can be specified with the parameter 'dtype'.\n",
    "If it is not given, the type will be automatically inferred from the other input arguments."
   ]
  },
  {
   "cell_type": "code",
   "execution_count": 2,
   "id": "341932a3-4b3d-4e55-ae4a-787af3e2829e",
   "metadata": {
    "tags": []
   },
   "outputs": [
    {
     "name": "stdout",
     "output_type": "stream",
     "text": [
      "[1 2 3 4 5 6 7 8 9]\n",
      "range(1, 10)\n",
      "[ 0.  1.  2.  3.  4.  5.  6.  7.  8.  9. 10.]\n",
      "[ 0.5  1.3  2.1  2.9  3.7  4.5  5.3  6.1  6.9  7.7  8.5  9.3 10.1]\n"
     ]
    }
   ],
   "source": [
    "import numpy as np\n",
    "\n",
    "a = np.arange(1,10)\n",
    "print(a)\n",
    "\n",
    "x = range(1,10)\n",
    "print(x)\n",
    "\n",
    "# further arange examples\n",
    "x = np.arange(10.4)\n",
    "print(x)\n",
    "\n",
    "x = np.arange(0.5,10.4,0.8)\n",
    "print(x)"
   ]
  },
  {
   "cell_type": "markdown",
   "id": "2bf83d3e-918c-48ad-96d5-3eff9894fe05",
   "metadata": {},
   "source": [
    " \"End of interval\": The interval does\n",
    "not include this value, except in some cases where step is not an integer and floating point round-off\n",
    "affects the length of out."
   ]
  },
  {
   "cell_type": "markdown",
   "id": "e8613ee5-9360-4878-ada3-9f6d2f631a50",
   "metadata": {},
   "source": [
    "NB: *When using a non-integer step, such\n",
    "as 0.1, the results will often not be consistent. It is better to use numpy.linspace for these cases.*"
   ]
  },
  {
   "cell_type": "markdown",
   "id": "a2d6f466-8b3e-4586-ac5f-be40f6cc6a59",
   "metadata": {},
   "source": [
    "## 5.2 Linspace"
   ]
  },
  {
   "cell_type": "markdown",
   "id": "7960815e-6b44-47e2-9184-a0da9b5c0ae4",
   "metadata": {},
   "source": [
    "`linspace(start, stop, num=50, endpoint=True, retstep=False)`"
   ]
  },
  {
   "cell_type": "markdown",
   "id": "d69bd862-7b0a-4cc7-8409-f1a19ba96412",
   "metadata": {},
   "source": [
    "linspace returns an ndarray, consisting of 'num' equally spaced samples in the closed interval [start, stop] or the\n",
    "half-open interval [start, stop). If a closed or a half-open interval will be returned, depends on whether\n",
    "'endpoint' is True or False. The parameter 'start' defines the start value of the sequence which will be created.\n",
    "'stop' will the end value of the sequence, unless 'endpoint' is set to False. Note that the step size changes when 'endpoint' is False. The number of samples to be generated can be set\n",
    "with 'num', which defaults to 50. If the optional parameter 'endpoint' is set to True (the default), 'stop' will be\n",
    "the last sample of the sequence. Otherwise, it is not included."
   ]
  },
  {
   "cell_type": "code",
   "execution_count": 1,
   "id": "32c2531e-41d8-45b5-8c73-1bb96bbf866a",
   "metadata": {
    "tags": []
   },
   "outputs": [],
   "source": [
    "import numpy as np"
   ]
  },
  {
   "cell_type": "code",
   "execution_count": 2,
   "id": "9496277e-f19f-42c1-a149-dfb5f45fe8c1",
   "metadata": {
    "tags": []
   },
   "outputs": [
    {
     "name": "stdout",
     "output_type": "stream",
     "text": [
      "[ 1.          1.18367347  1.36734694  1.55102041  1.73469388  1.91836735\n",
      "  2.10204082  2.28571429  2.46938776  2.65306122  2.83673469  3.02040816\n",
      "  3.20408163  3.3877551   3.57142857  3.75510204  3.93877551  4.12244898\n",
      "  4.30612245  4.48979592  4.67346939  4.85714286  5.04081633  5.2244898\n",
      "  5.40816327  5.59183673  5.7755102   5.95918367  6.14285714  6.32653061\n",
      "  6.51020408  6.69387755  6.87755102  7.06122449  7.24489796  7.42857143\n",
      "  7.6122449   7.79591837  7.97959184  8.16326531  8.34693878  8.53061224\n",
      "  8.71428571  8.89795918  9.08163265  9.26530612  9.44897959  9.63265306\n",
      "  9.81632653 10.        ]\n"
     ]
    }
   ],
   "source": [
    "# 50 values between 1 and 10:\n",
    "print(np.linspace(1,10))"
   ]
  },
  {
   "cell_type": "code",
   "execution_count": 3,
   "id": "2f101aeb-90b7-4f35-838a-9c478fc25c1c",
   "metadata": {
    "tags": []
   },
   "outputs": [
    {
     "name": "stdout",
     "output_type": "stream",
     "text": [
      "[ 1.   2.5  4.   5.5  7.   8.5 10. ]\n"
     ]
    }
   ],
   "source": [
    "# 7 values between 1 and 10\n",
    "print(np.linspace(1,10,7))"
   ]
  },
  {
   "cell_type": "code",
   "execution_count": 4,
   "id": "8ee09027-63cf-4877-b7c6-0f4e657f1dca",
   "metadata": {
    "tags": []
   },
   "outputs": [
    {
     "name": "stdout",
     "output_type": "stream",
     "text": [
      "[1.         2.28571429 3.57142857 4.85714286 6.14285714 7.42857143\n",
      " 8.71428571]\n"
     ]
    }
   ],
   "source": [
    "# excluding endpoint:\n",
    "print(np.linspace(1,10,7,endpoint=False))"
   ]
  },
  {
   "cell_type": "markdown",
   "id": "3d3a83f9-7ac2-458a-8228-0773c8c4dc95",
   "metadata": {},
   "source": [
    " If the optional parameter 'retstep' is set, the function\n",
    "will also return the value of the spacing between adjacent values. So, the function will return a tuple\n",
    "('samples', 'step'):"
   ]
  },
  {
   "cell_type": "code",
   "execution_count": 6,
   "id": "d6ec51c5-4547-4f85-bdb1-38774ff688df",
   "metadata": {
    "tags": []
   },
   "outputs": [
    {
     "name": "stdout",
     "output_type": "stream",
     "text": [
      "0.1836734693877551\n"
     ]
    }
   ],
   "source": [
    "samples, spacing = np.linspace(1,10,retstep=True)\n",
    "print(spacing)"
   ]
  },
  {
   "cell_type": "code",
   "execution_count": 7,
   "id": "c7625ee9-0231-4468-91eb-4e61bec2b787",
   "metadata": {
    "tags": []
   },
   "outputs": [
    {
     "name": "stdout",
     "output_type": "stream",
     "text": [
      "0.47368421052631576\n"
     ]
    }
   ],
   "source": [
    "samples, spacing = np.linspace(1,10,20,endpoint=True, retstep=True)\n",
    "print(spacing)"
   ]
  },
  {
   "cell_type": "code",
   "execution_count": 9,
   "id": "d8158fa7-63bf-466b-bf5e-539b107dd0a5",
   "metadata": {
    "tags": []
   },
   "outputs": [
    {
     "name": "stdout",
     "output_type": "stream",
     "text": [
      "0.45\n"
     ]
    }
   ],
   "source": [
    "samples, spacing = np.linspace(1,10,20,endpoint=False,retstep=True)\n",
    "print(spacing)"
   ]
  },
  {
   "cell_type": "markdown",
   "id": "e7831dcd-a614-4029-9a6b-1d3daacfb161",
   "metadata": {},
   "source": [
    "## 5.3 Zero-dimensional Arrays in NumPy"
   ]
  },
  {
   "cell_type": "markdown",
   "id": "ae6eeca3-2a6d-4254-a00e-647d2359fc90",
   "metadata": {},
   "source": [
    " Scalars are zero dimensional."
   ]
  },
  {
   "cell_type": "code",
   "execution_count": 1,
   "id": "0f4bb888-2264-459f-856c-2eab757b2a6d",
   "metadata": {
    "tags": []
   },
   "outputs": [
    {
     "name": "stdout",
     "output_type": "stream",
     "text": [
      "x:  42\n",
      "The type of x:  <class 'numpy.ndarray'>\n",
      "The dimension of x:  0\n"
     ]
    }
   ],
   "source": [
    "import numpy as np\n",
    "\n",
    "x = np.array(42)\n",
    "\n",
    "print(\"x: \", x)\n",
    "print(\"The type of x: \", type(x))\n",
    "print(\"The dimension of x: \",\n",
    "     np.ndim(x))"
   ]
  },
  {
   "cell_type": "markdown",
   "id": "cc715dbc-eebb-4539-8cc2-eca857f474bb",
   "metadata": {},
   "source": [
    "## 5.4 One-dimensional Arrays"
   ]
  },
  {
   "cell_type": "code",
   "execution_count": null,
   "id": "e99a313a-6340-4b68-ae88-ed6949373ea5",
   "metadata": {},
   "outputs": [],
   "source": []
  }
 ],
 "metadata": {
  "kernelspec": {
   "display_name": "itil",
   "language": "python",
   "name": "itil"
  },
  "language_info": {
   "codemirror_mode": {
    "name": "ipython",
    "version": 3
   },
   "file_extension": ".py",
   "mimetype": "text/x-python",
   "name": "python",
   "nbconvert_exporter": "python",
   "pygments_lexer": "ipython3",
   "version": "3.11.4"
  }
 },
 "nbformat": 4,
 "nbformat_minor": 5
}
